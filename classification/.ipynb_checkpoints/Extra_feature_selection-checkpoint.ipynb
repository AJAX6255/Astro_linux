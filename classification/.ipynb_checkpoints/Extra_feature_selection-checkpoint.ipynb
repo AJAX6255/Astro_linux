{
 "cells": [
  {
   "cell_type": "markdown",
   "metadata": {},
   "source": [
    "### Dependencies"
   ]
  },
  {
   "cell_type": "code",
   "execution_count": 1,
   "metadata": {
    "collapsed": true
   },
   "outputs": [],
   "source": [
    "import sqlite3 # Database library.\n",
    "import os # Folder management library.\n",
    "import pickle # Serializing module.\n",
    "import numpy as np # Scientific computing library.\n",
    "from sklearn.feature_selection import SelectFromModel # Feature selection library.\n",
    "# Classifier used in feature selection technique -- SelectFromModel.\n",
    "from sklearn.svm import LinearSVC\n",
    "from sklearn.ensemble import ExtraTreesClassifier"
   ]
  },
  {
   "cell_type": "markdown",
   "metadata": {},
   "source": [
    "### Retrieve Binary Data Sets -- Train, CV, Test"
   ]
  },
  {
   "cell_type": "code",
   "execution_count": 2,
   "metadata": {},
   "outputs": [
    {
     "name": "stdout",
     "output_type": "stream",
     "text": [
      "Done.\n"
     ]
    }
   ],
   "source": [
    "# Initializing database and cursor.\n",
    "star_data_db = sqlite3.connect('star_data_sets_binary.db')\n",
    "star_data_cursor = star_data_db.cursor()\n",
    "\n",
    "sets = ['train_set', 'test_set', 'cv_set']\n",
    "set_types = ['X', 'Y']\n",
    "\n",
    "X_train, X_cv, X_test = [], [], []\n",
    "y_train, y_cv, y_test = [], [], []\n",
    "\n",
    "data_temp = []\n",
    "for dset in sets:\n",
    "    for set_type in set_types:\n",
    "        star_data_cursor.execute('SELECT '+set_type+' FROM '+dset)\n",
    "        for row in star_data_cursor.fetchall():\n",
    "            # Deserializing features.\n",
    "            data = pickle.loads(row[0])\n",
    "            data_temp.append(data)\n",
    "\n",
    "X_train = np.array(data_temp[0])\n",
    "y_train = np.array(data_temp[1])\n",
    "\n",
    "X_test = np.array(data_temp[2])\n",
    "y_test = np.array(data_temp[3])\n",
    "\n",
    "X_cv = np.array(data_temp[4])\n",
    "y_cv = np.array(data_temp[5])\n",
    "\n",
    "print('Done.')"
   ]
  },
  {
   "cell_type": "markdown",
   "metadata": {},
   "source": [
    "### The Features"
   ]
  },
  {
   "cell_type": "code",
   "execution_count": 3,
   "metadata": {
    "collapsed": true
   },
   "outputs": [],
   "source": [
    "feature_names = ['Amplitude', 'AndersonDarling', 'Autocor_length', 'Beyond1Std', 'CAR_mean', \n",
    "                 'CAR_sigma', 'CAR_tau', 'Con', 'Eta_e', 'FluxPercentileRatioMid20', \n",
    "                 'FluxPercentileRatioMid35', 'FluxPercentileRatioMid50','FluxPercentileRatioMid65',\n",
    "                 'FluxPercentileRatioMid80', 'Freq1_harmonics_amplitude_0', \n",
    "                 'Freq1_harmonics_amplitude_1', 'Freq1_harmonics_amplitude_2', \n",
    "                 'Freq1_harmonics_amplitude_3', 'Freq1_harmonics_rel_phase_0',\n",
    "                 'Freq1_harmonics_rel_phase_1', 'Freq1_harmonics_rel_phase_2', \n",
    "                 'Freq1_harmonics_rel_phase_3', 'Freq2_harmonics_amplitude_0', \n",
    "                 'Freq2_harmonics_amplitude_1', 'Freq2_harmonics_amplitude_2', \n",
    "                 'Freq2_harmonics_amplitude_3', 'Freq2_harmonics_rel_phase_0',\n",
    "                 'Freq2_harmonics_rel_phase_1', 'Freq2_harmonics_rel_phase_2', \n",
    "                 'Freq2_harmonics_rel_phase_3', 'Freq3_harmonics_amplitude_0', \n",
    "                 'Freq3_harmonics_amplitude_1', 'Freq3_harmonics_amplitude_2', \n",
    "                 'Freq3_harmonics_amplitude_3', 'Freq3_harmonics_rel_phase_0', \n",
    "                 'Freq3_harmonics_rel_phase_1','Freq3_harmonics_rel_phase_2', \n",
    "                 'Freq3_harmonics_rel_phase_3', 'Gskew', 'LinearTrend', 'MaxSlope','Mean', \n",
    "                 'Meanvariance', 'MedianAbsDev', 'MedianBRP', 'PairSlopeTrend', 'PercentAmplitude', \n",
    "                 'PercentDifferenceFluxPercentile', 'Period_fit', 'PeriodLS', 'Psi_CS', 'Psi_eta', 'Q31',\n",
    "                 'Rcs', 'Skew', 'SlottedA_length', 'SmallKurtosis', 'Std', 'StetsonK', 'StetsonK_AC', \n",
    "                 'StructureFunction_index_21', 'StructureFunction_index_31', 'StructureFunction_index_32',\n",
    "                 'Colour']"
   ]
  },
  {
   "cell_type": "markdown",
   "metadata": {},
   "source": [
    "### Feature selection using SelectFromModel and Various Classifiers\n",
    "Classifiers used include: LinearSVC, ExtraTreesClassifier."
   ]
  },
  {
   "cell_type": "code",
   "execution_count": 3,
   "metadata": {},
   "outputs": [
    {
     "name": "stdout",
     "output_type": "stream",
     "text": [
      "(6460, 64)  Is the original size.\n",
      "(6460, 39)  Is the new size.\n",
      "\n",
      "39  features were selected to be important.\n",
      "The selected features are:\n",
      "\n",
      "AndersonDarling\n",
      "Autocor_length\n",
      "Beyond1Std\n",
      "CAR_mean\n",
      "CAR_sigma\n",
      "CAR_tau\n",
      "FluxPercentileRatioMid20\n",
      "FluxPercentileRatioMid35\n",
      "FluxPercentileRatioMid50\n",
      "FluxPercentileRatioMid65\n",
      "FluxPercentileRatioMid80\n",
      "Freq1_harmonics_amplitude_0\n",
      "Freq1_harmonics_rel_phase_1\n",
      "Freq1_harmonics_rel_phase_2\n",
      "Freq2_harmonics_rel_phase_1\n",
      "Freq2_harmonics_rel_phase_2\n",
      "Freq2_harmonics_rel_phase_3\n",
      "Freq3_harmonics_rel_phase_1\n",
      "Freq3_harmonics_rel_phase_2\n",
      "Freq3_harmonics_rel_phase_3\n",
      "Gskew\n",
      "MaxSlope\n",
      "Mean\n",
      "MedianBRP\n",
      "PairSlopeTrend\n",
      "Period_fit\n",
      "Psi_CS\n",
      "Psi_eta\n",
      "Q31\n",
      "Rcs\n",
      "Skew\n",
      "SlottedA_length\n",
      "SmallKurtosis\n",
      "StetsonK\n",
      "StetsonK_AC\n",
      "StructureFunction_index_21\n",
      "StructureFunction_index_31\n",
      "StructureFunction_index_32\n",
      "Colour\n"
     ]
    }
   ],
   "source": [
    "# The smaller C the fewer features selected.\n",
    "fs_model = SelectFromModel(LinearSVC(C=0.1, penalty=\"l1\", dual=False))\n",
    "fs_model.fit(X_train, y_train)\n",
    "\n",
    "# Size of original and new training data features.\n",
    "print(X_train.shape, ' Is the original size.')\n",
    "print(fs_model.transform(X_train).shape, ' Is the new size.\\n')\n",
    "\n",
    "# List features that were determined to be important.\n",
    "selected_features = fs_model.get_support()\n",
    "selected_ind = np.where(selected_features == True)[0]\n",
    "\n",
    "print(len(selected_ind), ' features were selected to be important.')\n",
    "print('The selected features are:\\n')\n",
    "for ind in selected_ind:\n",
    "    print(feature_names[ind])"
   ]
  },
  {
   "cell_type": "code",
   "execution_count": 5,
   "metadata": {},
   "outputs": [
    {
     "name": "stdout",
     "output_type": "stream",
     "text": [
      "(6460, 64)  Is the original size.\n",
      "(6460, 29)  Is the new size.\n",
      "\n",
      "29  features were selected to be important.\n",
      "The selected features are:\n",
      "\n",
      "Amplitude\n",
      "Autocor_length\n",
      "Beyond1Std\n",
      "CAR_mean\n",
      "CAR_tau\n",
      "FluxPercentileRatioMid20\n",
      "FluxPercentileRatioMid35\n",
      "FluxPercentileRatioMid50\n",
      "FluxPercentileRatioMid65\n",
      "FluxPercentileRatioMid80\n",
      "Freq1_harmonics_amplitude_0\n",
      "Freq1_harmonics_amplitude_1\n",
      "Gskew\n",
      "Mean\n",
      "Meanvariance\n",
      "MedianAbsDev\n",
      "MedianBRP\n",
      "PercentAmplitude\n",
      "PercentDifferenceFluxPercentile\n",
      "Period_fit\n",
      "Psi_eta\n",
      "Q31\n",
      "Rcs\n",
      "Skew\n",
      "SlottedA_length\n",
      "Std\n",
      "StetsonK\n",
      "StetsonK_AC\n",
      "Colour\n",
      "{'estimator__max_features': 'auto', 'estimator__n_estimators': 250, 'estimator__min_samples_leaf': 1, 'estimator__n_jobs': 1, 'estimator__min_impurity_decrease': 0.0, 'estimator__oob_score': False, 'estimator__verbose': 0, 'estimator__min_weight_fraction_leaf': 0.0, 'estimator__random_state': 0, 'estimator__max_leaf_nodes': None, 'estimator__min_samples_split': 2, 'estimator__class_weight': None, 'estimator': ExtraTreesClassifier(bootstrap=False, class_weight=None, criterion='gini',\n",
      "           max_depth=None, max_features='auto', max_leaf_nodes=None,\n",
      "           min_impurity_decrease=0.0, min_impurity_split=None,\n",
      "           min_samples_leaf=1, min_samples_split=2,\n",
      "           min_weight_fraction_leaf=0.0, n_estimators=250, n_jobs=1,\n",
      "           oob_score=False, random_state=0, verbose=0, warm_start=False), 'estimator__max_depth': None, 'prefit': False, 'estimator__min_impurity_split': None, 'estimator__warm_start': False, 'estimator__bootstrap': False, 'estimator__criterion': 'gini', 'threshold': None, 'norm_order': 1}\n"
     ]
    }
   ],
   "source": [
    "fs_model = SelectFromModel(ExtraTreesClassifier(n_estimators=250, random_state=0))\n",
    "fs_model.fit(X_train, y_train)\n",
    "\n",
    "# Size of original and new training data features.\n",
    "print(X_train.shape, ' Is the original size.')\n",
    "print(fs_model.transform(X_train).shape, ' Is the new size.\\n')\n",
    "\n",
    "# List features that were determined to be important.\n",
    "selected_features = fs_model.get_support()\n",
    "selected_ind = np.where(selected_features == True)[0]\n",
    "\n",
    "print(len(selected_ind), ' features were selected to be important.')\n",
    "print('The selected features are:\\n')\n",
    "for ind in selected_ind:\n",
    "    print(feature_names[ind])"
   ]
  },
  {
   "cell_type": "code",
   "execution_count": null,
   "metadata": {
    "collapsed": true
   },
   "outputs": [],
   "source": []
  }
 ],
 "metadata": {
  "kernelspec": {
   "display_name": "Python [conda root]",
   "language": "python",
   "name": "conda-root-py"
  },
  "language_info": {
   "codemirror_mode": {
    "name": "ipython",
    "version": 3
   },
   "file_extension": ".py",
   "mimetype": "text/x-python",
   "name": "python",
   "nbconvert_exporter": "python",
   "pygments_lexer": "ipython3",
   "version": "3.5.4"
  }
 },
 "nbformat": 4,
 "nbformat_minor": 1
}
