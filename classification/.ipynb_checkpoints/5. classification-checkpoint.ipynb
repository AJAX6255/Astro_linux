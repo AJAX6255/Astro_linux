{
 "cells": [
  {
   "cell_type": "markdown",
   "metadata": {},
   "source": [
    "### Optimization Techniques\n",
    "Methods to improve the accuracy or convergence time of an algorithm are:\n",
    "* Removing Outliers\n",
    "\n",
    "\n",
    "* Feature scaling.  It involves rescaling the features such that they have the properties of a standard normal distribution with a mean of zero and a standard deviation of one.  This will improve the time it takes to reach the optimal solution.\n",
    "\n",
    "\n",
    "* Dimensionality reduction with \"PCA\" or applying \"Feature Selection\" techniques. This reduces the complexity of the model, ergo, allowing it to be visualized better. Also, this improves convergence time.\n",
    "\n",
    "\n",
    "* Tune parameters for classifier. Any parameter provided when constructing a classifer may be optimized to improve accuracy of model. A validation curve can be constructed to determine the optimal value for a given parameter, http://scikit-learn.org/stable/modules/learning_curve.html#validation-curve.\n",
    "\n",
    "\n",
    "* Plot learning curves.  A learning curve displays if the algorithm is suffering from over-fitting, under-fitting, and if using more training examples will suffiently improve the algorithm's accuracy.\n",
    "\n",
    "\n",
    "* Try different algorithms. For example, random forrest, svm, neural networks."
   ]
  },
  {
   "cell_type": "markdown",
   "metadata": {},
   "source": [
    "### Dependencies"
   ]
  },
  {
   "cell_type": "code",
   "execution_count": 1,
   "metadata": {
    "collapsed": true
   },
   "outputs": [],
   "source": [
    "%matplotlib inline\n",
    "from sklearn import svm # SVM classifier.\n",
    "from sklearn.model_selection import GridSearchCV # Tuning hyper-parameters\n",
    "from sklearn.preprocessing import StandardScaler # Feature scaling library.\n",
    "import sqlite3 # Database library.\n",
    "import os # Folder management library.\n",
    "import pickle # Serializing module.\n",
    "import numpy as np # Scientific computing library.\n",
    "from sklearn.decomposition import PCA # Princliple Component Analysis library.\n",
    "import random # For some randomness\n",
    "from sklearn.ensemble import RandomForestClassifier # Random forrest classifier.\n",
    "from sklearn.model_selection import learning_curve # Learning curve lobrary.\n",
    "from sklearn.model_selection import ShuffleSplit # For learning curve.\n",
    "import matplotlib.pyplot as plt # Plotting "
   ]
  },
  {
   "cell_type": "markdown",
   "metadata": {},
   "source": [
    "### Retrieve Data Sets"
   ]
  },
  {
   "cell_type": "code",
   "execution_count": 2,
   "metadata": {},
   "outputs": [
    {
     "name": "stdout",
     "output_type": "stream",
     "text": [
      "Done.\n"
     ]
    }
   ],
   "source": [
    "# Initializing database and cursor.\n",
    "star_data_db = sqlite3.connect('star_data_sets_binary_removed_outliers.db')\n",
    "star_data_cursor = star_data_db.cursor()\n",
    "\n",
    "sets = ['train_set', 'test_set', 'cv_set']\n",
    "set_types = ['X', 'Y']\n",
    "\n",
    "X_train, X_cv, X_test = [], [], []\n",
    "y_train, y_cv, y_test = [], [], []\n",
    "\n",
    "data_temp = []\n",
    "for dset in sets:\n",
    "    for set_type in set_types:\n",
    "        star_data_cursor.execute('SELECT '+set_type+' FROM '+dset)\n",
    "        for row in star_data_cursor.fetchall():\n",
    "            # Deserializing features.\n",
    "            data = pickle.loads(row[0])\n",
    "            data_temp.append(data)\n",
    "\n",
    "X_train = np.array(data_temp[0])\n",
    "y_train = np.array(data_temp[1])\n",
    "\n",
    "X_test = np.array(data_temp[2])\n",
    "y_test = np.array(data_temp[3])\n",
    "\n",
    "X_cv = np.array(data_temp[4])\n",
    "y_cv = np.array(data_temp[5])\n",
    "\n",
    "print('Done.')"
   ]
  },
  {
   "cell_type": "markdown",
   "metadata": {},
   "source": [
    "### Merging Train and CV Sets\n",
    "The CV and training sets were initially seperate, but we will be using K-fold cross-validation techniques.  Hence, the CV and trains sets will be merged."
   ]
  },
  {
   "cell_type": "code",
   "execution_count": 3,
   "metadata": {},
   "outputs": [
    {
     "name": "stdout",
     "output_type": "stream",
     "text": [
      "(6460, 64) (1747, 64)\n",
      "(8207, 64) (8207,)\n"
     ]
    }
   ],
   "source": [
    "print(X_train.shape, X_cv.shape)\n",
    "\n",
    "X_train = np.concatenate((X_train, X_cv), axis=0)\n",
    "y_train = np.concatenate((y_train, y_cv), axis=0)\n",
    "\n",
    "print(X_train.shape, y_train.shape)"
   ]
  },
  {
   "cell_type": "markdown",
   "metadata": {},
   "source": [
    "### Feature Scaling\n",
    "This will center the data for each feature by substracting the mean, and normalize it by dividing by the standard deviation (std).\n",
    "\n",
    "\n",
    "Note: the mean and std of the training set is used and NOT the test set as to not give information to the classifier about the test set."
   ]
  },
  {
   "cell_type": "code",
   "execution_count": 4,
   "metadata": {},
   "outputs": [
    {
     "name": "stdout",
     "output_type": "stream",
     "text": [
      "Done\n"
     ]
    }
   ],
   "source": [
    "# Get mean and std of training set.\n",
    "scaler = StandardScaler()\n",
    "scaler.fit(X_train)\n",
    "\n",
    "# Scale features of train and test sets using mean and std of train set.\n",
    "X_train=scaler.transform(X_train)\n",
    "X_test=scaler.transform(X_test)\n",
    "\n",
    "print('Done')"
   ]
  },
  {
   "cell_type": "markdown",
   "metadata": {},
   "source": [
    "### Princliple Component Analysis (PCA)\n",
    "This will reduce the dimensionality while still maintating 99% of the variation in the data set. This significantly improves the convergence time."
   ]
  },
  {
   "cell_type": "code",
   "execution_count": 5,
   "metadata": {},
   "outputs": [
    {
     "name": "stdout",
     "output_type": "stream",
     "text": [
      "[ 0.22946916  0.1492121   0.07997562  0.04660484  0.03831408  0.03394071\n",
      "  0.03295735  0.03180765  0.02838721  0.0257649   0.023868    0.02122975\n",
      "  0.02067399  0.01722213  0.0159777   0.0150636   0.01422896  0.01409813\n",
      "  0.01059631  0.01008938  0.00944942  0.00860538  0.00844368  0.00832743\n",
      "  0.00829446  0.00805675  0.00800575  0.00767026  0.00707921  0.00657281\n",
      "  0.0061162   0.00540241  0.00525031  0.00460272  0.00428438  0.00399278\n",
      "  0.00342608  0.00329999  0.0029669   0.00274739  0.00235956  0.00229802\n",
      "  0.00189824  0.00180002  0.00166999]\n",
      "0.992101696566 This is the amount of variation maintained with pca.\n",
      "(8207, 64) (1870, 64)\n",
      "(8207, 45) (1870, 45)\n"
     ]
    }
   ],
   "source": [
    "pca = PCA(n_components=45)\n",
    "pca.fit(X_train)\n",
    "\n",
    "X_train_pca = pca.transform(X_train)\n",
    "X_test_pca = pca.transform(X_test)\n",
    "\n",
    "# The amount of variation maintained in each component.\n",
    "print(pca.explained_variance_ratio_)\n",
    "print(sum(pca.explained_variance_ratio_), 'This is the amount of variation maintained with pca.')\n",
    "\n",
    "# Shape of old and new dataset.\n",
    "print(X_train.shape, X_test.shape)\n",
    "print(X_train_pca.shape, X_test_pca.shape)"
   ]
  },
  {
   "cell_type": "markdown",
   "metadata": {},
   "source": [
    "### Tuning Hyper-Parameters for SVM--RBF Kernel\n",
    "Hyper-parameters are parameters that are not directly learnt within estimators. In scikit-learn they are passed as arguments to the constructor of the estimator classes. Typical examples include C, kernel and gamma for Support Vector Classifier, alpha for Lasso, etc.\n",
    "\n",
    "\n",
    "Hyper-parameters can be choses by searching the Hyper-parameter space for the best cross validation score using GridSearchCV http://scikit-learn.org/stable/modules/generated/sklearn.model_selection.GridSearchCV.html#sklearn.model_selection.GridSearchCV."
   ]
  },
  {
   "cell_type": "code",
   "execution_count": 24,
   "metadata": {},
   "outputs": [
    {
     "name": "stdout",
     "output_type": "stream",
     "text": [
      "0.884287454324 Total CV score.\n",
      "0.915789473684 CV score on \"T2cep\" labels.\n",
      "\n",
      "0.881851400731 Total CV score.\n",
      "0.884210526316 CV score on \"T2cep\" labels.\n",
      "\n",
      "0.875761266748 Total CV score.\n",
      "0.863157894737 CV score on \"T2cep\" labels.\n",
      "\n",
      "0.892204628502 Total CV score.\n",
      "0.884210526316 CV score on \"T2cep\" labels.\n",
      "\n",
      "0.883069427527 Total CV score.\n",
      "0.884210526316 CV score on \"T2cep\" labels.\n",
      "\n",
      "0.881818181818 Total test score.\n",
      "0.880113636364 Test score on \"Not T2cep\" labels.\n",
      "0.909090909091 Test score on \"T2cep\" labels.\n",
      "[1 1 1 1 1 1 1 1 1 1 0 1 0 1 1 1 0 1 1 1 1 1 1 1 1 1 1 1 1 1 1 0 1 1 1 1 1\n",
      " 1 1 1 1 1 1 1 1 1 1 1 1 1 1 1 1 1 1 1 1 1 1 1 1 0 1 1 1 1 1 1 1 0 1 0 0 1\n",
      " 1 1 0 1 1 1 1 1 1 1 1 1 0 1 1 1 1 1 1 1 1 1 1 1 1 1 1 1 1 1 1 1 1 1 1 1]  \n",
      " [1 1 1 1 1 1 1 1 1 1 1 1 1 1 1 1 1 1 1 1 1 1 1 1 1 1 1 1 1 1 1 1 1 1 1 1 1\n",
      " 1 1 1 1 1 1 1 1 1 1 1 1 1 1 1 1 1 1 1 1 1 1 1 1 1 1 1 1 1 1 1 1 1 1 1 1 1\n",
      " 1 1 1 1 1 1 1 1 1 1 1 1 1 1 1 1 1 1 1 1 1 1 1 1 1 1 1 1 1 1 1 1 1 1 1 1]\n"
     ]
    }
   ],
   "source": [
    "# CV set by using random 20% of data. Repeat 10 times.\n",
    "for num in range(0, 5):\n",
    "\n",
    "    # Indicies of positive examples in train set.\n",
    "    ind_pos = np.where(y_train == 1)[0]\n",
    "    # Indicies of negative examples in train set.\n",
    "    ind_neg = np.where(y_train == 0)[0]\n",
    "\n",
    "    # 20% of the training set used as a cross-validation set.\n",
    "    len_pos_cv = int(round(0.2*len(ind_pos)))\n",
    "    len_neg_cv = int(round(0.2*len(ind_neg)))\n",
    "\n",
    "    ind_pos_cv = random.sample(set(ind_pos), len_pos_cv)\n",
    "    ind_neg_cv = random.sample(set(ind_neg), len_neg_cv)\n",
    "\n",
    "    # Temporary train and cross-validation sets.\n",
    "    X_train_temp, y_train_temp = [], []\n",
    "    X_cv_temp, y_cv_temp = [], []\n",
    "    # For score purposes.\n",
    "    X_cv_pos, y_cv_pos = [], []\n",
    "\n",
    "\n",
    "    for ind in range(0, len(X_train_pca)):\n",
    "        if ind not in ind_pos_cv and ind not in ind_neg_cv:\n",
    "            X_train_temp.append(X_train_pca[ind])\n",
    "            y_train_temp.append(y_train[ind])\n",
    "        if ind in ind_pos_cv:\n",
    "            X_cv_temp.append(X_train_pca[ind])\n",
    "            y_cv_temp.append(1)\n",
    "            X_cv_pos.append(X_train_pca[ind])\n",
    "            y_cv_pos.append(1)\n",
    "        if ind in ind_neg_cv:\n",
    "            X_cv_temp.append(X_train_pca[ind])\n",
    "            y_cv_temp.append(0)\n",
    "\n",
    "    X_train_temp, y_train_temp = np.array(X_train_temp), np.array(y_train_temp) \n",
    "    X_cv_temp, y_cv_temp = np.array(X_cv_temp), np.array(y_cv_temp)\n",
    "    \n",
    "    clf = svm.SVC(C = 100,gamma=0.01, kernel='rbf', class_weight = {0:.02, 1:.98})\n",
    "    clf.fit(X_train_temp, y_train_temp)\n",
    "    \n",
    "    print(clf.score(X_cv_temp, y_cv_temp), 'Total CV score.')\n",
    "    print(clf.score(X_cv_pos, y_cv_pos), 'CV score on \"T2cep\" labels.\\n')\n",
    "#     print(clf.predict(X_cv_pos), ' \\n', y_cv_pos)\n",
    "\n",
    "print(clf.score(X_test_pca, y_test), 'Total test score.')\n",
    "print(clf.score(X_test_pca[:1760], y_test[:1760]), 'Test score on \"Not T2cep\" labels.')\n",
    "print(clf.score(X_test_pca[1760:], y_test[1760:]), 'Test score on \"T2cep\" labels.')\n",
    "print(clf.predict(X_test_pca[1760:]), ' \\n', y_test[1760:])"
   ]
  },
  {
   "cell_type": "markdown",
   "metadata": {},
   "source": [
    "### Tuning Hyper-Parameters for SVM--Poly Kernel"
   ]
  },
  {
   "cell_type": "code",
   "execution_count": 23,
   "metadata": {},
   "outputs": [
    {
     "name": "stdout",
     "output_type": "stream",
     "text": [
      "0.915347137637 Total CV score.\n",
      "0.8 CV score on \"T2cep\" labels.\n",
      "\n",
      "0.901948842875 Total CV score.\n",
      "0.726315789474 CV score on \"T2cep\" labels.\n",
      "\n",
      "0.906211936663 Total CV score.\n",
      "0.8 CV score on \"T2cep\" labels.\n",
      "\n",
      "0.91412911084 Total CV score.\n",
      "0.789473684211 CV score on \"T2cep\" labels.\n",
      "\n",
      "0.917174177832 Total CV score.\n",
      "0.852631578947 CV score on \"T2cep\" labels.\n",
      "\n",
      "0.906417112299 Total test score.\n",
      "0.913068181818 Test score on \"Not T2cep\" labels.\n",
      "0.8 Test score on \"T2cep\" labels.\n",
      "[1 1 0 1 1 1 1 0 1 0 0 1 1 1 1 0 1 1 1 1 1 1 1 0 1 0 1 1 1 1 1 0 0 1 1 1 1\n",
      " 0 1 1 1 1 0 1 1 1 1 1 1 1 1 1 1 1 1 1 1 0 1 1 1 0 1 0 1 1 1 1 1 0 1 0 1 0\n",
      " 0 0 0 1 1 1 1 0 1 1 1 1 1 1 1 1 1 1 0 1 1 1 1 1 1 1 1 1 1 1 1 1 1 1 1 1]  \n",
      " [1 1 1 1 1 1 1 1 1 1 1 1 1 1 1 1 1 1 1 1 1 1 1 1 1 1 1 1 1 1 1 1 1 1 1 1 1\n",
      " 1 1 1 1 1 1 1 1 1 1 1 1 1 1 1 1 1 1 1 1 1 1 1 1 1 1 1 1 1 1 1 1 1 1 1 1 1\n",
      " 1 1 1 1 1 1 1 1 1 1 1 1 1 1 1 1 1 1 1 1 1 1 1 1 1 1 1 1 1 1 1 1 1 1 1 1]\n"
     ]
    }
   ],
   "source": [
    "# CV set by using random 20% of data. Repeat 10 times.\n",
    "for num in range(0, 5):\n",
    "\n",
    "    # Indicies of positive examples in train set.\n",
    "    ind_pos = np.where(y_train == 1)[0]\n",
    "    # Indicies of negative examples in train set.\n",
    "    ind_neg = np.where(y_train == 0)[0]\n",
    "\n",
    "    # 20% of the training set used as a cross-validation set.\n",
    "    len_pos_cv = int(round(0.2*len(ind_pos)))\n",
    "    len_neg_cv = int(round(0.2*len(ind_neg)))\n",
    "\n",
    "    ind_pos_cv = random.sample(set(ind_pos), len_pos_cv)\n",
    "    ind_neg_cv = random.sample(set(ind_neg), len_neg_cv)\n",
    "\n",
    "    # Temporary train and cross-validation sets.\n",
    "    X_train_temp, y_train_temp = [], []\n",
    "    X_cv_temp, y_cv_temp = [], []\n",
    "    # For score purposes.\n",
    "    X_cv_pos, y_cv_pos = [], []\n",
    "\n",
    "\n",
    "    for ind in range(0, len(X_train_pca)):\n",
    "        if ind not in ind_pos_cv and ind not in ind_neg_cv:\n",
    "            X_train_temp.append(X_train_pca[ind])\n",
    "            y_train_temp.append(y_train[ind])\n",
    "        if ind in ind_pos_cv:\n",
    "            X_cv_temp.append(X_train_pca[ind])\n",
    "            y_cv_temp.append(1)\n",
    "            X_cv_pos.append(X_train_pca[ind])\n",
    "            y_cv_pos.append(1)\n",
    "        if ind in ind_neg_cv:\n",
    "            X_cv_temp.append(X_train_pca[ind])\n",
    "            y_cv_temp.append(0)\n",
    "\n",
    "    X_train_temp, y_train_temp = np.array(X_train_temp), np.array(y_train_temp) \n",
    "    X_cv_temp, y_cv_temp = np.array(X_cv_temp), np.array(y_cv_temp)\n",
    "    \n",
    "    clf = svm.SVC(C=10, kernel='poly', class_weight={0:.08, 1:.92}, degree=2)\n",
    "    clf.fit(X_train_temp, y_train_temp)\n",
    "    \n",
    "    print(clf.score(X_cv_temp, y_cv_temp), 'Total CV score.')\n",
    "    print(clf.score(X_cv_pos, y_cv_pos), 'CV score on \"T2cep\" labels.\\n')\n",
    "#     print(clf.predict(X_cv_pos), ' \\n', y_cv_pos)\n",
    "\n",
    "print(clf.score(X_test_pca, y_test), 'Total test score.')\n",
    "print(clf.score(X_test_pca[:1760], y_test[:1760]), 'Test score on \"Not T2cep\" labels.')\n",
    "print(clf.score(X_test_pca[1760:], y_test[1760:]), 'Test score on \"T2cep\" labels.')\n",
    "print(clf.predict(X_test_pca[1760:]), ' \\n', y_test[1760:])"
   ]
  },
  {
   "cell_type": "markdown",
   "metadata": {},
   "source": [
    "### Testing KNN with Bagging Classifier"
   ]
  },
  {
   "cell_type": "code",
   "execution_count": 22,
   "metadata": {},
   "outputs": [
    {
     "name": "stdout",
     "output_type": "stream",
     "text": [
      "Start.\n",
      "0.950042646521 The out of bag (oob) score.\n"
     ]
    },
    {
     "name": "stderr",
     "output_type": "stream",
     "text": [
      "/home/amanjot_bhullar/anaconda3/lib/python3.5/site-packages/sklearn/ensemble/bagging.py:605: UserWarning: Some inputs do not have OOB scores. This probably means too few estimators were used to compute any reliable oob estimates.\n",
      "  warn(\"Some inputs do not have OOB scores. \"\n",
      "/home/amanjot_bhullar/anaconda3/lib/python3.5/site-packages/sklearn/ensemble/bagging.py:610: RuntimeWarning: invalid value encountered in true_divide\n",
      "  predictions.sum(axis=1)[:, np.newaxis])\n"
     ]
    },
    {
     "name": "stdout",
     "output_type": "stream",
     "text": [
      "0.951336898396 Total test score.\n",
      "1.0 Test score on \"Not T2cep\" labels.\n",
      "0.172727272727 Test score on \"T2cep\" labels.\n"
     ]
    }
   ],
   "source": [
    "from sklearn.ensemble import BaggingClassifier\n",
    "from sklearn.neighbors import KNeighborsClassifier\n",
    "\n",
    "print('Start.')\n",
    "\n",
    "m = KNeighborsClassifier(n_neighbors = 13)\n",
    "\n",
    "bag = BaggingClassifier(m, max_samples=0.5, n_jobs=4, oob_score= True)\n",
    "bag.fit(X_train_pca, y_train)\n",
    "\n",
    "print(bag.oob_score_, 'The out of bag (oob) score.')\n",
    "print(bag.score(X_test_pca, y_test), 'Total test score.')\n",
    "print(bag.score(X_test_pca[:1760], y_test[:1760]), 'Test score on \"Not T2cep\" labels.')\n",
    "print(bag.score(X_test_pca[1760:], y_test[1760:]), 'Test score on \"T2cep\" labels.')"
   ]
  },
  {
   "cell_type": "markdown",
   "metadata": {},
   "source": [
    "### Testing Gradient Boosting Classifier"
   ]
  },
  {
   "cell_type": "code",
   "execution_count": 20,
   "metadata": {},
   "outputs": [
    {
     "name": "stdout",
     "output_type": "stream",
     "text": [
      "Start.\n",
      "0.968983957219 Total test score.\n",
      "0.995454545455 Test score on \"Not T2cep\" labels.\n",
      "0.545454545455 Test score on \"T2cep\" labels.\n"
     ]
    }
   ],
   "source": [
    "from sklearn.ensemble import GradientBoostingClassifier\n",
    "\n",
    "print('Start.')\n",
    "\n",
    "m = GradientBoostingClassifier(n_estimators=1000)\n",
    "m.fit(X_train_pca, y_train)\n",
    "\n",
    "print(m.score(X_test_pca, y_test), 'Total test score.')\n",
    "print(m.score(X_test_pca[:1760], y_test[:1760]), 'Test score on \"Not T2cep\" labels.')\n",
    "print(m.score(X_test_pca[1760:], y_test[1760:]), 'Test score on \"T2cep\" labels.')"
   ]
  },
  {
   "cell_type": "markdown",
   "metadata": {},
   "source": [
    "### Testing Voting Ensemble\n",
    "Done with RBF, Linear, and Polynomial kernels."
   ]
  },
  {
   "cell_type": "code",
   "execution_count": 6,
   "metadata": {},
   "outputs": [
    {
     "name": "stdout",
     "output_type": "stream",
     "text": [
      "Start.\n",
      "0.898395721925 Total test score.\n",
      "0.897727272727 Test score on \"Not T2cep\" labels.\n",
      "0.909090909091 Test score on \"T2cep\" labels.\n"
     ]
    }
   ],
   "source": [
    "from sklearn.ensemble import VotingClassifier\n",
    "\n",
    "print('Start.')\n",
    "\n",
    "m = VotingClassifier(\n",
    "    estimators=[('rbf', svm.SVC(C = 100, gamma=0.01, kernel='rbf', class_weight = {0:.02, 1:.98})), \n",
    "                ('lin', svm.SVC(C=1, kernel='linear', class_weight={0:.08, 1:.92})),\n",
    "                ('pol', svm.SVC(C=10, kernel='poly', class_weight={0:.08, 1:.92}, degree=2))], \n",
    "    voting='hard')\n",
    "\n",
    "m.fit(X_train_pca, y_train)\n",
    "\n",
    "with open('voting_ensemble.pickle', 'wb') as f:\n",
    "    pickle.dump(m, f, protocol=pickle.HIGHEST_PROTOCOL)\n",
    "\n",
    "print(m.score(X_test_pca, y_test), 'Total test score.')\n",
    "print(m.score(X_test_pca[:1760], y_test[:1760]), 'Test score on \"Not T2cep\" labels.')\n",
    "print(m.score(X_test_pca[1760:], y_test[1760:]), 'Test score on \"T2cep\" labels.')"
   ]
  },
  {
   "cell_type": "markdown",
   "metadata": {},
   "source": [
    "### Testing AdaBoost Performance with Random Forrest"
   ]
  },
  {
   "cell_type": "code",
   "execution_count": 18,
   "metadata": {},
   "outputs": [
    {
     "name": "stdout",
     "output_type": "stream",
     "text": [
      "Start.\n",
      "0.96256684492 Total test score.\n",
      "0.986363636364 Test score on \"Not T2cep\" labels.\n",
      "0.581818181818 Test score on \"T2cep\" labels.\n"
     ]
    }
   ],
   "source": [
    "from sklearn.ensemble import AdaBoostClassifier\n",
    "\n",
    "print('Start.')\n",
    "\n",
    "m = AdaBoostClassifier(base_estimator=None, n_estimators=1000)\n",
    "m.fit(X_train_pca, y_train)\n",
    "\n",
    "print(m.score(X_test_pca, y_test), 'Total test score.')\n",
    "print(m.score(X_test_pca[:1760], y_test[:1760]), 'Test score on \"Not T2cep\" labels.')\n",
    "print(m.score(X_test_pca[1760:], y_test[1760:]), 'Test score on \"T2cep\" labels.')"
   ]
  },
  {
   "cell_type": "markdown",
   "metadata": {},
   "source": [
    "### Sample Grid Search \n",
    "This will find the hyper-parameter combination that maximizes the score."
   ]
  },
  {
   "cell_type": "code",
   "execution_count": null,
   "metadata": {
    "collapsed": true
   },
   "outputs": [],
   "source": [
    "print('Start')\n",
    "# Parameters combinations to be tested.\n",
    "parameters = {'C': [1, 10, 100, 1000],\n",
    "              'kernel':['rbf'], \n",
    "              'gamma': [0.01, 0.1, 1], \n",
    "              'class_weight': [{0:.01, 1:0.99}]}\n",
    "\n",
    "svc = svm.SVC()\n",
    "clf = GridSearchCV(svc, parameters, n_jobs=-1)\n",
    "clf.fit(X_train_pca, y_train)\n",
    "\n",
    "print(clf.best_estimator_)\n",
    "\n",
    "# Save to disk.\n",
    "with open('svm_tune_v1.pickle', 'wb') as f:\n",
    "    pickle.dump(clf, f, protocol=pickle.HIGHEST_PROTOCOL)\n",
    "\n",
    "print('Done')"
   ]
  },
  {
   "cell_type": "markdown",
   "metadata": {},
   "source": [
    "### Learning Curve Function"
   ]
  },
  {
   "cell_type": "code",
   "execution_count": 13,
   "metadata": {
    "collapsed": true
   },
   "outputs": [],
   "source": [
    "def plot_learning_curve(estimator, title, X, y, ylim=None, cv=None,\n",
    "                        n_jobs=1, train_sizes=np.linspace(.1, 1.0, 5)):\n",
    "\n",
    "    plt.figure(figsize=(9,6))\n",
    "    plt.title(title)\n",
    "    if ylim is not None:\n",
    "        plt.ylim(*ylim)\n",
    "    plt.xlabel(\"Training examples\")\n",
    "    plt.ylabel(\"Score\")\n",
    "    \n",
    "    train_sizes, train_scores, test_scores = learning_curve(\n",
    "        estimator, X, y, cv=cv, n_jobs=n_jobs, train_sizes=train_sizes)\n",
    "    \n",
    "    train_scores_mean = np.mean(train_scores, axis=1)\n",
    "    train_scores_std = np.std(train_scores, axis=1)\n",
    "    test_scores_mean = np.mean(test_scores, axis=1)\n",
    "    test_scores_std = np.std(test_scores, axis=1)\n",
    "    \n",
    "    plt.grid()\n",
    "    plt.fill_between(train_sizes, train_scores_mean - train_scores_std,\n",
    "                     train_scores_mean + train_scores_std, alpha=0.1,\n",
    "                     color=\"r\")\n",
    "    plt.fill_between(train_sizes, test_scores_mean - test_scores_std,\n",
    "                     test_scores_mean + test_scores_std, alpha=0.1, color=\"g\")\n",
    "    plt.plot(train_sizes, train_scores_mean, 'o-', color=\"r\",\n",
    "             label=\"Training score\")\n",
    "    plt.plot(train_sizes, test_scores_mean, 'o-', color=\"g\",\n",
    "             label=\"Cross-validation score\")\n",
    "\n",
    "    plt.legend(loc=\"best\")\n",
    "    return plt"
   ]
  },
  {
   "cell_type": "code",
   "execution_count": 14,
   "metadata": {},
   "outputs": [
    {
     "name": "stdout",
     "output_type": "stream",
     "text": [
      "Start.\n"
     ]
    },
    {
     "data": {
      "image/png": "[encoded data removed]",
      "text/plain": [
       "<matplotlib.figure.Figure at 0x7f10be2e8e10>"
      ]
     },
     "metadata": {},
     "output_type": "display_data"
    }
   ],
   "source": [
    "from sklearn.ensemble import VotingClassifier\n",
    "\n",
    "print('Start.')\n",
    "title = \"Learning Curves (Voting Classifier)\"\n",
    "\n",
    "# Cross validation with 10 iterations to get smoother mean test and train\n",
    "# score curves, each time with 20% data randomly selected as a validation set.\n",
    "cv = ShuffleSplit(n_splits=10, test_size=0.2, random_state=0)\n",
    "\n",
    "estimator = VotingClassifier(\n",
    "    estimators=[('rbf', svm.SVC(C = 100, gamma=0.01, kernel='rbf', class_weight = {0:.02, 1:.98})), \n",
    "                #('gbc', GradientBoostingClassifier(n_estimators=1000)), \n",
    "                ('ln', svm.SVC(C=1, kernel='linear', class_weight={0:.08, 1:.92})),\n",
    "                ('p2', svm.SVC(C=10, kernel='poly', class_weight={0:.08, 1:.92}, degree=2))], \n",
    "    voting='hard')\n",
    "\n",
    "plot_learning_curve(estimator, title, X_train_pca, y_train, cv=cv, n_jobs=4)\n",
    "plt.show()"
   ]
  },
  {
   "cell_type": "markdown",
   "metadata": {},
   "source": [
    "### Classifier Score\n",
    "Since the data set is highly skewed -- 17 times more negative examples than positive, we cannot rely on the precision and recall to display the effectiveness of the classifier.  Instead what we can do is use normalized true positive, false positive, true negative, and false negative values.  For instance,\n",
    "\n",
    "$\\texttt{Normlaized True Positive} = \\frac{\\texttt{True Positive}}{\\texttt{True Positive} + \\texttt{False Negative}}$\n",
    "\n",
    "$\\texttt{Normlaized True Negative} = \\frac{\\texttt{True Negative}}{\\texttt{True Negative} + \\texttt{False Positive}}$\n",
    "\n",
    "$\\texttt{Normlaized False Positive} = \\frac{\\texttt{False Positive}}{\\texttt{False Positive} + \\texttt{True Negative}}$\n",
    "\n",
    "$\\texttt{Normlaized False Negative} = \\frac{\\texttt{False Negative}}{\\texttt{False Negative} + \\texttt{True Positive}}$"
   ]
  },
  {
   "cell_type": "code",
   "execution_count": 19,
   "metadata": {},
   "outputs": [
    {
     "name": "stdout",
     "output_type": "stream",
     "text": [
      "0.909090909091 Recall\n",
      "0.898876404494 Precision\n",
      "0.90395480226 F1 score\n"
     ]
    }
   ],
   "source": [
    "from sklearn.metrics import recall_score\n",
    "from sklearn.metrics import precision_score\n",
    "\n",
    "# Read classifier from disk.\n",
    "clf_unpickle = open('voting_ensemble.pickle', 'rb')\n",
    "\n",
    "# load the unpickle object into a variable\n",
    "clf_disk = pickle.load(clf_unpickle)\n",
    "\n",
    "# The hyper-parameters of the classifier\n",
    "#print(clf_disk.get_params)\n",
    "\n",
    "# Normalized values\n",
    "true_pos = clf_disk.score(X_test_pca[1760:], y_test[1760:])\n",
    "true_neg = clf_disk.score(X_test_pca[:1760], y_test[:1760])\n",
    "false_pos = 1 - true_neg\n",
    "false_neg = 1 - true_pos\n",
    "\n",
    "# Recall\n",
    "R = true_pos/(true_pos+false_neg)\n",
    "print(R, 'Recall')\n",
    "\n",
    "# Precision.\n",
    "P = true_pos/(true_pos+false_pos)\n",
    "print(P, 'Precision')\n",
    "\n",
    "# F1 Score.\n",
    "F1 = (2*P*R)/(P+R)\n",
    "print(F1, 'F1 score')"
   ]
  },
  {
   "cell_type": "code",
   "execution_count": null,
   "metadata": {
    "collapsed": true
   },
   "outputs": [],
   "source": []
  }
 ],
 "metadata": {
  "kernelspec": {
   "display_name": "Python [conda root]",
   "language": "python",
   "name": "conda-root-py"
  },
  "language_info": {
   "codemirror_mode": {
    "name": "ipython",
    "version": 3
   },
   "file_extension": ".py",
   "mimetype": "text/x-python",
   "name": "python",
   "nbconvert_exporter": "python",
   "pygments_lexer": "ipython3",
   "version": "3.5.4"
  }
 },
 "nbformat": 4,
 "nbformat_minor": 1
}
