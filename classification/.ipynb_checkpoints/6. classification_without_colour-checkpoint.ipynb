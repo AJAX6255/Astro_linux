{
 "cells": [
  {
   "cell_type": "markdown",
   "metadata": {},
   "source": [
    "### Classification Without the Colour Feature\n",
    "It would be a good idea to create a classifier that did not use the colour feature because not all light curves are taken in two bands."
   ]
  },
  {
   "cell_type": "markdown",
   "metadata": {},
   "source": [
    "### Dependencies"
   ]
  },
  {
   "cell_type": "code",
   "execution_count": 1,
   "metadata": {
    "collapsed": true
   },
   "outputs": [],
   "source": [
    "%matplotlib inline\n",
    "from sklearn import svm # SVM classifier.\n",
    "from sklearn.model_selection import GridSearchCV # Tuning hyper-parameters\n",
    "from sklearn.preprocessing import StandardScaler # Feature scaling library.\n",
    "import sqlite3 # Database library.\n",
    "import os # Folder management library.\n",
    "import pickle # Serializing module.\n",
    "import numpy as np # Scientific computing library.\n",
    "from sklearn.decomposition import PCA # Princliple Component Analysis library.\n",
    "import random # For some randomness\n",
    "from sklearn.ensemble import RandomForestClassifier # Random forrest classifier.\n",
    "from sklearn.model_selection import learning_curve # Learning curve lobrary.\n",
    "from sklearn.model_selection import ShuffleSplit # For learning curve.\n",
    "import matplotlib.pyplot as plt # Plotting "
   ]
  },
  {
   "cell_type": "markdown",
   "metadata": {},
   "source": [
    "### Retrieve Data Sets"
   ]
  },
  {
   "cell_type": "code",
   "execution_count": 2,
   "metadata": {},
   "outputs": [
    {
     "name": "stdout",
     "output_type": "stream",
     "text": [
      "Done.\n"
     ]
    }
   ],
   "source": [
    "# Initializing database and cursor.\n",
    "star_data_db = sqlite3.connect('star_data_sets_binary_removed_outliers.db')\n",
    "star_data_cursor = star_data_db.cursor()\n",
    "\n",
    "sets = ['train_set', 'test_set', 'cv_set']\n",
    "set_types = ['X', 'Y']\n",
    "\n",
    "X_train, X_cv, X_test = [], [], []\n",
    "y_train, y_cv, y_test = [], [], []\n",
    "\n",
    "data_temp = []\n",
    "for dset in sets:\n",
    "    for set_type in set_types:\n",
    "        star_data_cursor.execute('SELECT '+set_type+' FROM '+dset)\n",
    "        for row in star_data_cursor.fetchall():\n",
    "            # Deserializing features.\n",
    "            data = pickle.loads(row[0])\n",
    "            data_temp.append(data)\n",
    "\n",
    "X_train = np.array(data_temp[0])\n",
    "y_train = np.array(data_temp[1])\n",
    "\n",
    "X_test = np.array(data_temp[2])\n",
    "y_test = np.array(data_temp[3])\n",
    "\n",
    "X_cv = np.array(data_temp[4])\n",
    "y_cv = np.array(data_temp[5])\n",
    "\n",
    "print('Done.')"
   ]
  },
  {
   "cell_type": "markdown",
   "metadata": {},
   "source": [
    "### Merging Train and CV Sets and Removing Colour Feature (last column)\n",
    "The CV and training sets were initially seperate, but we will be using K-fold cross-validation techniques.  Hence, the CV and trains sets will be merged."
   ]
  },
  {
   "cell_type": "code",
   "execution_count": 3,
   "metadata": {},
   "outputs": [
    {
     "name": "stdout",
     "output_type": "stream",
     "text": [
      "(6460, 64) (1747, 64) Size of X_train and X_cv before merge and feature removal.\n",
      "(8207, 64) (8207,) Size of X_train and y_train after merge.\n",
      "(8207, 63) (8207,) Size of X_train and y_train after feature removal.\n",
      "(1870, 63) Size of X_test after feature removal.\n"
     ]
    }
   ],
   "source": [
    "print(X_train.shape, X_cv.shape, 'Size of X_train and X_cv before merge and feature removal.')\n",
    "\n",
    "X_train = np.concatenate((X_train, X_cv), axis=0)\n",
    "y_train = np.concatenate((y_train, y_cv), axis=0)\n",
    "print(X_train.shape, y_train.shape, 'Size of X_train and y_train after merge.')\n",
    "\n",
    "X_train = np.delete(X_train, 63, 1)\n",
    "X_test = np.delete(X_test, 63, 1)\n",
    "print(X_train.shape, y_train.shape, 'Size of X_train and y_train after feature removal.')\n",
    "print(X_test.shape, 'Size of X_test after feature removal.')"
   ]
  },
  {
   "cell_type": "markdown",
   "metadata": {},
   "source": [
    "### Feature Scaling\n",
    "This will center the data for each feature by substracting the mean, and normalize it by dividing by the standard deviation (std).\n",
    "\n",
    "\n",
    "Note: the mean and std of the training set is used and NOT the test set as to not give information to the classifier about the test set."
   ]
  },
  {
   "cell_type": "code",
   "execution_count": 4,
   "metadata": {},
   "outputs": [
    {
     "name": "stdout",
     "output_type": "stream",
     "text": [
      "Done\n"
     ]
    }
   ],
   "source": [
    "# Get mean and std of training set.\n",
    "scaler = StandardScaler()\n",
    "scaler.fit(X_train)\n",
    "\n",
    "# Scale features of train and test sets using mean and std of train set.\n",
    "X_train=scaler.transform(X_train)\n",
    "X_test=scaler.transform(X_test)\n",
    "\n",
    "with open('feature_scaling.pickle', 'wb') as f:\n",
    "    pickle.dump(scaler, f, protocol=pickle.HIGHEST_PROTOCOL)\n",
    "\n",
    "print('Done')"
   ]
  },
  {
   "cell_type": "markdown",
   "metadata": {},
   "source": [
    "### Princliple Component Analysis (PCA)\n",
    "This will reduce the dimensionality while still maintating 99% of the variation in the data set. This significantly improves the convergence time."
   ]
  },
  {
   "cell_type": "code",
   "execution_count": 5,
   "metadata": {},
   "outputs": [
    {
     "name": "stdout",
     "output_type": "stream",
     "text": [
      "[ 0.22823007  0.15132283  0.07991336  0.04379823  0.03894759  0.03448204\n",
      "  0.03350535  0.03233488  0.02834731  0.02610091  0.02384947  0.02104031\n",
      "  0.02073469  0.01746856  0.016157    0.01531162  0.01445757  0.014285\n",
      "  0.01075315  0.00992987  0.00949132  0.00874345  0.00858398  0.00845965\n",
      "  0.00842056  0.00819102  0.00813917  0.00779774  0.00700494  0.00662271\n",
      "  0.00615927  0.00547062  0.00533748  0.00465404  0.00417807  0.0036825\n",
      "  0.00346539  0.00331361  0.00298189  0.00243446  0.00238601  0.0019348\n",
      "  0.00183956  0.00169795  0.00142389]\n",
      "0.993383878078 This is the amount of variation maintained with pca.\n",
      "(8207, 63) (1870, 63)\n",
      "(8207, 45) (1870, 45)\n"
     ]
    }
   ],
   "source": [
    "pca = PCA(n_components=45)\n",
    "pca.fit(X_train)\n",
    "\n",
    "X_train_pca = pca.transform(X_train)\n",
    "X_test_pca = pca.transform(X_test)\n",
    "\n",
    "with open('pca.pickle', 'wb') as f:\n",
    "    pickle.dump(pca, f, protocol=pickle.HIGHEST_PROTOCOL)\n",
    "\n",
    "# The amount of variation maintained in each component.\n",
    "print(pca.explained_variance_ratio_)\n",
    "print(sum(pca.explained_variance_ratio_), 'This is the amount of variation maintained with pca.')\n",
    "\n",
    "# Shape of old and new dataset.\n",
    "print(X_train.shape, X_test.shape)\n",
    "print(X_train_pca.shape, X_test_pca.shape)"
   ]
  },
  {
   "cell_type": "markdown",
   "metadata": {},
   "source": [
    "### Tuning Hyper-Parameters for SVM--RBF Kernel\n",
    "Hyper-parameters are parameters that are not directly learnt within estimators. In scikit-learn they are passed as arguments to the constructor of the estimator classes. Typical examples include C, kernel and gamma for Support Vector Classifier, alpha for Lasso, etc.\n",
    "\n",
    "\n",
    "Hyper-parameters can be choses by searching the Hyper-parameter space for the best cross validation score using GridSearchCV http://scikit-learn.org/stable/modules/generated/sklearn.model_selection.GridSearchCV.html#sklearn.model_selection.GridSearchCV."
   ]
  },
  {
   "cell_type": "code",
   "execution_count": 8,
   "metadata": {},
   "outputs": [
    {
     "name": "stdout",
     "output_type": "stream",
     "text": [
      "0.850182704019 Total CV score.\n",
      "0.894736842105 CV score on \"T2cep\" labels.\n",
      "\n",
      "0.86784409257 Total CV score.\n",
      "0.905263157895 CV score on \"T2cep\" labels.\n",
      "\n",
      "0.877588306943 Total CV score.\n",
      "0.894736842105 CV score on \"T2cep\" labels.\n",
      "\n",
      "0.862362971985 Total CV score.\n",
      "0.863157894737 CV score on \"T2cep\" labels.\n",
      "\n",
      "0.872107186358 Total CV score.\n",
      "0.926315789474 CV score on \"T2cep\" labels.\n",
      "\n",
      "0.855080213904 Total test score.\n",
      "0.851136363636 Test score on \"Not T2cep\" labels.\n",
      "0.918181818182 Test score on \"T2cep\" labels.\n",
      "[1 1 1 1 1 1 1 1 1 1 0 1 0 1 1 1 0 1 1 1 1 1 1 1 1 1 1 1 1 1 1 0 1 1 1 1 1\n",
      " 1 1 1 1 1 1 1 1 1 1 1 1 1 1 1 1 1 0 1 1 1 1 1 1 0 1 1 1 1 1 1 1 0 1 1 0 1\n",
      " 1 1 1 1 1 1 1 1 1 1 1 1 0 1 1 1 1 1 1 1 1 1 1 1 1 1 1 1 1 1 1 1 1 1 1 1]  \n",
      " [1 1 1 1 1 1 1 1 1 1 1 1 1 1 1 1 1 1 1 1 1 1 1 1 1 1 1 1 1 1 1 1 1 1 1 1 1\n",
      " 1 1 1 1 1 1 1 1 1 1 1 1 1 1 1 1 1 1 1 1 1 1 1 1 1 1 1 1 1 1 1 1 1 1 1 1 1\n",
      " 1 1 1 1 1 1 1 1 1 1 1 1 1 1 1 1 1 1 1 1 1 1 1 1 1 1 1 1 1 1 1 1 1 1 1 1]\n"
     ]
    }
   ],
   "source": [
    "# CV set by using random 20% of data. Repeat 10 times.\n",
    "for num in range(0, 5):\n",
    "\n",
    "    # Indicies of positive examples in train set.\n",
    "    ind_pos = np.where(y_train == 1)[0]\n",
    "    # Indicies of negative examples in train set.\n",
    "    ind_neg = np.where(y_train == 0)[0]\n",
    "\n",
    "    # 20% of the training set used as a cross-validation set.\n",
    "    len_pos_cv = int(round(0.2*len(ind_pos)))\n",
    "    len_neg_cv = int(round(0.2*len(ind_neg)))\n",
    "\n",
    "    ind_pos_cv = random.sample(set(ind_pos), len_pos_cv)\n",
    "    ind_neg_cv = random.sample(set(ind_neg), len_neg_cv)\n",
    "\n",
    "    # Temporary train and cross-validation sets.\n",
    "    X_train_temp, y_train_temp = [], []\n",
    "    X_cv_temp, y_cv_temp = [], []\n",
    "    # For score purposes.\n",
    "    X_cv_pos, y_cv_pos = [], []\n",
    "\n",
    "\n",
    "    for ind in range(0, len(X_train_pca)):\n",
    "        if ind not in ind_pos_cv and ind not in ind_neg_cv:\n",
    "            X_train_temp.append(X_train_pca[ind])\n",
    "            y_train_temp.append(y_train[ind])\n",
    "        if ind in ind_pos_cv:\n",
    "            X_cv_temp.append(X_train_pca[ind])\n",
    "            y_cv_temp.append(1)\n",
    "            X_cv_pos.append(X_train_pca[ind])\n",
    "            y_cv_pos.append(1)\n",
    "        if ind in ind_neg_cv:\n",
    "            X_cv_temp.append(X_train_pca[ind])\n",
    "            y_cv_temp.append(0)\n",
    "\n",
    "    X_train_temp, y_train_temp = np.array(X_train_temp), np.array(y_train_temp) \n",
    "    X_cv_temp, y_cv_temp = np.array(X_cv_temp), np.array(y_cv_temp)\n",
    "    \n",
    "    clf = svm.SVC(C = 100,gamma=0.01, kernel='rbf', class_weight = {0:.02, 1:.98})\n",
    "    clf.fit(X_train_temp, y_train_temp)\n",
    "    \n",
    "    print(clf.score(X_cv_temp, y_cv_temp), 'Total CV score.')\n",
    "    print(clf.score(X_cv_pos, y_cv_pos), 'CV score on \"T2cep\" labels.\\n')\n",
    "#     print(clf.predict(X_cv_pos), ' \\n', y_cv_pos)\n",
    "\n",
    "print(clf.score(X_test_pca, y_test), 'Total test score.')\n",
    "print(clf.score(X_test_pca[:1760], y_test[:1760]), 'Test score on \"Not T2cep\" labels.')\n",
    "print(clf.score(X_test_pca[1760:], y_test[1760:]), 'Test score on \"T2cep\" labels.')\n",
    "print(clf.predict(X_test_pca[1760:]), ' \\n', y_test[1760:])"
   ]
  },
  {
   "cell_type": "markdown",
   "metadata": {},
   "source": [
    "### Tuning Hyper-Parameters for SVM--Poly Kernel"
   ]
  },
  {
   "cell_type": "code",
   "execution_count": 9,
   "metadata": {},
   "outputs": [
    {
     "name": "stdout",
     "output_type": "stream",
     "text": [
      "0.917174177832 Total CV score.\n",
      "0.810526315789 CV score on \"T2cep\" labels.\n",
      "\n",
      "0.893422655298 Total CV score.\n",
      "0.789473684211 CV score on \"T2cep\" labels.\n",
      "\n",
      "0.910475030451 Total CV score.\n",
      "0.831578947368 CV score on \"T2cep\" labels.\n",
      "\n",
      "0.897076735688 Total CV score.\n",
      "0.831578947368 CV score on \"T2cep\" labels.\n",
      "\n",
      "0.901948842875 Total CV score.\n",
      "0.821052631579 CV score on \"T2cep\" labels.\n",
      "\n",
      "0.886631016043 Total test score.\n",
      "0.893181818182 Test score on \"Not T2cep\" labels.\n",
      "0.781818181818 Test score on \"T2cep\" labels.\n",
      "[1 1 0 1 1 1 1 0 1 0 0 1 0 1 1 1 1 1 1 1 1 1 1 0 1 0 1 1 1 1 1 0 0 1 1 1 1\n",
      " 0 1 1 0 1 1 1 1 1 1 1 1 1 1 1 1 1 1 1 1 1 1 1 1 0 1 1 0 0 1 1 1 0 0 1 1 0\n",
      " 0 1 1 1 1 1 0 0 1 1 1 1 0 1 1 1 1 1 0 1 1 1 1 1 0 1 0 1 1 1 1 1 1 1 1 1]  \n",
      " [1 1 1 1 1 1 1 1 1 1 1 1 1 1 1 1 1 1 1 1 1 1 1 1 1 1 1 1 1 1 1 1 1 1 1 1 1\n",
      " 1 1 1 1 1 1 1 1 1 1 1 1 1 1 1 1 1 1 1 1 1 1 1 1 1 1 1 1 1 1 1 1 1 1 1 1 1\n",
      " 1 1 1 1 1 1 1 1 1 1 1 1 1 1 1 1 1 1 1 1 1 1 1 1 1 1 1 1 1 1 1 1 1 1 1 1]\n"
     ]
    }
   ],
   "source": [
    "# CV set by using random 20% of data. Repeat 10 times.\n",
    "for num in range(0, 5):\n",
    "\n",
    "    # Indicies of positive examples in train set.\n",
    "    ind_pos = np.where(y_train == 1)[0]\n",
    "    # Indicies of negative examples in train set.\n",
    "    ind_neg = np.where(y_train == 0)[0]\n",
    "\n",
    "    # 20% of the training set used as a cross-validation set.\n",
    "    len_pos_cv = int(round(0.2*len(ind_pos)))\n",
    "    len_neg_cv = int(round(0.2*len(ind_neg)))\n",
    "\n",
    "    ind_pos_cv = random.sample(set(ind_pos), len_pos_cv)\n",
    "    ind_neg_cv = random.sample(set(ind_neg), len_neg_cv)\n",
    "\n",
    "    # Temporary train and cross-validation sets.\n",
    "    X_train_temp, y_train_temp = [], []\n",
    "    X_cv_temp, y_cv_temp = [], []\n",
    "    # For score purposes.\n",
    "    X_cv_pos, y_cv_pos = [], []\n",
    "\n",
    "\n",
    "    for ind in range(0, len(X_train_pca)):\n",
    "        if ind not in ind_pos_cv and ind not in ind_neg_cv:\n",
    "            X_train_temp.append(X_train_pca[ind])\n",
    "            y_train_temp.append(y_train[ind])\n",
    "        if ind in ind_pos_cv:\n",
    "            X_cv_temp.append(X_train_pca[ind])\n",
    "            y_cv_temp.append(1)\n",
    "            X_cv_pos.append(X_train_pca[ind])\n",
    "            y_cv_pos.append(1)\n",
    "        if ind in ind_neg_cv:\n",
    "            X_cv_temp.append(X_train_pca[ind])\n",
    "            y_cv_temp.append(0)\n",
    "\n",
    "    X_train_temp, y_train_temp = np.array(X_train_temp), np.array(y_train_temp) \n",
    "    X_cv_temp, y_cv_temp = np.array(X_cv_temp), np.array(y_cv_temp)\n",
    "    \n",
    "    clf = svm.SVC(C=10, kernel='poly', class_weight={0:.08, 1:.92}, degree=2)\n",
    "    clf.fit(X_train_temp, y_train_temp)\n",
    "    \n",
    "    print(clf.score(X_cv_temp, y_cv_temp), 'Total CV score.')\n",
    "    print(clf.score(X_cv_pos, y_cv_pos), 'CV score on \"T2cep\" labels.\\n')\n",
    "#     print(clf.predict(X_cv_pos), ' \\n', y_cv_pos)\n",
    "\n",
    "print(clf.score(X_test_pca, y_test), 'Total test score.')\n",
    "print(clf.score(X_test_pca[:1760], y_test[:1760]), 'Test score on \"Not T2cep\" labels.')\n",
    "print(clf.score(X_test_pca[1760:], y_test[1760:]), 'Test score on \"T2cep\" labels.')\n",
    "print(clf.predict(X_test_pca[1760:]), ' \\n', y_test[1760:])"
   ]
  },
  {
   "cell_type": "markdown",
   "metadata": {},
   "source": [
    "### Testing Voting Ensemble\n",
    "Done with RBF, Linear, and Polynomial kernels."
   ]
  },
  {
   "cell_type": "code",
   "execution_count": 6,
   "metadata": {},
   "outputs": [
    {
     "name": "stdout",
     "output_type": "stream",
     "text": [
      "Start.\n",
      "0.886631016043 Total test score.\n",
      "0.884659090909 Test score on \"Not T2cep\" labels.\n",
      "0.918181818182 Test score on \"T2cep\" labels.\n"
     ]
    }
   ],
   "source": [
    "from sklearn.ensemble import VotingClassifier\n",
    "\n",
    "print('Start.')\n",
    "\n",
    "m = VotingClassifier(\n",
    "    estimators=[('rbf', svm.SVC(C = 100, gamma=0.01, kernel='rbf', class_weight = {0:.02, 1:.98})), \n",
    "                ('lin', svm.SVC(C=1, kernel='linear', class_weight={0:.08, 1:.92})),\n",
    "                ('pol', svm.SVC(C=10, kernel='poly', class_weight={0:.08, 1:.92}, degree=2))], \n",
    "    voting='hard')\n",
    "\n",
    "m.fit(X_train_pca, y_train)\n",
    "\n",
    "with open('voting_ensemble_without_colour.pickle', 'wb') as f:\n",
    "    pickle.dump(m, f, protocol=pickle.HIGHEST_PROTOCOL)\n",
    "\n",
    "print(m.score(X_test_pca, y_test), 'Total test score.')\n",
    "print(m.score(X_test_pca[:1760], y_test[:1760]), 'Test score on \"Not T2cep\" labels.')\n",
    "print(m.score(X_test_pca[1760:], y_test[1760:]), 'Test score on \"T2cep\" labels.')"
   ]
  },
  {
   "cell_type": "markdown",
   "metadata": {},
   "source": [
    "### Learning Curve Function"
   ]
  },
  {
   "cell_type": "code",
   "execution_count": 7,
   "metadata": {
    "collapsed": true
   },
   "outputs": [],
   "source": [
    "def plot_learning_curve(estimator, title, X, y, ylim=None, cv=None,\n",
    "                        n_jobs=1, train_sizes=np.linspace(.1, 1.0, 5)):\n",
    "\n",
    "    plt.figure(figsize=(9,6))\n",
    "    plt.title(title)\n",
    "    if ylim is not None:\n",
    "        plt.ylim(*ylim)\n",
    "    plt.xlabel(\"Training examples\")\n",
    "    plt.ylabel(\"Score\")\n",
    "    \n",
    "    train_sizes, train_scores, test_scores = learning_curve(\n",
    "        estimator, X, y, cv=cv, n_jobs=n_jobs, train_sizes=train_sizes)\n",
    "    \n",
    "    train_scores_mean = np.mean(train_scores, axis=1)\n",
    "    train_scores_std = np.std(train_scores, axis=1)\n",
    "    test_scores_mean = np.mean(test_scores, axis=1)\n",
    "    test_scores_std = np.std(test_scores, axis=1)\n",
    "    \n",
    "    plt.grid()\n",
    "    plt.fill_between(train_sizes, train_scores_mean - train_scores_std,\n",
    "                     train_scores_mean + train_scores_std, alpha=0.1,\n",
    "                     color=\"r\")\n",
    "    plt.fill_between(train_sizes, test_scores_mean - test_scores_std,\n",
    "                     test_scores_mean + test_scores_std, alpha=0.1, color=\"g\")\n",
    "    plt.plot(train_sizes, train_scores_mean, 'o-', color=\"r\",\n",
    "             label=\"Training score\")\n",
    "    plt.plot(train_sizes, test_scores_mean, 'o-', color=\"g\",\n",
    "             label=\"Cross-validation score\")\n",
    "\n",
    "    plt.legend(loc=\"best\")\n",
    "    return plt"
   ]
  },
  {
   "cell_type": "code",
   "execution_count": 8,
   "metadata": {},
   "outputs": [
    {
     "name": "stdout",
     "output_type": "stream",
     "text": [
      "Start.\n"
     ]
    },
    {
     "data": {
      "image/png": "[encoded data removed]",
      "text/plain": [
       "<matplotlib.figure.Figure at 0x7fd6a9f7d5f8>"
      ]
     },
     "metadata": {},
     "output_type": "display_data"
    }
   ],
   "source": [
    "from sklearn.ensemble import VotingClassifier\n",
    "\n",
    "print('Start.')\n",
    "title = \"Learning Curves (Voting Classifier)\"\n",
    "\n",
    "# Cross validation with 10 iterations to get smoother mean test and train\n",
    "# score curves, each time with 20% data randomly selected as a validation set.\n",
    "cv = ShuffleSplit(n_splits=10, test_size=0.2, random_state=0)\n",
    "\n",
    "estimator = VotingClassifier(\n",
    "    estimators=[('rbf', svm.SVC(C = 100, gamma=0.01, kernel='rbf', class_weight = {0:.02, 1:.98})), \n",
    "                #('gbc', GradientBoostingClassifier(n_estimators=1000)), \n",
    "                ('ln', svm.SVC(C=1, kernel='linear', class_weight={0:.08, 1:.92})),\n",
    "                ('p2', svm.SVC(C=10, kernel='poly', class_weight={0:.08, 1:.92}, degree=2))], \n",
    "    voting='hard')\n",
    "\n",
    "plot_learning_curve(estimator, title, X_train_pca, y_train, cv=cv, n_jobs=4)\n",
    "plt.show()"
   ]
  },
  {
   "cell_type": "markdown",
   "metadata": {},
   "source": [
    "### Classifier Score\n",
    "Since the data set is highly skewed -- 17 times more negative examples than positive, we cannot rely on the precision and recall to display the effectiveness of the classifier.  Instead what we can do is use normalized true positive, false positive, true negative, and false negative values.  For instance,\n",
    "\n",
    "$\\texttt{Normlaized True Positive} = \\frac{\\texttt{True Positive}}{\\texttt{True Positive} + \\texttt{False Negative}}$\n",
    "\n",
    "$\\texttt{Normlaized True Negative} = \\frac{\\texttt{True Negative}}{\\texttt{True Negative} + \\texttt{False Positive}}$\n",
    "\n",
    "$\\texttt{Normlaized False Positive} = \\frac{\\texttt{False Positive}}{\\texttt{False Positive} + \\texttt{True Negative}}$\n",
    "\n",
    "$\\texttt{Normlaized False Negative} = \\frac{\\texttt{False Negative}}{\\texttt{False Negative} + \\texttt{True Positive}}$"
   ]
  },
  {
   "cell_type": "code",
   "execution_count": 9,
   "metadata": {},
   "outputs": [
    {
     "name": "stdout",
     "output_type": "stream",
     "text": [
      "0.918181818182 Recall\n",
      "0.888400219901 Precision\n",
      "0.903045543448 F1 score\n"
     ]
    }
   ],
   "source": [
    "from sklearn.metrics import recall_score\n",
    "from sklearn.metrics import precision_score\n",
    "\n",
    "# Read classifier from disk.\n",
    "clf_unpickle = open('voting_ensemble_without_colour.pickle', 'rb')\n",
    "\n",
    "# load the unpickle object into a variable\n",
    "clf_disk = pickle.load(clf_unpickle)\n",
    "\n",
    "# The hyper-parameters of the classifier\n",
    "#print(clf_disk.get_params)\n",
    "\n",
    "# Normalized values\n",
    "true_pos = clf_disk.score(X_test_pca[1760:], y_test[1760:])\n",
    "true_neg = clf_disk.score(X_test_pca[:1760], y_test[:1760])\n",
    "false_pos = 1 - true_neg\n",
    "false_neg = 1 - true_pos\n",
    "\n",
    "# Recall\n",
    "R = true_pos/(true_pos+false_neg)\n",
    "print(R, 'Recall')\n",
    "\n",
    "# Precision.\n",
    "P = true_pos/(true_pos+false_pos)\n",
    "print(P, 'Precision')\n",
    "\n",
    "# F1 Score.\n",
    "F1 = (2*P*R)/(P+R)\n",
    "print(F1, 'F1 score')"
   ]
  },
  {
   "cell_type": "code",
   "execution_count": null,
   "metadata": {
    "collapsed": true
   },
   "outputs": [],
   "source": []
  }
 ],
 "metadata": {
  "kernelspec": {
   "display_name": "Python [conda root]",
   "language": "python",
   "name": "conda-root-py"
  },
  "language_info": {
   "codemirror_mode": {
    "name": "ipython",
    "version": 3
   },
   "file_extension": ".py",
   "mimetype": "text/x-python",
   "name": "python",
   "nbconvert_exporter": "python",
   "pygments_lexer": "ipython3",
   "version": "3.5.4"
  }
 },
 "nbformat": 4,
 "nbformat_minor": 1
}
