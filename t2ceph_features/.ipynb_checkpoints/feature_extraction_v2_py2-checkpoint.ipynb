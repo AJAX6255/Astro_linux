{
 "cells": [
  {
   "cell_type": "code",
   "execution_count": 76,
   "metadata": {
    "collapsed": true
   },
   "outputs": [],
   "source": [
    "import numpy as np\n",
    "import pandas as pd # Dataframe to store csv file content\n",
    "import FATS"
   ]
  },
  {
   "cell_type": "code",
   "execution_count": 92,
   "metadata": {},
   "outputs": [
    {
     "name": "stdout",
     "output_type": "stream",
     "text": [
      "[16.469, 16.275, 17.006, 16.725, 17.397000000000002, 16.622, 17.149, 16.285, 16.599, 17.182000000000002, 17.125, 16.255, 17.129, 16.259, 17.149, 17.031, 16.283, 16.464000000000002, 17.114, 17.351, 17.021, 17.476, 16.237000000000002, 17.118, 16.267, 17.070999999999998, 17.281, 16.327, 16.464000000000002, 16.27]\n"
     ]
    }
   ],
   "source": [
    "# Data from AAVSO\n",
    "star = \"OGLE-LMC-T2CEP-002\"\n",
    "\n",
    "# Load the data from csv file\n",
    "light_curve = pd.read_csv(\"ftp://ftp.astrouw.edu.pl/ogle/ogle3/OIII-CVS/lmc/t2cep/phot/I/OGLE-LMC-T2CEP-002.dat\",\n",
    "                          sep=\"\\s+\", names=[\"JD\", \"Magnitude\", \"Uncertainty\"])\n",
    "\n",
    "light_curve2 = pd.read_csv(\"ftp://ftp.astrouw.edu.pl/ogle/ogle3/OIII-CVS/lmc/t2cep/phot/V/OGLE-LMC-T2CEP-002.dat\",\n",
    "                          sep=\"\\s+\", names=[\"JD2\", \"Magnitude2\", \"Uncertainty2\"])\n",
    "\n",
    "# # Creating numpy array from pandas dataframe\n",
    "# mag = np.array(light_curve.fillna(0).Magnitude.tolist())\n",
    "# time = np.array(light_curve.fillna(0).JD.tolist())\n",
    "# err = np.array(light_curve.fillna(0).Uncertainty.tolist()) #fillna(0) replaces NaN with 0\n",
    "\n",
    "# Creating numpy array from pandas dataframe\n",
    "mag = light_curve.fillna(0).Magnitude.tolist()\n",
    "mag2 = light_curve2.fillna(0).Magnitude2.tolist()\n",
    "time = light_curve.fillna(0).JD.tolist()\n",
    "error = light_curve.fillna(0).Uncertainty.tolist() #fillna(0) replaces NaN with 0\n",
    "err2 = light_curve2.fillna(0).Uncertainty2.tolist() #fillna(0) replaces NaN with 0\n",
    "time2 = light_curve2.fillna(0).JD2.tolist()\n",
    "\n",
    "\n",
    "print(mag2)"
   ]
  },
  {
   "cell_type": "code",
   "execution_count": 78,
   "metadata": {
    "collapsed": true
   },
   "outputs": [],
   "source": [
    "mag_ex = [0.46057565, 0.5137294, 0.70136533, 0.21454228, 0.547923  ,   0.33433717,   0.4487987 ,   0.55571062,\n",
    "          0.24388037,   0.44793366,   0.30175873,   0.88326381,\n",
    "          0.12208977,   0.37088649,   0.5945731 ,   0.74705894,\n",
    "          0.24551664,   0.36009236,   0.80661981,   0.04961063,\n",
    "          0.87747311,   0.97388975,   0.95775496,   0.34195989,\n",
    "          0.54201036,   0.87854618,   0.07388174,   0.21543205,\n",
    "          0.59295337,   0.56771493]\n",
    "time_ex = [ 0.        ,   1.        ,   2.        ,   3.        ,\n",
    "          4.        ,   5.        ,   6.        ,   7.        ,\n",
    "          8.        ,   9.        ,  10.        ,  11.        ,\n",
    "         12.        ,  13.        ,  14.        ,  15.        ,\n",
    "         16.        ,  17.        ,  18.        ,  19.        ,\n",
    "         20.        ,  21.        ,  22.        ,  23.        ,\n",
    "         24.        ,  25.        ,  26.        ,  27.        ,\n",
    "         28.        ,  29.        ]"
   ]
  },
  {
   "cell_type": "code",
   "execution_count": 79,
   "metadata": {},
   "outputs": [
    {
     "name": "stdout",
     "output_type": "stream",
     "text": [
      "-9.33947929509e-18\n",
      "-7.49506453072e+16\n"
     ]
    }
   ],
   "source": [
    "lc = np.array([mag, time, mag2, err])\n",
    "time_ex = np.linspace(0,1)\n",
    "mag_ex = np.sin(2 * np.pi * time_ex)\n",
    "\n",
    "#lc = np.array([mag_ex, time_ex])\n",
    "print(np.mean(mag_ex))\n",
    "print(np.std(mag_ex)/np.mean(mag_ex))"
   ]
  },
  {
   "cell_type": "markdown",
   "metadata": {},
   "source": []
  },
  {
   "cell_type": "code",
   "execution_count": null,
   "metadata": {
    "collapsed": true
   },
   "outputs": [],
   "source": []
  },
  {
   "cell_type": "code",
   "execution_count": 95,
   "metadata": {},
   "outputs": [
    {
     "name": "stdout",
     "output_type": "stream",
     "text": [
      "{'Color': -1.0099200736648246}\n",
      "-1.00992007366\n"
     ]
    }
   ],
   "source": [
    "\n",
    "# a = FATS.FeatureSpace(featureList=['Std','StetsonL'])\n",
    "# a=a.calculateFeature(lc)\n",
    "\n",
    "# Table(a)\n",
    "lc = np.array([mag, time, error, mag2])\n",
    "a = FATS.FeatureSpace(featureList=['Color'])\n",
    "a=a.calculateFeature(lc)\n",
    "\n",
    "print a.result(method='dict')\n",
    "\n",
    "col = np.mean(mag) - np.mean(mag2)\n",
    "print(col)\n"
   ]
  },
  {
   "cell_type": "code",
   "execution_count": 114,
   "metadata": {},
   "outputs": [
    {
     "name": "stdout",
     "output_type": "stream",
     "text": [
      "Warning: the feature Color could not be calculated because ['magnitude', 'time', 'magnitude2'] are needed.\n",
      "Warning: the feature Eta_color could not be calculated because ['magnitude', 'time', 'magnitude2'] are needed.\n",
      "Warning: the feature Q31_color could not be calculated because ['magnitude', 'time', 'magnitude2'] are needed.\n",
      "Warning: the feature StetsonJ could not be calculated because ['magnitude', 'time', 'error', 'magnitude2', 'error2'] are needed.\n",
      "Warning: the feature StetsonL could not be calculated because ['magnitude', 'time', 'error', 'magnitude2', 'error2'] are needed.\n",
      "[0.48650000000000126, 1.0, 1.0, 0.40055248618784528, 4.7676053869675288, 0.25647938279911464, 3.3077639568863741, 0.0, 4.0222448351792197, 0.33896515311509784, 0.53854276663146705, 0.72544878563886006, 0.8152059134107722, 0.93980992608236313, 0.45994326945068181, 0.073548185273706462, 0.03851676108102435, 0.01248531144244179, 0.0, -0.8370079205826797, 0.32027406369276734, 0.03053136907789411, 0.045028883589708371, 0.0059618862584487975, 0.026893789925308543, 0.018210354505862589, 0.0, -0.94388513977774469, -1.1583353009179267, -1.1660150291902296, 0.043919535831711966, 0.0074635881485654691, 0.010759907220329656, 0.0027761495358134053, 0.0, 2.1049111450191584, 1.3827762629758691, 1.5910784741029036, 0.2759999999999998, -1.8193196422332501e-05, 0.30171058172571258, 15.770113259668507, 0.021581656715136673, 0.29450000000000021, 0.14088397790055249, 0.033333333333333333, 0.04237207077953134, 0.060385780328391578, 18.313726812339329, 6.038499975483555e-70, 0.27180752606822112, 0.060785564705781697, 0.68550000000000111, 0.022082886723624903, 0.26433546351176973, 3.9305599999997867, -1.4857458392367835, 0.34034517072899073, 0.90238371267062967, 0.8925414592441282, 1.5334057912705257, 1.8428735289762399, 1.2603663018567643]\n",
      " \n",
      "{'Psi_eta': 0.060785564705781697, 'PercentAmplitude': 0.04237207077953134, 'MaxSlope': 0.30171058172571258, 'SmallKurtosis': -1.4857458392367835, 'StetsonK': 0.90238371267062967, 'Meanvariance': 0.021581656715136673, 'Rcs': 0.022082886723624903, 'FluxPercentileRatioMid65': 0.8152059134107722, 'Freq3_harmonics_amplitude_0': 0.043919535831711966, 'Freq3_harmonics_amplitude_1': 0.0074635881485654691, 'Freq3_harmonics_amplitude_2': 0.010759907220329656, 'Freq3_harmonics_amplitude_3': 0.0027761495358134053, 'AndersonDarling': 1.0, 'FluxPercentileRatioMid20': 0.33896515311509784, 'LinearTrend': -1.8193196422332501e-05, 'Freq2_harmonics_rel_phase_3': -1.1660150291902296, 'Freq2_harmonics_rel_phase_2': -1.1583353009179267, 'Freq2_harmonics_rel_phase_1': -0.94388513977774469, 'Freq2_harmonics_rel_phase_0': 0.0, 'FluxPercentileRatioMid50': 0.72544878563886006, 'Eta_e': 4.0222448351792197, 'Freq2_harmonics_amplitude_0': 0.045028883589708371, 'Freq1_harmonics_amplitude_2': 0.03851676108102435, 'Freq1_harmonics_amplitude_3': 0.01248531144244179, 'Freq1_harmonics_amplitude_0': 0.45994326945068181, 'Freq1_harmonics_amplitude_1': 0.073548185273706462, 'SlottedA_length': 3.9305599999997867, 'Q31': 0.68550000000000111, 'Freq2_harmonics_amplitude_2': 0.026893789925308543, 'Skew': 0.26433546351176973, 'CAR_tau': 3.3077639568863741, 'StructureFunction_index_32': 1.2603663018567643, 'Std': 0.34034517072899073, 'MedianBRP': 0.14088397790055249, 'Mean': 15.770113259668507, 'Beyond1Std': 0.40055248618784528, 'Psi_CS': 0.27180752606822112, 'Freq3_harmonics_rel_phase_2': 1.3827762629758691, 'Freq3_harmonics_rel_phase_3': 1.5910784741029036, 'Freq3_harmonics_rel_phase_0': 0.0, 'Freq3_harmonics_rel_phase_1': 2.1049111450191584, 'Amplitude': 0.48650000000000126, 'Freq2_harmonics_amplitude_1': 0.0059618862584487975, 'FluxPercentileRatioMid35': 0.53854276663146705, 'Freq2_harmonics_amplitude_3': 0.018210354505862589, 'Con': 0.0, 'CAR_mean': 4.7676053869675288, 'PercentDifferenceFluxPercentile': 0.060385780328391578, 'Period_fit': 6.038499975483555e-70, 'StructureFunction_index_21': 1.5334057912705257, 'Freq1_harmonics_rel_phase_0': 0.0, 'Freq1_harmonics_rel_phase_1': -0.8370079205826797, 'Freq1_harmonics_rel_phase_2': 0.32027406369276734, 'Freq1_harmonics_rel_phase_3': 0.03053136907789411, 'PairSlopeTrend': 0.033333333333333333, 'CAR_sigma': 0.25647938279911464, 'Autocor_length': 1.0, 'StructureFunction_index_31': 1.8428735289762399, 'MedianAbsDev': 0.29450000000000021, 'Gskew': 0.2759999999999998, 'FluxPercentileRatioMid80': 0.93980992608236313, 'PeriodLS': 18.313726812339329, 'StetsonK_AC': 0.8925414592441282}\n",
      "-1.00992007366\n",
      "63\n",
      "63\n",
      "[0.48650000000000126, 1.0, 1.0, 0.40055248618784528, 4.7676053869675288, 0.25647938279911464, 3.3077639568863741, 0.0, 4.0222448351792197, 0.33896515311509784, 0.53854276663146705, 0.72544878563886006, 0.8152059134107722, 0.93980992608236313, 0.45994326945068181, 0.073548185273706462, 0.03851676108102435, 0.01248531144244179, 0.0, -0.8370079205826797, 0.32027406369276734, 0.03053136907789411, 0.045028883589708371, 0.0059618862584487975, 0.026893789925308543, 0.018210354505862589, 0.0, -0.94388513977774469, -1.1583353009179267, -1.1660150291902296, 0.043919535831711966, 0.0074635881485654691, 0.010759907220329656, 0.0027761495358134053, 0.0, 2.1049111450191584, 1.3827762629758691, 1.5910784741029036, 0.2759999999999998, -1.8193196422332501e-05, 0.30171058172571258, 15.770113259668507, 0.021581656715136673, 0.29450000000000021, 0.14088397790055249, 0.033333333333333333, 0.04237207077953134, 0.060385780328391578, 18.313726812339329, 6.038499975483555e-70, 0.27180752606822112, 0.060785564705781697, 0.68550000000000111, 0.022082886723624903, 0.26433546351176973, 3.9305599999997867, -1.4857458392367835, 0.34034517072899073, 0.90238371267062967, 0.8925414592441282, 1.5334057912705257, 1.8428735289762399, 1.2603663018567643, -1.0099200736648246]\n"
     ]
    }
   ],
   "source": [
    "lc = np.array([mag, time, error])\n",
    "a = FATS.FeatureSpace(Data=['magnitude', 'time', 'error'])\n",
    "a=a.calculateFeature(lc)\n",
    "\n",
    "res = a.result(method='array')\n",
    "\n",
    "print res\n",
    "print ' '\n",
    "res1 = a.result(method='dict')\n",
    "print res1\n",
    "\n",
    "col = np.mean(mag) - np.mean(mag2)\n",
    "print(col)\n",
    "\n",
    "print(len(res))\n",
    "print(len(res1))\n",
    "res.append(col)\n",
    "print res\n",
    "\n",
    "# res[len(res)-1] = col\n",
    "# print res\n",
    "# print(len(res))\n",
    "\n"
   ]
  },
  {
   "cell_type": "code",
   "execution_count": null,
   "metadata": {},
   "outputs": [],
   "source": [
    "# Plot the raw data.\n",
    "import matplotlib.pyplot as plt # Plotting \n",
    "\n",
    "plt.figure(figsize=(13,8))\n",
    "plt.plot(time_ex, mag_ex, marker='o', ls='None', ms=5, c='b')\n",
    "plt.gca().invert_yaxis()\n",
    "plt.xlabel(\"Time (JD)\", size='medium', family = 'monospace')\n",
    "plt.ylabel(\"Magnitude\", size='medium', family = 'monospace')\n",
    "plt.title(\"Raw light curve of \" +star, size='medium', family = 'monospace')\n",
    "plt.show()\n"
   ]
  },
  {
   "cell_type": "code",
   "execution_count": null,
   "metadata": {
    "collapsed": true
   },
   "outputs": [],
   "source": []
  }
 ],
 "metadata": {
  "kernelspec": {
   "display_name": "py27",
   "language": "python",
   "name": "py27"
  },
  "language_info": {
   "codemirror_mode": {
    "name": "ipython",
    "version": 2
   },
   "file_extension": ".py",
   "mimetype": "text/x-python",
   "name": "python",
   "nbconvert_exporter": "python",
   "pygments_lexer": "ipython2",
   "version": "2.7.13"
  }
 },
 "nbformat": 4,
 "nbformat_minor": 2
}
