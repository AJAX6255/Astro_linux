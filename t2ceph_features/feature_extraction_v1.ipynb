{
 "cells": [
  {
   "cell_type": "markdown",
   "metadata": {},
   "source": [
    "### Dependencies"
   ]
  },
  {
   "cell_type": "code",
   "execution_count": 1,
   "metadata": {
    "collapsed": true
   },
   "outputs": [],
   "source": [
    "%matplotlib inline\n",
    "import numpy as np # Scientific computing \n",
    "import matplotlib.pyplot as plt # Plotting \n",
    "import pandas as pd # Dataframe to store csv file content\n",
    "import seaborn # Additional plotting\n",
    "seaborn.set() # Set aesthetic parameters in one step."
   ]
  },
  {
   "cell_type": "markdown",
   "metadata": {},
   "source": [
    "### Process Data"
   ]
  },
  {
   "cell_type": "code",
   "execution_count": 18,
   "metadata": {
    "collapsed": true
   },
   "outputs": [],
   "source": [
    "# Data from AAVSO\n",
    "star = \"OGLE-LMC-T2CEP-002\"\n",
    "\n",
    "# Load the data from csv file\n",
    "light_curve = pd.read_csv(\"ftp://ftp.astrouw.edu.pl/ogle/ogle3/OIII-CVS/lmc/t2cep/phot/I/OGLE-LMC-T2CEP-002.dat\",\n",
    "                          sep=\"\\s+\", names=[\"JD\", \"Magnitude\", \"Uncertainty\"])\n",
    "\n",
    "# Creating numpy array from pandas dataframe\n",
    "mag = np.array(light_curve.fillna(0).Magnitude.tolist())\n",
    "time = np.array(light_curve.fillna(0).JD.tolist())\n",
    "err = np.array(light_curve.fillna(0).Uncertainty.tolist()) #fillna(0) replaces NaN with 0"
   ]
  },
  {
   "cell_type": "markdown",
   "metadata": {},
   "source": [
    "### Raw Data Plot"
   ]
  },
  {
   "cell_type": "code",
   "execution_count": 21,
   "metadata": {},
   "outputs": [
    {
     "data": {
      "image/png": "[encoded data removed]",
      "text/plain": [
       "<matplotlib.figure.Figure at 0x154eb47f898>"
      ]
     },
     "metadata": {},
     "output_type": "display_data"
    },
    {
     "name": "stdout",
     "output_type": "stream",
     "text": [
      "15.7701132597\n"
     ]
    }
   ],
   "source": [
    "# Plot the raw data.\n",
    "plt.figure(figsize=(13,8))\n",
    "plt.plot(time, mag, marker='o', ls='None', ms=5, c='b')\n",
    "plt.gca().invert_yaxis()\n",
    "plt.xlabel(\"Time (JD)\", size='medium', family = 'monospace')\n",
    "plt.ylabel(\"Magnitude\", size='medium', family = 'monospace')\n",
    "plt.title(\"Raw light curve of \" +star, size='medium', family = 'monospace')\n",
    "plt.show()\n",
    "\n",
    "print(np.mean(mag))"
   ]
  },
  {
   "cell_type": "code",
   "execution_count": 6,
   "metadata": {
    "collapsed": true
   },
   "outputs": [],
   "source": [
    "mag_ex = [0.46057565, 0.5137294, 0.70136533, 0.21454228, 0.547923  ,   0.33433717,   0.4487987 ,   0.55571062,\n",
    "          0.24388037,   0.44793366,   0.30175873,   0.88326381,\n",
    "          0.12208977,   0.37088649,   0.5945731 ,   0.74705894,\n",
    "          0.24551664,   0.36009236,   0.80661981,   0.04961063,\n",
    "          0.87747311,   0.97388975,   0.95775496,   0.34195989,\n",
    "          0.54201036,   0.87854618,   0.07388174,   0.21543205,\n",
    "          0.59295337,   0.56771493]\n",
    "time_ex = [ 0.        ,   1.        ,   2.        ,   3.        ,\n",
    "          4.        ,   5.        ,   6.        ,   7.        ,\n",
    "          8.        ,   9.        ,  10.        ,  11.        ,\n",
    "         12.        ,  13.        ,  14.        ,  15.        ,\n",
    "         16.        ,  17.        ,  18.        ,  19.        ,\n",
    "         20.        ,  21.        ,  22.        ,  23.        ,\n",
    "         24.        ,  25.        ,  26.        ,  27.        ,\n",
    "         28.        ,  29.        ]"
   ]
  },
  {
   "cell_type": "code",
   "execution_count": 15,
   "metadata": {},
   "outputs": [
    {
     "data": {
      "text/plain": [
       "array([[  0.46057565,   0.5137294 ,   0.70136533,   0.21454228,\n",
       "          0.547923  ,   0.33433717,   0.4487987 ,   0.55571062,\n",
       "          0.24388037,   0.44793366,   0.30175873,   0.88326381,\n",
       "          0.12208977,   0.37088649,   0.5945731 ,   0.74705894,\n",
       "          0.24551664,   0.36009236,   0.80661981,   0.04961063,\n",
       "          0.87747311,   0.97388975,   0.95775496,   0.34195989,\n",
       "          0.54201036,   0.87854618,   0.07388174,   0.21543205,\n",
       "          0.59295337,   0.56771493],\n",
       "       [  0.        ,   1.        ,   2.        ,   3.        ,\n",
       "          4.        ,   5.        ,   6.        ,   7.        ,\n",
       "          8.        ,   9.        ,  10.        ,  11.        ,\n",
       "         12.        ,  13.        ,  14.        ,  15.        ,\n",
       "         16.        ,  17.        ,  18.        ,  19.        ,\n",
       "         20.        ,  21.        ,  22.        ,  23.        ,\n",
       "         24.        ,  25.        ,  26.        ,  27.        ,\n",
       "         28.        ,  29.        ]])"
      ]
     },
     "execution_count": 15,
     "metadata": {},
     "output_type": "execute_result"
    }
   ],
   "source": [
    "lc_example = np.array([mag_ex, time_ex])\n",
    "lc_example"
   ]
  },
  {
   "cell_type": "code",
   "execution_count": 17,
   "metadata": {},
   "outputs": [
    {
     "ename": "SyntaxError",
     "evalue": "invalid syntax (Feature.py, line 93)",
     "output_type": "error",
     "traceback": [
      "\u001b[1;36m  File \u001b[1;32m\"C:\\Users\\A\\Anaconda3\\lib\\site-packages\\FATS\\Feature.py\"\u001b[1;36m, line \u001b[1;32m93\u001b[0m\n\u001b[1;33m    print \"Warning: the feature\", name, \"could not be calculated because\", obj().Data, \"are needed.\"\u001b[0m\n\u001b[1;37m                               ^\u001b[0m\n\u001b[1;31mSyntaxError\u001b[0m\u001b[1;31m:\u001b[0m invalid syntax\n"
     ]
    }
   ],
   "source": [
    "import FATS\n",
    "\n",
    "a = FATS.FeatureSpace(featureList=['Std','StetsonL'])\n",
    "a=a.calculateFeature(lc)\n",
    "\n",
    "Table(a)"
   ]
  },
  {
   "cell_type": "code",
   "execution_count": null,
   "metadata": {
    "collapsed": true
   },
   "outputs": [],
   "source": []
  }
 ],
 "metadata": {
  "kernelspec": {
   "display_name": "Python 3",
   "language": "python",
   "name": "python3"
  },
  "language_info": {
   "codemirror_mode": {
    "name": "ipython",
    "version": 3
   },
   "file_extension": ".py",
   "mimetype": "text/x-python",
   "name": "python",
   "nbconvert_exporter": "python",
   "pygments_lexer": "ipython3",
   "version": "3.6.1"
  }
 },
 "nbformat": 4,
 "nbformat_minor": 2
}
