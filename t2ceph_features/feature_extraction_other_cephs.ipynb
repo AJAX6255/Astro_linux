{
 "cells": [
  {
   "cell_type": "code",
   "execution_count": 1,
   "metadata": {},
   "outputs": [
    {
     "name": "stderr",
     "output_type": "stream",
     "text": [
      "/home/amanjot_bhullar/anaconda3/envs/py27/lib/python2.7/site-packages/statsmodels/compat/pandas.py:56: FutureWarning: The pandas.core.datetools module is deprecated and will be removed in a future version. Please use the pandas.tseries module instead.\n",
      "  from pandas.core import datetools\n"
     ]
    }
   ],
   "source": [
    "import numpy as np # Scientific computing \n",
    "import pandas as pd # Dataframe to organize content\n",
    "import os # Creating folders\n",
    "import pickle # Serializing module\n",
    "import FATS # Feature extraction library\n",
    "import sqlite3 # Database library"
   ]
  },
  {
   "cell_type": "code",
   "execution_count": null,
   "metadata": {
    "collapsed": true
   },
   "outputs": [],
   "source": [
    "# Read list file from web\n",
    "list_file_url = 'ftp://ftp.astrouw.edu.pl/ogle/ogle3/OIII-CVS/lmc/t2cep/t2cep.dat'\n",
    "list_file = pd.read_csv(list_file_url, sep=\"\\s+\", header=None)\n",
    "\n",
    "# This is a list of all type-2 cepheids on the astrouw website\n",
    "t2ceph_astrouw = list_file[0].tolist()\n",
    "# Remove lightcurve 170 as it does not have V-band data\n",
    "t2ceph_astrouw.remove('OGLE-LMC-T2CEP-170')\n",
    "\n",
    "# Initializing database and cursor\n",
    "star_data_db = sqlite3.connect('star_data.db')\n",
    "star_data_cursor = star_data_db.cursor()\n",
    "# Initializing table:'astrouw_data' and columns:ex.'star_data' with datatype:ex.'BLOB'\n",
    "star_data_cursor.execute(\"CREATE TABLE IF NOT EXISTS astrouw_data(star_data BLOB, star_features BLOB, star_label REAL)\")\n",
    "    \n",
    "# This loop will obtain the necessary data for each star\n",
    "for star in t2ceph_astrouw:\n",
    "    print(star)\n",
    "    # Reading Data for I-band\n",
    "    star_data_url_I = 'ftp://ftp.astrouw.edu.pl/ogle/ogle3/OIII-CVS/lmc/t2cep/phot/I/'+star+'.dat'\n",
    "    star_data_I = pd.read_csv(star_data_url_I, sep=\"\\s+\", names=[\"time\", \"magnitude\", \"error\"])\n",
    "    \n",
    "    # Reading Data for V-band\n",
    "    star_data_url_V = 'ftp://ftp.astrouw.edu.pl/ogle/ogle3/OIII-CVS/lmc/t2cep/phot/V/'+star+'.dat'\n",
    "    star_data_V = pd.read_csv(star_data_url_V, sep=\"\\s+\", names=[\"time2\", \"magnitude2\", \"error2\"])\n",
    "\n",
    "    # Creating lists from pandas dataframe (these are the parameters used to compute the features)\n",
    "    magnitude = star_data_I.magnitude.tolist()\n",
    "    time = star_data_I.time.tolist()\n",
    "    error = star_data_I.error.tolist()\n",
    "    magnitude2 = star_data_V.magnitude2.tolist()\n",
    "    \n",
    "    #Extracting Features\n",
    "    parameters = np.array([magnitude, time, error])\n",
    "    feature_space = FATS.FeatureSpace(Data=['magnitude','time', 'error'])\n",
    "    features = feature_space.calculateFeature(parameters)\n",
    "    features_array = features.result(method='array')\n",
    "    # Custom feature:colour -- is also added to array\n",
    "    colour = np.mean(magnitude) - np.mean(magnitude2)\n",
    "    features_array.append(colour)\n",
    "\n",
    "    \n",
    "    # Serializing star_data so that it can be stored in database\n",
    "    star_pickled = pickle.dumps((star, time, magnitude, error, magnitude2), pickle.HIGHEST_PROTOCOL)\n",
    "    # Serializing features so that it can be stored in database\n",
    "    features_pickled = pickle.dumps(features_array, pickle.HIGHEST_PROTOCOL)\n",
    "    \n",
    "    # Storing star_data in database for future reference\n",
    "    star_data_cursor.execute(\"INSERT INTO astrouw_data (star_data, star_features, star_label) VALUES (?,?,?)\",\n",
    "                             (sqlite3.Binary(star_pickled), sqlite3.Binary(features_pickled), 1))\n",
    "    star_data_db.commit()\n",
    "\n",
    "print(\"Data stored.\")"
   ]
  }
 ],
 "metadata": {
  "kernelspec": {
   "display_name": "Python [conda env:py27]",
   "language": "python",
   "name": "conda-env-py27-py"
  },
  "language_info": {
   "codemirror_mode": {
    "name": "ipython",
    "version": 2
   },
   "file_extension": ".py",
   "mimetype": "text/x-python",
   "name": "python",
   "nbconvert_exporter": "python",
   "pygments_lexer": "ipython2",
   "version": "2.7.14"
  }
 },
 "nbformat": 4,
 "nbformat_minor": 1
}
