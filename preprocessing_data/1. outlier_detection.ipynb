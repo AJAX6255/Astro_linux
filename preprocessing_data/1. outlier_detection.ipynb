{
 "cells": [
  {
   "cell_type": "markdown",
   "metadata": {},
   "source": [
    "### Dependencies"
   ]
  },
  {
   "cell_type": "code",
   "execution_count": 1,
   "metadata": {
    "collapsed": true
   },
   "outputs": [],
   "source": [
    "import sqlite3 # Database library.\n",
    "import os # Folder management library.\n",
    "import pickle # Serializing module.\n",
    "import numpy as np # Scientific computing library."
   ]
  },
  {
   "cell_type": "markdown",
   "metadata": {},
   "source": [
    "### Retreive Examples from Database"
   ]
  },
  {
   "cell_type": "code",
   "execution_count": 2,
   "metadata": {},
   "outputs": [
    {
     "name": "stdout",
     "output_type": "stream",
     "text": [
      "done\n"
     ]
    }
   ],
   "source": [
    "# Initializing database and cursor.\n",
    "star_data_db = sqlite3.connect('star_data.db')\n",
    "star_data_cursor = star_data_db.cursor()\n",
    "\n",
    "# Retrieving star_data from database.\n",
    "classes = ['cep_1o', 'cep_f', 'dsct','eb_ec', 'eb_ed', 'eb_esd', 'lpv_mira_agb_c', 'lpv_mira_agb_o', 'lpv_osarg_agb',\n",
    "           'lpv_osarg_rgb', 'lpv_srv_agb_c', 'lpv_srv_agb_o', 'rrab', 'rrc', 'rrd', 'rre', 't2cep']\n",
    "\n",
    "X, Y = [], []\n",
    "for label, classv in enumerate(classes):\n",
    "    star_data_cursor.execute('SELECT star_features FROM '+classv)\n",
    "    for row in star_data_cursor.fetchall()[:600]:\n",
    "        # Deserializing features.\n",
    "        features = pickle.loads(row[0])\n",
    "        X.append(features)\n",
    "        Y.append([label])\n",
    "        \n",
    "names = []\n",
    "for classv in classes:\n",
    "    star_data_cursor.execute('SELECT star_name FROM '+classv)\n",
    "    for row in star_data_cursor.fetchall()[:600]:\n",
    "        names.append(row[0])\n",
    "\n",
    "# Close cursor and database    \n",
    "star_data_cursor.close\n",
    "star_data_db.close()\n",
    "\n",
    "print('done')"
   ]
  },
  {
   "cell_type": "code",
   "execution_count": 3,
   "metadata": {},
   "outputs": [
    {
     "name": "stderr",
     "output_type": "stream",
     "text": [
      "/home/amanjot_bhullar/anaconda3/lib/python3.5/site-packages/matplotlib/__init__.py:1350: UserWarning:  This call to matplotlib.use() has no effect\n",
      "because the backend has already been chosen;\n",
      "matplotlib.use() must be called *before* pylab, matplotlib.pyplot,\n",
      "or matplotlib.backends is imported for the first time.\n",
      "\n",
      "  warnings.warn(_use_error_msg)\n"
     ]
    },
    {
     "name": "stdout",
     "output_type": "stream",
     "text": [
      "[ 1  1  1  1 -1  1  1 -1  1  1 -1  1  1 -1  1  1  1  1 -1  1  1  1 -1  1  1\n",
      "  1  1  1  1 -1  1  1  1  1  1 -1  1  1  1  1  1  1  1  1 -1  1  1  1  1  1\n",
      "  1  1 -1  1  1  1  1  1  1  1  1  1  1  1  1 -1 -1  1 -1  1  1  1  1  1  1\n",
      "  1  1 -1  1  1  1  1  1  1  1  1  1  1  1  1  1  1  1  1  1  1  1  1  1  1\n",
      "  1  1  1  1  1  1  1  1  1  1  1  1  1  1  1  1  1  1  1  1  1  1  1  1  1\n",
      "  1  1  1 -1 -1  1  1  1  1  1  1  1  1  1  1  1  1  1  1  1  1  1  1  1  1\n",
      "  1  1  1  1  1 -1 -1  1  1  1  1  1  1  1  1  1  1  1  1  1  1  1  1  1  1\n",
      "  1  1  1  1  1  1  1  1  1  1  1 -1  1 -1  1  1 -1  1  1  1  1  1  1  1  1\n",
      "  1  1  1  1  1  1  1  1  1 -1  1  1  1  1  1  1  1  1  1  1  1  1  1  1  1\n",
      "  1  1  1  1  1  1  1  1  1 -1  1  1  1  1  1  1  1  1  1  1  1  1  1  1  1\n",
      "  1 -1 -1  1  1  1  1  1 -1  1 -1  1  1  1  1  1  1  1  1 -1  1  1  1  1  1\n",
      "  1  1  1  1  1  1  1 -1  1  1  1  1  1  1  1  1  1  1  1  1  1  1  1  1  1\n",
      "  1  1  1  1  1  1 -1  1  1  1  1  1  1  1  1  1  1 -1  1  1 -1  1  1  1 -1\n",
      "  1  1  1  1  1  1  1  1  1  1  1  1  1  1  1  1  1  1 -1  1  1  1  1  1  1\n",
      "  1  1  1  1  1  1  1  1 -1  1  1  1  1  1  1  1  1 -1  1  1  1  1  1  1  1\n",
      "  1  1  1  1 -1  1  1  1  1  1  1  1  1  1  1  1  1  1  1 -1  1 -1  1  1  1\n",
      "  1  1  1  1  1  1 -1  1  1  1  1  1 -1  1  1  1  1 -1  1 -1  1  1  1  1  1\n",
      "  1  1  1  1  1  1  1  1  1  1  1  1  1 -1  1  1 -1  1  1  1  1  1  1  1  1\n",
      "  1  1  1  1  1  1  1  1  1  1  1  1  1  1  1  1 -1  1  1  1  1 -1  1  1  1\n",
      "  1  1 -1  1  1  1  1  1  1  1  1  1  1  1  1  1  1  1  1  1  1  1  1  1  1\n",
      "  1 -1  1  1 -1  1  1  1  1  1  1  1  1  1  1  1 -1  1  1  1  1 -1  1  1  1\n",
      " -1  1  1  1  1  1  1  1  1  1  1  1  1  1  1  1  1  1  1  1  1  1  1  1  1\n",
      "  1  1  1  1  1  1  1  1  1  1  1  1  1  1  1 -1 -1  1  1  1  1  1  1 -1  1\n",
      "  1  1 -1  1  1  1  1  1 -1  1  1 -1]\n",
      "the number of t2ceps is  587 \n",
      "\n",
      "[  4   7  10  13  18  22  29  35  44  52  65  66  68  77 128 129 155 156\n",
      " 186 188 191 209 234 251 252 258 260 269 282 306 317 320 324 343 358 367\n",
      " 379 394 396 406 412 417 419 438 441 466 471 477 501 504 516 521 525 565\n",
      " 566 573 577 583 586]\n",
      " The num of outliers is  59 \n",
      "\n",
      "These are the detected outliers.\n",
      "OGLE-LMC-T2CEP-015.dat\n",
      "OGLE-BLG-T2CEP-307.dat\n",
      "OGLE-BLG-T2CEP-266.dat\n",
      "OGLE-BLG-T2CEP-026.dat\n",
      "OGLE-SMC-T2CEP-26.dat\n",
      "OGLE-LMC-T2CEP-110.dat\n",
      "OGLE-BLG-T2CEP-203.dat\n",
      "OGLE-BLG-T2CEP-351.dat\n",
      "OGLE-LMC-T2CEP-018.dat\n",
      "OGLE-SMC-T2CEP-23.dat\n",
      "OGLE-SMC-T2CEP-39.dat\n",
      "OGLE-LMC-T2CEP-014.dat\n",
      "OGLE-LMC-T2CEP-115.dat\n",
      "OGLE-LMC-T2CEP-032.dat\n",
      "OGLE-LMC-T2CEP-137.dat\n",
      "OGLE-BLG-T2CEP-172.dat\n",
      "OGLE-BLG-T2CEP-189.dat\n",
      "OGLE-SMC-T2CEP-17.dat\n",
      "OGLE-BLG-T2CEP-095.dat\n",
      "OGLE-LMC-T2CEP-200.dat\n",
      "OGLE-BLG-T2CEP-132.dat\n",
      "OGLE-BLG-T2CEP-131.dat\n",
      "OGLE-BLG-T2CEP-293.dat\n",
      "OGLE-BLG-T2CEP-079.dat\n",
      "OGLE-LMC-T2CEP-108.dat\n",
      "OGLE-LMC-T2CEP-147.dat\n",
      "OGLE-LMC-T2CEP-045.dat\n",
      "OGLE-BLG-T2CEP-352.dat\n",
      "OGLE-SMC-T2CEP-24.dat\n",
      "OGLE-BLG-T2CEP-042.dat\n",
      "OGLE-BLG-T2CEP-350.dat\n",
      "OGLE-LMC-T2CEP-061.dat\n",
      "OGLE-SMC-T2CEP-20.dat\n",
      "OGLE-BLG-T2CEP-340.dat\n",
      "OGLE-BLG-T2CEP-224.dat\n",
      "OGLE-BLG-T2CEP-202.dat\n",
      "OGLE-BLG-T2CEP-179.dat\n",
      "OGLE-BLG-T2CEP-345.dat\n",
      "OGLE-BLG-T2CEP-333.dat\n",
      "OGLE-LMC-T2CEP-113.dat\n",
      "OGLE-SMC-T2CEP-21.dat\n",
      "OGLE-LMC-T2CEP-025.dat\n",
      "OGLE-LMC-T2CEP-077.dat\n",
      "OGLE-BLG-T2CEP-209.dat\n",
      "OGLE-BLG-T2CEP-177.dat\n",
      "OGLE-BLG-T2CEP-354.dat\n",
      "OGLE-BLG-T2CEP-141.dat\n",
      "OGLE-BLG-T2CEP-349.dat\n",
      "OGLE-LMC-T2CEP-098.dat\n",
      "OGLE-BLG-T2CEP-084.dat\n",
      "OGLE-LMC-T2CEP-085.dat\n",
      "OGLE-BLG-T2CEP-347.dat\n",
      "OGLE-BLG-T2CEP-152.dat\n",
      "OGLE-BLG-T2CEP-357.dat\n",
      "OGLE-LMC-T2CEP-090.dat\n",
      "OGLE-BLG-T2CEP-182.dat\n",
      "OGLE-LMC-T2CEP-129.dat\n",
      "OGLE-BLG-T2CEP-048.dat\n",
      "OGLE-BLG-T2CEP-108.dat\n"
     ]
    }
   ],
   "source": [
    "%matplotlib inline\n",
    "import numpy as np\n",
    "import matplotlib\n",
    "matplotlib.use('Agg') # Must be before importing matplotlib.pyplot or pylab!\n",
    "import matplotlib.pyplot as plt\n",
    "from sklearn.neighbors import LocalOutlierFactor\n",
    "\n",
    "X = np.array(X[9493:])\n",
    "\n",
    "clf = LocalOutlierFactor(n_neighbors=20)\n",
    "y_pred = clf.fit_predict(X)\n",
    "outlier_ind = np.where(y_pred == -1)[0]\n",
    "\n",
    "print(y_pred)\n",
    "print('the number of t2ceps is ', len(y_pred), '\\n')\n",
    "\n",
    "print(outlier_ind)\n",
    "print(\" The num of outliers is \", len(outlier_ind), '\\n')\n",
    "\n",
    "print('These are the detected outliers.')\n",
    "names1 = names[9493:]\n",
    "for ind in outlier_ind:\n",
    "    print(names1[ind])\n"
   ]
  },
  {
   "cell_type": "markdown",
   "metadata": {},
   "source": [
    "### Unsupervised Outlier Detection using Local Outlier Factor (LOF)\n",
    "The LOF score of an observation is equal to the ratio of the average local density of its k-nearest neighbors, and its own local density: a normal instance is expected to have a local density similar to that of its neighbors, while abnormal data are expected to have much smaller local density. LOF can detect both local and global outliers.\n",
    "<img src=\"img/lof.png\", width=400, height=auto>\n"
   ]
  },
  {
   "cell_type": "code",
   "execution_count": null,
   "metadata": {
    "collapsed": true
   },
   "outputs": [],
   "source": [
    "%matplotlib inline\n",
    "import numpy as np\n",
    "import matplotlib\n",
    "matplotlib.use('Agg') # Must be before importing matplotlib.pyplot or pylab!\n",
    "import matplotlib.pyplot as plt\n",
    "from sklearn.neighbors import LocalOutlierFactor\n",
    "\n",
    "np.random.seed(42)\n",
    "\n",
    "\n",
    "# Generate train data\n",
    "X = 0.3 * np.random.randn(100, 2)\n",
    "# Generate some abnormal novel observations\n",
    "X_outliers = np.random.uniform(low=-4, high=4, size=(20, 2))\n",
    "X = np.r_[X + 2, X - 2, X_outliers]\n",
    "\n",
    "print(X)\n",
    "print(len(X))\n",
    "\n",
    "# fit the model\n",
    "clf = LocalOutlierFactor(n_neighbors=20)\n",
    "y_pred = clf.fit_predict(X)\n",
    "y_pred_outliers = y_pred[200:]\n",
    "\n",
    "print(y_pred)\n",
    "print(len(y_pred))\n",
    "\n",
    "# plot the level sets of the decision function\n",
    "xx, yy = np.meshgrid(np.linspace(-5, 5, 50), np.linspace(-5, 5, 50))\n",
    "Z = clf._decision_function(np.c_[xx.ravel(), yy.ravel()])\n",
    "Z = Z.reshape(xx.shape)\n",
    "\n",
    "plt.title(\"Local Outlier Factor (LOF)\")\n",
    "plt.contourf(xx, yy, Z, cmap=plt.cm.Blues_r)\n",
    "\n",
    "a = plt.scatter(X[:200, 0], X[:200, 1], c='white',\n",
    "                edgecolor='k', s=20)\n",
    "b = plt.scatter(X[200:, 0], X[200:, 1], c='red',\n",
    "                edgecolor='k', s=20)\n",
    "plt.axis('tight')\n",
    "plt.xlim((-5, 5))\n",
    "plt.ylim((-5, 5))\n",
    "plt.legend([a, b],\n",
    "           [\"normal observations\",\n",
    "            \"abnormal observations\"],\n",
    "           loc=\"upper left\")\n",
    "plt.show()"
   ]
  }
 ],
 "metadata": {
  "kernelspec": {
   "display_name": "Python [conda root]",
   "language": "python",
   "name": "conda-root-py"
  },
  "language_info": {
   "codemirror_mode": {
    "name": "ipython",
    "version": 3
   },
   "file_extension": ".py",
   "mimetype": "text/x-python",
   "name": "python",
   "nbconvert_exporter": "python",
   "pygments_lexer": "ipython3",
   "version": "3.5.4"
  }
 },
 "nbformat": 4,
 "nbformat_minor": 1
}
