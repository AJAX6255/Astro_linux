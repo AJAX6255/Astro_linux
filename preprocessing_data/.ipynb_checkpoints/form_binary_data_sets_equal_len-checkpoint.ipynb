{
 "cells": [
  {
   "cell_type": "markdown",
   "metadata": {},
   "source": [
    "### Dependencies"
   ]
  },
  {
   "cell_type": "code",
   "execution_count": 1,
   "metadata": {
    "collapsed": true
   },
   "outputs": [],
   "source": [
    "import sqlite3 # Database library.\n",
    "import os # Folder management library.\n",
    "import pickle # Serializing module.\n",
    "import numpy as np # Scientific computing library."
   ]
  },
  {
   "cell_type": "markdown",
   "metadata": {},
   "source": [
    "### Retrieving Star Data"
   ]
  },
  {
   "cell_type": "code",
   "execution_count": 2,
   "metadata": {},
   "outputs": [
    {
     "name": "stdout",
     "output_type": "stream",
     "text": [
      "Done.\n"
     ]
    }
   ],
   "source": [
    "# Initializing database and cursor.\n",
    "star_data_db = sqlite3.connect('star_data.db')\n",
    "star_data_cursor = star_data_db.cursor()\n",
    "\n",
    "# Retrieving star_data from database.\n",
    "classes = ['cep_1o', 'cep_f', 'dsct','eb_ec', 'eb_ed', 'eb_esd', 'lpv_mira_agb_c', 'lpv_mira_agb_o', 'lpv_osarg_agb',\n",
    "           'lpv_osarg_rgb', 'lpv_srv_agb_c', 'lpv_srv_agb_o', 'rrab', 'rrc', 'rrd', 'rre', 't2cep']\n",
    "\n",
    "X, Y = [], []\n",
    "for label, classv in enumerate(classes):\n",
    "    temp_X, temp_Y = [], []\n",
    "    star_data_cursor.execute('SELECT star_features FROM '+classv)\n",
    "    for row in star_data_cursor.fetchall()[:600]:\n",
    "        # Deserializing features.\n",
    "        features = pickle.loads(row[0])\n",
    "        temp_X.append(features)\n",
    "        if label != 16:\n",
    "            temp_Y.append(0)\n",
    "        if label == 16:\n",
    "            temp_Y.append(1)\n",
    "    X.append(temp_X)\n",
    "    Y.append(temp_Y)\n",
    "\n",
    "# Randomly shuffle data set for each label.\n",
    "for label, class_set in enumerate(X):\n",
    "    np.random.shuffle(X[label])\n",
    "\n",
    "# Form train, cross-validate, and test sets.\n",
    "# with 380 examples in train set, 110 in test set, and at most 110 in cv set.\n",
    "train_X, test_X = [], []\n",
    "train_Y, test_Y = [], []\n",
    "\n",
    "for label, class_set in enumerate(X[:16]):\n",
    "    train_X.append(X[label][0:200])\n",
    "    test_X.append(X[label][200:601])\n",
    "    \n",
    "    train_Y.append(Y[label][0:200])\n",
    "    test_Y.append(Y[label][200:601])\n",
    "\n",
    "# For t2cep\n",
    "train_X.append(X[16][0:450])\n",
    "test_X.append(X[16][450:601])\n",
    "\n",
    "train_Y.append(Y[16][0:450])\n",
    "test_Y.append(Y[16][450:601])\n",
    "    \n",
    "# Flatten lists.\n",
    "train_X = [item for sublist in train_X for item in sublist]\n",
    "test_X = [item for sublist in test_X for item in sublist]\n",
    "\n",
    "train_Y = [item for sublist in train_Y for item in sublist]\n",
    "test_Y = [item for sublist in test_Y for item in sublist]\n",
    "\n",
    "# Close cursor and database.    \n",
    "star_data_cursor.close\n",
    "star_data_db.close()\n",
    "\n",
    "print('Done.')"
   ]
  },
  {
   "cell_type": "markdown",
   "metadata": {},
   "source": [
    "### Creating Binary Classifier Data Sets -- Training, Cross Validation, Test"
   ]
  },
  {
   "cell_type": "code",
   "execution_count": 3,
   "metadata": {},
   "outputs": [
    {
     "name": "stdout",
     "output_type": "stream",
     "text": [
      "Done.\n"
     ]
    }
   ],
   "source": [
    "# Initializing database and cursor.\n",
    "star_sets_db = sqlite3.connect('star_data_sets_binary_equal.db')\n",
    "star_sets_cursor = star_sets_db.cursor()\n",
    "\n",
    "# Initializing table--(star type) and data type--(BLOB).\n",
    "star_sets_cursor.execute(\"CREATE TABLE IF NOT EXISTS train_set(X BLOB, Y BLOB)\")\n",
    "star_sets_cursor.execute(\"CREATE TABLE IF NOT EXISTS test_set(X BLOB, Y BLOB)\")\n",
    "\n",
    "# Serializing Data so that it can be stored in database.\n",
    "train_X_pickled = pickle.dumps(train_X, pickle.HIGHEST_PROTOCOL)\n",
    "train_Y_pickled = pickle.dumps(train_Y, pickle.HIGHEST_PROTOCOL)\n",
    "test_X_pickled = pickle.dumps(test_X, pickle.HIGHEST_PROTOCOL)\n",
    "test_Y_pickled = pickle.dumps(test_Y, pickle.HIGHEST_PROTOCOL)\n",
    "\n",
    "# Storing star_data in database for future reference.\n",
    "star_sets_cursor.execute(\"INSERT INTO train_set(X, Y) VALUES (?,?)\",\n",
    "                         (sqlite3.Binary(train_X_pickled), sqlite3.Binary(train_Y_pickled)))\n",
    "star_sets_cursor.execute(\"INSERT INTO test_set(X, Y) VALUES (?,?)\",\n",
    "                         (sqlite3.Binary(test_X_pickled), sqlite3.Binary(test_Y_pickled)))\n",
    "star_sets_db.commit()\n",
    "\n",
    "# Close cursor and database    \n",
    "star_sets_cursor.close\n",
    "star_sets_db.close()\n",
    "\n",
    "print(\"Done.\")"
   ]
  },
  {
   "cell_type": "code",
   "execution_count": 4,
   "metadata": {},
   "outputs": [
    {
     "name": "stdout",
     "output_type": "stream",
     "text": [
      "3650\n"
     ]
    }
   ],
   "source": [
    "print(len(train_X))"
   ]
  },
  {
   "cell_type": "code",
   "execution_count": null,
   "metadata": {
    "collapsed": true
   },
   "outputs": [],
   "source": []
  }
 ],
 "metadata": {
  "kernelspec": {
   "display_name": "Python [conda root]",
   "language": "python",
   "name": "conda-root-py"
  },
  "language_info": {
   "codemirror_mode": {
    "name": "ipython",
    "version": 3
   },
   "file_extension": ".py",
   "mimetype": "text/x-python",
   "name": "python",
   "nbconvert_exporter": "python",
   "pygments_lexer": "ipython3",
   "version": "3.5.4"
  }
 },
 "nbformat": 4,
 "nbformat_minor": 1
}
