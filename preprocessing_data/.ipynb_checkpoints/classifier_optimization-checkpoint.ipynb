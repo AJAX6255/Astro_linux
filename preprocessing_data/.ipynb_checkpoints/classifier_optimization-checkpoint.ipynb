{
 "cells": [
  {
   "cell_type": "markdown",
   "metadata": {},
   "source": [
    "### Optimization Techniques\n",
    "Methods to improve the accuracy or convergence time of an algorithm are:\n",
    "* Removing Outliers\n",
    "\n",
    "\n",
    "* Feature scaling.  It involves rescaling the features such that they have the properties of a standard normal distribution with a mean of zero and a standard deviation of one.  This will improve the time it takes to reach the optimal solution.\n",
    "\n",
    "\n",
    "* Dimensionality reduction with \"PCA\" or applying \"Feature Selection\" techniques. This reduces the complexity of the model, ergo, allowing it to be visualized better. Also, this improves convergence time.\n",
    "\n",
    "\n",
    "* Tune parameters for classifier. Any parameter provided when constructing a classifer may be optimized to improve accuracy of model. A validation curve can be constructed to determine the optimal value for a given parameter, http://scikit-learn.org/stable/modules/learning_curve.html#validation-curve.\n",
    "\n",
    "\n",
    "* Plot learning curves.  A learning curve displays if the algorithm is suffering from over-fitting, under-fitting, and if using more training examples will suffiently improve the algorithm's accuracy.\n",
    "\n",
    "\n",
    "* Try different algorithms. For example, random forrest, svm, neural networks."
   ]
  },
  {
   "cell_type": "markdown",
   "metadata": {},
   "source": [
    "### Dependencies"
   ]
  },
  {
   "cell_type": "code",
   "execution_count": 2,
   "metadata": {
    "collapsed": true
   },
   "outputs": [],
   "source": [
    "from sklearn import svm # SVM classifier.\n",
    "from sklearn.model_selection import GridSearchCV # Tuning hyper-parameters\n",
    "from sklearn.preprocessing import StandardScaler # Feature scaling library.\n",
    "import sqlite3 # Database library.\n",
    "import os # Folder management library.\n",
    "import pickle # Serializing module.\n",
    "import numpy as np # Scientific computing library.\n",
    "from sklearn.decomposition import PCA # Princliple Component Analysis library.\n",
    "import random # For some randomness\n",
    "from sklearn.ensemble import RandomForestClassifier # Random forrest classifier."
   ]
  },
  {
   "cell_type": "markdown",
   "metadata": {},
   "source": [
    "### Retrieve Data Sets"
   ]
  },
  {
   "cell_type": "code",
   "execution_count": 3,
   "metadata": {},
   "outputs": [
    {
     "name": "stdout",
     "output_type": "stream",
     "text": [
      "Done.\n"
     ]
    }
   ],
   "source": [
    "# Initializing database and cursor.\n",
    "star_data_db = sqlite3.connect('star_data_sets_binary_removed_outliers.db')\n",
    "star_data_cursor = star_data_db.cursor()\n",
    "\n",
    "sets = ['train_set', 'test_set', 'cv_set']\n",
    "set_types = ['X', 'Y']\n",
    "\n",
    "X_train, X_cv, X_test = [], [], []\n",
    "y_train, y_cv, y_test = [], [], []\n",
    "\n",
    "data_temp = []\n",
    "for dset in sets:\n",
    "    for set_type in set_types:\n",
    "        star_data_cursor.execute('SELECT '+set_type+' FROM '+dset)\n",
    "        for row in star_data_cursor.fetchall():\n",
    "            # Deserializing features.\n",
    "            data = pickle.loads(row[0])\n",
    "            data_temp.append(data)\n",
    "\n",
    "X_train = np.array(data_temp[0])\n",
    "y_train = np.array(data_temp[1])\n",
    "\n",
    "X_test = np.array(data_temp[2])\n",
    "y_test = np.array(data_temp[3])\n",
    "\n",
    "X_cv = np.array(data_temp[4])\n",
    "y_cv = np.array(data_temp[5])\n",
    "\n",
    "print('Done.')"
   ]
  },
  {
   "cell_type": "markdown",
   "metadata": {},
   "source": [
    "### Merging Train and CV Sets"
   ]
  },
  {
   "cell_type": "code",
   "execution_count": 4,
   "metadata": {},
   "outputs": [
    {
     "name": "stdout",
     "output_type": "stream",
     "text": [
      "(6460, 64) (1747, 64)\n",
      "(8207, 64) (8207,)\n"
     ]
    }
   ],
   "source": [
    "print(X_train.shape, X_cv.shape)\n",
    "\n",
    "X_train = np.concatenate((X_train, X_cv), axis=0)\n",
    "y_train = np.concatenate((y_train, y_cv), axis=0)\n",
    "\n",
    "print(X_train.shape, y_train.shape)"
   ]
  },
  {
   "cell_type": "markdown",
   "metadata": {},
   "source": [
    "### Feature Scaling\n",
    "This will center the data for each feature by substracting the mean, and normalize it by dividing by the standard deviation (std).\n",
    "\n",
    "\n",
    "Note: the mean and std of the training set is used and NOT the test set as to not give information to the classifier about the test set."
   ]
  },
  {
   "cell_type": "code",
   "execution_count": 5,
   "metadata": {},
   "outputs": [
    {
     "name": "stdout",
     "output_type": "stream",
     "text": [
      "Done\n"
     ]
    }
   ],
   "source": [
    "# Get mean and std of training set.\n",
    "scaler = StandardScaler()\n",
    "scaler.fit(X_train)\n",
    "\n",
    "# Scale features of train and test sets using mean and std of train set.\n",
    "X_train=scaler.transform(X_train)\n",
    "X_test=scaler.transform(X_test)\n",
    "\n",
    "print('Done')"
   ]
  },
  {
   "cell_type": "markdown",
   "metadata": {},
   "source": [
    "### Princliple Component Analysis (PCA)"
   ]
  },
  {
   "cell_type": "code",
   "execution_count": 6,
   "metadata": {},
   "outputs": [
    {
     "name": "stdout",
     "output_type": "stream",
     "text": [
      "[ 0.22946916  0.1492121   0.07997562  0.04660484  0.03831408  0.03394071\n",
      "  0.03295735  0.03180765  0.02838721  0.0257649   0.023868    0.02122975\n",
      "  0.02067399  0.01722213  0.0159777   0.0150636   0.01422896  0.01409813\n",
      "  0.01059631  0.01008938  0.00944942  0.00860538  0.00844368  0.00832743\n",
      "  0.00829446  0.00805675  0.00800575  0.00767026  0.00707921  0.00657281\n",
      "  0.0061162   0.00540241  0.00525031  0.00460272  0.00428438  0.00399278\n",
      "  0.00342608  0.00329999  0.0029669   0.00274739  0.00235956  0.00229802\n",
      "  0.00189824  0.00180002  0.00166999]\n",
      "0.992101696569 This is the amount of variation maintained with pca.\n",
      "(8207, 45) (1870, 45)\n",
      "(8207, 64) (1870, 64)\n"
     ]
    }
   ],
   "source": [
    "pca = PCA(n_components=45)\n",
    "pca.fit(X_train)\n",
    "\n",
    "X_train_pca = pca.transform(X_train)\n",
    "X_test_pca = pca.transform(X_test)\n",
    "\n",
    "print(pca.explained_variance_ratio_)\n",
    "print(sum(pca.explained_variance_ratio_), 'This is the amount of variation maintained with pca.')\n",
    "\n",
    "print(X_train_pca.shape, X_test_pca.shape)\n",
    "print(X_train.shape, X_test.shape)\n"
   ]
  },
  {
   "cell_type": "code",
   "execution_count": 16,
   "metadata": {},
   "outputs": [
    {
     "name": "stdout",
     "output_type": "stream",
     "text": [
      "start\n",
      "1.0\n",
      "0.958823529412\n",
      "0.327272727273\n"
     ]
    }
   ],
   "source": [
    "from sklearn.ensemble import RandomForestClassifier # Random forrest classifier.\n",
    "\n",
    "print('start')\n",
    "clf = RandomForestClassifier(n_estimators=1000, n_jobs=4, class_weight = {0:.2, 1:.8})\n",
    "clf.fit(X_train_pca, y_train)\n",
    "\n",
    "print(clf.score(X_train_pca, y_train))\n",
    "print(clf.score(X_test_pca, y_test))\n",
    "print(clf.score(X_test_pca[1760:], y_test[1760:]))\n"
   ]
  },
  {
   "cell_type": "markdown",
   "metadata": {},
   "source": [
    "### Tuning Hyper-Parameters for Classifier\n",
    "Hyper-parameters are parameters that are not directly learnt within estimators. In scikit-learn they are passed as arguments to the constructor of the estimator classes. Typical examples include C, kernel and gamma for Support Vector Classifier, alpha for Lasso, etc.\n",
    "\n",
    "\n",
    "Hyper-parameters can be choses by searching the Hyper-parameter space for the best cross validation score using GridSearchCV http://scikit-learn.org/stable/modules/generated/sklearn.model_selection.GridSearchCV.html#sklearn.model_selection.GridSearchCV."
   ]
  },
  {
   "cell_type": "code",
   "execution_count": 15,
   "metadata": {},
   "outputs": [
    {
     "name": "stdout",
     "output_type": "stream",
     "text": [
      "0.88915956151 cv\n",
      "0.926315789474 pos cv\n",
      "[1 1 1 1 1 1 1 1 1 1 1 1 1 1 0 1 1 1 1 1 1 1 1 1 0 0 1 1 1 1 1 1 1 1 0 1 0\n",
      " 1 0 1 1 1 1 1 1 0 1 1 1 1 1 1 1 1 1 1 1 1 1 1 1 1 1 1 1 1 1 1 1 1 1 1 1 1\n",
      " 1 1 1 1 1 1 1 1 1 1 1 1 1 1 1 1 1 1 1 1 1]  \n",
      " [1, 1, 1, 1, 1, 1, 1, 1, 1, 1, 1, 1, 1, 1, 1, 1, 1, 1, 1, 1, 1, 1, 1, 1, 1, 1, 1, 1, 1, 1, 1, 1, 1, 1, 1, 1, 1, 1, 1, 1, 1, 1, 1, 1, 1, 1, 1, 1, 1, 1, 1, 1, 1, 1, 1, 1, 1, 1, 1, 1, 1, 1, 1, 1, 1, 1, 1, 1, 1, 1, 1, 1, 1, 1, 1, 1, 1, 1, 1, 1, 1, 1, 1, 1, 1, 1, 1, 1, 1, 1, 1, 1, 1, 1, 1]\n",
      "0.881851400731 cv\n",
      "0.905263157895 pos cv\n",
      "[1 0 1 1 1 1 1 1 1 1 1 1 1 0 1 1 1 0 0 1 0 1 1 1 1 1 1 1 1 1 1 1 1 1 1 1 1\n",
      " 1 1 1 1 1 1 1 1 1 1 1 1 1 1 1 1 1 1 1 1 0 1 1 1 1 1 1 1 1 1 1 1 1 1 1 1 0\n",
      " 1 1 1 0 1 1 1 1 1 1 0 1 1 1 1 1 1 1 1 1 1]  \n",
      " [1, 1, 1, 1, 1, 1, 1, 1, 1, 1, 1, 1, 1, 1, 1, 1, 1, 1, 1, 1, 1, 1, 1, 1, 1, 1, 1, 1, 1, 1, 1, 1, 1, 1, 1, 1, 1, 1, 1, 1, 1, 1, 1, 1, 1, 1, 1, 1, 1, 1, 1, 1, 1, 1, 1, 1, 1, 1, 1, 1, 1, 1, 1, 1, 1, 1, 1, 1, 1, 1, 1, 1, 1, 1, 1, 1, 1, 1, 1, 1, 1, 1, 1, 1, 1, 1, 1, 1, 1, 1, 1, 1, 1, 1, 1]\n",
      "0.886114494519 cv\n",
      "0.863157894737 pos cv\n",
      "[1 1 1 1 0 0 1 1 1 1 1 1 1 1 1 1 1 1 0 1 1 1 0 1 1 1 1 1 1 0 0 0 1 1 1 1 1\n",
      " 1 1 1 1 1 1 1 1 1 0 1 1 1 1 1 1 1 1 1 1 1 1 1 1 1 1 0 1 0 1 1 1 1 1 1 1 1\n",
      " 1 1 1 0 1 1 0 1 1 1 1 1 1 1 1 1 1 1 0 1 1]  \n",
      " [1, 1, 1, 1, 1, 1, 1, 1, 1, 1, 1, 1, 1, 1, 1, 1, 1, 1, 1, 1, 1, 1, 1, 1, 1, 1, 1, 1, 1, 1, 1, 1, 1, 1, 1, 1, 1, 1, 1, 1, 1, 1, 1, 1, 1, 1, 1, 1, 1, 1, 1, 1, 1, 1, 1, 1, 1, 1, 1, 1, 1, 1, 1, 1, 1, 1, 1, 1, 1, 1, 1, 1, 1, 1, 1, 1, 1, 1, 1, 1, 1, 1, 1, 1, 1, 1, 1, 1, 1, 1, 1, 1, 1, 1, 1]\n",
      "0.886723507917 cv\n",
      "0.863157894737 pos cv\n",
      "[1 1 1 1 1 1 1 1 1 1 1 1 1 0 1 1 1 0 1 1 1 0 0 1 1 1 0 1 1 1 1 1 1 1 1 0 1\n",
      " 0 1 1 1 1 0 1 1 1 1 1 1 1 1 1 1 1 1 1 1 1 1 1 1 1 1 1 1 1 1 0 1 1 1 1 1 1\n",
      " 1 1 1 1 0 1 1 1 1 1 1 0 0 1 1 1 1 0 1 1 1]  \n",
      " [1, 1, 1, 1, 1, 1, 1, 1, 1, 1, 1, 1, 1, 1, 1, 1, 1, 1, 1, 1, 1, 1, 1, 1, 1, 1, 1, 1, 1, 1, 1, 1, 1, 1, 1, 1, 1, 1, 1, 1, 1, 1, 1, 1, 1, 1, 1, 1, 1, 1, 1, 1, 1, 1, 1, 1, 1, 1, 1, 1, 1, 1, 1, 1, 1, 1, 1, 1, 1, 1, 1, 1, 1, 1, 1, 1, 1, 1, 1, 1, 1, 1, 1, 1, 1, 1, 1, 1, 1, 1, 1, 1, 1, 1, 1]\n",
      "0.886114494519 cv\n",
      "0.915789473684 pos cv\n",
      "[1 1 1 1 1 1 1 1 1 1 1 0 1 1 1 1 1 1 1 0 1 1 1 1 1 1 1 1 1 1 1 0 1 1 1 1 1\n",
      " 1 1 1 1 1 1 1 1 1 1 1 1 1 1 1 1 1 1 1 0 1 1 1 0 1 1 1 1 0 1 1 1 1 1 1 1 1\n",
      " 1 1 1 1 0 1 1 1 1 1 1 0 1 1 1 1 1 1 1 1 1]  \n",
      " [1, 1, 1, 1, 1, 1, 1, 1, 1, 1, 1, 1, 1, 1, 1, 1, 1, 1, 1, 1, 1, 1, 1, 1, 1, 1, 1, 1, 1, 1, 1, 1, 1, 1, 1, 1, 1, 1, 1, 1, 1, 1, 1, 1, 1, 1, 1, 1, 1, 1, 1, 1, 1, 1, 1, 1, 1, 1, 1, 1, 1, 1, 1, 1, 1, 1, 1, 1, 1, 1, 1, 1, 1, 1, 1, 1, 1, 1, 1, 1, 1, 1, 1, 1, 1, 1, 1, 1, 1, 1, 1, 1, 1, 1, 1]\n",
      "0.868983957219 test\n",
      "0.865909090909 not t2cep\n",
      "0.918181818182 t2cep\n",
      "[1 1 1 1 1 1 1 1 1 1 0 1 1 1 1 1 0 1 1 1 1 1 1 1 1 1 1 1 1 1 1 0 0 1 1 1 1\n",
      " 1 1 1 1 1 1 1 1 1 1 1 1 0 1 1 1 1 1 1 1 1 1 1 1 0 1 1 1 1 1 1 1 0 1 0 0 1\n",
      " 1 1 1 1 1 1 1 1 1 1 1 1 1 1 1 1 1 1 1 1 1 1 1 1 1 1 1 1 1 1 1 1 1 1 1 1]  \n",
      " [1 1 1 1 1 1 1 1 1 1 1 1 1 1 1 1 1 1 1 1 1 1 1 1 1 1 1 1 1 1 1 1 1 1 1 1 1\n",
      " 1 1 1 1 1 1 1 1 1 1 1 1 1 1 1 1 1 1 1 1 1 1 1 1 1 1 1 1 1 1 1 1 1 1 1 1 1\n",
      " 1 1 1 1 1 1 1 1 1 1 1 1 1 1 1 1 1 1 1 1 1 1 1 1 1 1 1 1 1 1 1 1 1 1 1 1]\n"
     ]
    }
   ],
   "source": [
    "# CV set by using random 20% of data. Repeat 10 times.\n",
    "for num in range(0, 5):\n",
    "\n",
    "    # Indicies of positive examples in train set.\n",
    "    ind_pos = np.where(y_train == 1)[0]\n",
    "    # Indicies of negative examples in train set.\n",
    "    ind_neg = np.where(y_train == 0)[0]\n",
    "\n",
    "    # 20% of the training set used as a cross-validation set.\n",
    "    len_pos_cv = int(round(0.2*len(ind_pos)))\n",
    "    len_neg_cv = int(round(0.2*len(ind_neg)))\n",
    "\n",
    "    ind_pos_cv = random.sample(set(ind_pos), len_pos_cv)\n",
    "    ind_neg_cv = random.sample(set(ind_neg), len_neg_cv)\n",
    "\n",
    "    # Temporary train and cross-validation sets.\n",
    "    X_train_temp, y_train_temp = [], []\n",
    "    X_cv_temp, y_cv_temp = [], []\n",
    "    # For score purposes.\n",
    "    X_cv_pos, y_cv_pos = [], []\n",
    "\n",
    "\n",
    "    for ind in range(0, len(X_train_pca)):\n",
    "        if ind not in ind_pos_cv and ind not in ind_neg_cv:\n",
    "            X_train_temp.append(X_train_pca[ind])\n",
    "            y_train_temp.append(y_train[ind])\n",
    "        if ind in ind_pos_cv:\n",
    "            X_cv_temp.append(X_train_pca[ind])\n",
    "            y_cv_temp.append(1)\n",
    "            X_cv_pos.append(X_train_pca[ind])\n",
    "            y_cv_pos.append(1)\n",
    "        if ind in ind_neg_cv:\n",
    "            X_cv_temp.append(X_train_pca[ind])\n",
    "            y_cv_temp.append(0)\n",
    "\n",
    "    X_train_temp, y_train_temp = np.array(X_train_temp), np.array(y_train_temp) \n",
    "    X_cv_temp, y_cv_temp = np.array(X_cv_temp), np.array(y_cv_temp)\n",
    "\n",
    "#     print(len_neg_cv, len_pos_cv)\n",
    "#     print(X_train_temp.shape, y_train_temp.shape)\n",
    "#     print(X_cv_temp.shape, y_cv_temp.shape)\n",
    "\n",
    "    #print(len(y_cv_pos))\n",
    "    \n",
    "    clf = svm.SVC(C = 100,gamma=0.01, kernel='rbf', class_weight = {0:.02, 1:.98})\n",
    "    clf.fit(X_train_temp, y_train_temp)\n",
    "    \n",
    "    print(clf.score(X_cv_temp, y_cv_temp), 'cv')\n",
    "    print(clf.score(X_cv_pos, y_cv_pos), 'pos cv')\n",
    "    print(clf.predict(X_cv_pos), ' \\n', y_cv_pos)\n",
    "\n",
    "print(clf.score(X_test_pca, y_test), 'test')\n",
    "print(clf.score(X_test_pca[:1760], y_test[:1760]), 'not t2cep')\n",
    "print(clf.score(X_test_pca[1760:], y_test[1760:]), 't2cep')\n",
    "print(clf.predict(X_test_pca[1760:]), ' \\n', y_test[1760:])"
   ]
  },
  {
   "cell_type": "markdown",
   "metadata": {},
   "source": [
    "### Ensemble Method"
   ]
  },
  {
   "cell_type": "code",
   "execution_count": 26,
   "metadata": {},
   "outputs": [
    {
     "name": "stdout",
     "output_type": "stream",
     "text": [
      "start\n",
      "0.913520097442 cv\n",
      "0.757894736842 pos cv\n",
      "[1 0 1 1 0 0 1 1 0 1 1 1 1 0 1 1 1 1 1 1 1 1 1 1 0 1 1 1 0 1 1 1 1 1 1 1 1\n",
      " 1 0 1 1 1 0 0 1 1 1 0 1 1 1 1 0 1 0 1 0 1 0 1 0 1 1 0 1 0 1 0 1 1 0 0 1 1\n",
      " 0 1 1 1 1 1 1 1 0 1 1 1 1 1 1 1 1 1 1 1 1]  \n",
      " [1, 1, 1, 1, 1, 1, 1, 1, 1, 1, 1, 1, 1, 1, 1, 1, 1, 1, 1, 1, 1, 1, 1, 1, 1, 1, 1, 1, 1, 1, 1, 1, 1, 1, 1, 1, 1, 1, 1, 1, 1, 1, 1, 1, 1, 1, 1, 1, 1, 1, 1, 1, 1, 1, 1, 1, 1, 1, 1, 1, 1, 1, 1, 1, 1, 1, 1, 1, 1, 1, 1, 1, 1, 1, 1, 1, 1, 1, 1, 1, 1, 1, 1, 1, 1, 1, 1, 1, 1, 1, 1, 1, 1, 1, 1]\n",
      "0.911084043849 cv\n",
      "0.789473684211 pos cv\n",
      "[1 1 1 1 1 0 0 1 1 1 1 1 1 0 1 1 1 0 1 1 1 0 1 1 0 1 1 1 1 1 1 1 1 0 1 1 1\n",
      " 1 1 1 1 0 1 0 1 0 1 1 0 1 1 0 1 1 0 1 1 1 1 1 1 1 1 0 1 1 1 0 0 0 1 1 1 1\n",
      " 1 1 1 1 0 1 1 1 1 1 0 1 1 1 1 1 1 1 0 1 1]  \n",
      " [1, 1, 1, 1, 1, 1, 1, 1, 1, 1, 1, 1, 1, 1, 1, 1, 1, 1, 1, 1, 1, 1, 1, 1, 1, 1, 1, 1, 1, 1, 1, 1, 1, 1, 1, 1, 1, 1, 1, 1, 1, 1, 1, 1, 1, 1, 1, 1, 1, 1, 1, 1, 1, 1, 1, 1, 1, 1, 1, 1, 1, 1, 1, 1, 1, 1, 1, 1, 1, 1, 1, 1, 1, 1, 1, 1, 1, 1, 1, 1, 1, 1, 1, 1, 1, 1, 1, 1, 1, 1, 1, 1, 1, 1, 1]\n",
      "0.919610231425 cv\n",
      "0.778947368421 pos cv\n",
      "[0 1 1 0 0 1 1 1 1 0 0 0 1 1 1 0 1 1 1 0 0 1 0 0 0 0 1 0 1 1 1 1 1 1 1 1 1\n",
      " 1 1 1 0 0 1 1 1 1 1 1 1 1 1 1 1 1 0 1 1 1 1 1 1 1 1 1 1 1 1 1 1 1 0 0 1 1\n",
      " 0 1 1 1 1 1 1 1 1 1 0 1 1 1 1 1 1 1 1 1 1]  \n",
      " [1, 1, 1, 1, 1, 1, 1, 1, 1, 1, 1, 1, 1, 1, 1, 1, 1, 1, 1, 1, 1, 1, 1, 1, 1, 1, 1, 1, 1, 1, 1, 1, 1, 1, 1, 1, 1, 1, 1, 1, 1, 1, 1, 1, 1, 1, 1, 1, 1, 1, 1, 1, 1, 1, 1, 1, 1, 1, 1, 1, 1, 1, 1, 1, 1, 1, 1, 1, 1, 1, 1, 1, 1, 1, 1, 1, 1, 1, 1, 1, 1, 1, 1, 1, 1, 1, 1, 1, 1, 1, 1, 1, 1, 1, 1]\n",
      "0.898294762485 cv\n",
      "0.757894736842 pos cv\n",
      "[1 1 1 1 1 1 0 1 0 1 0 1 1 1 1 0 1 0 1 1 1 1 1 0 0 1 1 1 0 0 1 0 1 1 1 1 1\n",
      " 1 1 1 0 1 1 1 1 1 1 0 1 1 1 1 0 1 1 1 1 1 0 0 1 1 0 1 1 0 1 1 1 0 1 0 1 0\n",
      " 1 1 0 1 1 1 0 1 1 1 1 1 1 1 1 0 1 1 1 1 1]  \n",
      " [1, 1, 1, 1, 1, 1, 1, 1, 1, 1, 1, 1, 1, 1, 1, 1, 1, 1, 1, 1, 1, 1, 1, 1, 1, 1, 1, 1, 1, 1, 1, 1, 1, 1, 1, 1, 1, 1, 1, 1, 1, 1, 1, 1, 1, 1, 1, 1, 1, 1, 1, 1, 1, 1, 1, 1, 1, 1, 1, 1, 1, 1, 1, 1, 1, 1, 1, 1, 1, 1, 1, 1, 1, 1, 1, 1, 1, 1, 1, 1, 1, 1, 1, 1, 1, 1, 1, 1, 1, 1, 1, 1, 1, 1, 1]\n",
      "0.923264311815 cv\n",
      "0.821052631579 pos cv\n",
      "[1 1 1 0 1 0 1 1 1 1 1 1 1 1 1 1 1 1 0 1 1 0 0 1 0 1 1 1 1 1 1 1 1 1 0 1 1\n",
      " 1 1 1 1 0 0 1 1 1 0 1 1 1 1 0 1 1 1 1 1 1 1 1 1 1 1 1 0 1 1 1 1 0 1 1 0 1\n",
      " 1 1 1 1 1 0 0 1 1 1 1 0 1 1 1 1 1 1 1 1 1]  \n",
      " [1, 1, 1, 1, 1, 1, 1, 1, 1, 1, 1, 1, 1, 1, 1, 1, 1, 1, 1, 1, 1, 1, 1, 1, 1, 1, 1, 1, 1, 1, 1, 1, 1, 1, 1, 1, 1, 1, 1, 1, 1, 1, 1, 1, 1, 1, 1, 1, 1, 1, 1, 1, 1, 1, 1, 1, 1, 1, 1, 1, 1, 1, 1, 1, 1, 1, 1, 1, 1, 1, 1, 1, 1, 1, 1, 1, 1, 1, 1, 1, 1, 1, 1, 1, 1, 1, 1, 1, 1, 1, 1, 1, 1, 1, 1]\n",
      "0.913903743316 test\n",
      "0.921590909091 not t2cep\n",
      "0.790909090909 t2cep\n",
      "[1 1 0 1 0 1 1 0 1 0 0 0 1 1 1 0 0 1 1 1 1 1 1 1 1 1 1 1 1 1 1 0 0 1 1 1 1\n",
      " 0 1 1 0 1 0 1 1 1 1 1 1 1 1 1 1 1 1 1 1 1 1 1 1 0 1 1 0 1 1 1 1 0 1 0 1 0\n",
      " 1 1 0 1 1 1 1 0 1 1 1 1 0 1 1 1 1 1 0 1 1 1 1 1 1 1 0 1 1 1 1 1 1 1 1 1]  \n",
      " [1 1 1 1 1 1 1 1 1 1 1 1 1 1 1 1 1 1 1 1 1 1 1 1 1 1 1 1 1 1 1 1 1 1 1 1 1\n",
      " 1 1 1 1 1 1 1 1 1 1 1 1 1 1 1 1 1 1 1 1 1 1 1 1 1 1 1 1 1 1 1 1 1 1 1 1 1\n",
      " 1 1 1 1 1 1 1 1 1 1 1 1 1 1 1 1 1 1 1 1 1 1 1 1 1 1 1 1 1 1 1 1 1 1 1 1]\n"
     ]
    }
   ],
   "source": [
    "print('start')\n",
    "# clfs = svm.SVC(C = 100, gamma=0.01, kernel='poly', class_weight = {0:.01, 1:.99})\n",
    "# clfs.fit(X_train_pca, y_train)\n",
    "\n",
    "# print(clfs.score(X_test_pca, y_test), 'test')\n",
    "# print(clfs.score(X_test_pca[:1760], y_test[:1760]), 'not t2cep')\n",
    "# print(clfs.score(X_test_pca[1760:], y_test[1760:]), 't2cep')\n",
    "# print(clfs.predict(X_test_pca[1760:]), ' \\n', y_test[1760:])\n",
    "\n",
    "# CV set by using random 20% of data. Repeat 10 times.\n",
    "for num in range(0, 5):\n",
    "\n",
    "    # Indicies of positive examples in train set.\n",
    "    ind_pos = np.where(y_train == 1)[0]\n",
    "    # Indicies of negative examples in train set.\n",
    "    ind_neg = np.where(y_train == 0)[0]\n",
    "\n",
    "    # 20% of the training set used as a cross-validation set.\n",
    "    len_pos_cv = int(round(0.2*len(ind_pos)))\n",
    "    len_neg_cv = int(round(0.2*len(ind_neg)))\n",
    "\n",
    "    ind_pos_cv = random.sample(set(ind_pos), len_pos_cv)\n",
    "    ind_neg_cv = random.sample(set(ind_neg), len_neg_cv)\n",
    "\n",
    "    # Temporary train and cross-validation sets.\n",
    "    X_train_temp, y_train_temp = [], []\n",
    "    X_cv_temp, y_cv_temp = [], []\n",
    "    # For score purposes.\n",
    "    X_cv_pos, y_cv_pos = [], []\n",
    "\n",
    "\n",
    "    for ind in range(0, len(X_train_pca)):\n",
    "        if ind not in ind_pos_cv and ind not in ind_neg_cv:\n",
    "            X_train_temp.append(X_train_pca[ind])\n",
    "            y_train_temp.append(y_train[ind])\n",
    "        if ind in ind_pos_cv:\n",
    "            X_cv_temp.append(X_train_pca[ind])\n",
    "            y_cv_temp.append(1)\n",
    "            X_cv_pos.append(X_train_pca[ind])\n",
    "            y_cv_pos.append(1)\n",
    "        if ind in ind_neg_cv:\n",
    "            X_cv_temp.append(X_train_pca[ind])\n",
    "            y_cv_temp.append(0)\n",
    "\n",
    "    X_train_temp, y_train_temp = np.array(X_train_temp), np.array(y_train_temp) \n",
    "    X_cv_temp, y_cv_temp = np.array(X_cv_temp), np.array(y_cv_temp)\n",
    "\n",
    "#     print(len_neg_cv, len_pos_cv)\n",
    "#     print(X_train_temp.shape, y_train_temp.shape)\n",
    "#     print(X_cv_temp.shape, y_cv_temp.shape)\n",
    "\n",
    "    #print(len(y_cv_pos))\n",
    "    \n",
    "    clf = svm.SVC(C=10, kernel='poly', class_weight={0:.08, 1:.92}, degree=2)\n",
    "    clf.fit(X_train_temp, y_train_temp)\n",
    "    \n",
    "    print(clf.score(X_cv_temp, y_cv_temp), 'cv')\n",
    "    print(clf.score(X_cv_pos, y_cv_pos), 'pos cv')\n",
    "    print(clf.predict(X_cv_pos), ' \\n', y_cv_pos)\n",
    "\n",
    "print(clf.score(X_test_pca, y_test), 'test')\n",
    "print(clf.score(X_test_pca[:1760], y_test[:1760]), 'not t2cep')\n",
    "print(clf.score(X_test_pca[1760:], y_test[1760:]), 't2cep')\n",
    "print(clf.predict(X_test_pca[1760:]), ' \\n', y_test[1760:])"
   ]
  },
  {
   "cell_type": "code",
   "execution_count": 6,
   "metadata": {},
   "outputs": [
    {
     "name": "stdout",
     "output_type": "stream",
     "text": [
      "start\n",
      "1.0\n",
      "0.959893048128\n",
      "0.336363636364\n",
      " \n",
      "0.822459893048 test\n",
      "0.814204545455 not t2cep\n",
      "0.954545454545 t2cep\n",
      "[1 1 1 1 1 1 1 1 1 1 0 1 1 1 1 1 0 1 1 1 1 1 1 1 1 1 1 1 1 1 1 1 1 1 1 1 1\n",
      " 1 1 1 1 1 1 1 1 1 1 1 1 1 1 1 1 1 1 1 1 1 1 1 1 0 1 1 1 1 1 1 1 0 1 1 0 1\n",
      " 1 1 1 1 1 1 1 1 1 1 1 1 1 1 1 1 1 1 1 1 1 1 1 1 1 1 1 1 1 1 1 1 1 1 1 1]  \n",
      " [1 1 1 1 1 1 1 1 1 1 1 1 1 1 1 1 1 1 1 1 1 1 1 1 1 1 1 1 1 1 1 1 1 1 1 1 1\n",
      " 1 1 1 1 1 1 1 1 1 1 1 1 1 1 1 1 1 1 1 1 1 1 1 1 1 1 1 1 1 1 1 1 1 1 1 1 1\n",
      " 1 1 1 1 1 1 1 1 1 1 1 1 1 1 1 1 1 1 1 1 1 1 1 1 1 1 1 1 1 1 1 1 1 1 1 1]\n"
     ]
    }
   ],
   "source": [
    "print('start')\n",
    "clfr = RandomForestClassifier(n_estimators=100, n_jobs=-1)\n",
    "clfr.fit(X_train_pca, y_train)\n",
    "\n",
    "print(clfr.score(X_train_pca, y_train))\n",
    "print(clfr.score(X_test_pca, y_test))\n",
    "print(clfr.score(X_test_pca[1760:], y_test[1760:]))\n",
    "\n",
    "\n",
    "print(' ')\n",
    "\n",
    "clfs = svm.SVC(C = 100, gamma=0.01, kernel='rbf', class_weight = {0:.01, 1:.99})\n",
    "clfs.fit(X_train_pca, y_train)\n",
    "\n",
    "print(clfs.score(X_test_pca, y_test), 'test')\n",
    "print(clfs.score(X_test_pca[:1760], y_test[:1760]), 'not t2cep')\n",
    "print(clfs.score(X_test_pca[1760:], y_test[1760:]), 't2cep')\n",
    "print(clfs.predict(X_test_pca[1760:]), ' \\n', y_test[1760:])\n",
    "\n"
   ]
  },
  {
   "cell_type": "code",
   "execution_count": 17,
   "metadata": {},
   "outputs": [
    {
     "name": "stdout",
     "output_type": "stream",
     "text": [
      "start\n",
      "0.948824174485 oob score\n"
     ]
    },
    {
     "name": "stderr",
     "output_type": "stream",
     "text": [
      "/home/amanjot_bhullar/anaconda3/lib/python3.5/site-packages/sklearn/ensemble/bagging.py:605: UserWarning: Some inputs do not have OOB scores. This probably means too few estimators were used to compute any reliable oob estimates.\n",
      "  warn(\"Some inputs do not have OOB scores. \"\n",
      "/home/amanjot_bhullar/anaconda3/lib/python3.5/site-packages/sklearn/ensemble/bagging.py:610: RuntimeWarning: invalid value encountered in true_divide\n",
      "  predictions.sum(axis=1)[:, np.newaxis])\n"
     ]
    },
    {
     "name": "stdout",
     "output_type": "stream",
     "text": [
      "0.950267379679 test\n",
      "1.0 not t2cep\n",
      "0.154545454545 t2cep\n"
     ]
    }
   ],
   "source": [
    "from sklearn.ensemble import BaggingClassifier\n",
    "from sklearn.neighbors import KNeighborsClassifier\n",
    "\n",
    "print('start')\n",
    "\n",
    "m = KNeighborsClassifier(n_neighbors = 13)\n",
    "bag = BaggingClassifier(m, max_samples=0.5, n_jobs=4, oob_score= True)\n",
    "\n",
    "bag.fit(X_train_pca, y_train)\n",
    "\n",
    "print(bag.oob_score_, 'oob score')\n",
    "print(bag.score(X_test_pca, y_test), 'test')\n",
    "print(bag.score(X_test_pca[:1760], y_test[:1760]), 'not t2cep')\n",
    "print(bag.score(X_test_pca[1760:], y_test[1760:]), 't2cep')"
   ]
  },
  {
   "cell_type": "code",
   "execution_count": 6,
   "metadata": {},
   "outputs": [
    {
     "name": "stdout",
     "output_type": "stream",
     "text": [
      "start.\n",
      "0.968983957219 test\n",
      "0.995454545455 not t2cep\n",
      "0.545454545455 t2cep\n"
     ]
    }
   ],
   "source": [
    "from sklearn.ensemble import GradientBoostingClassifier\n",
    "\n",
    "print('start.')\n",
    "\n",
    "m = GradientBoostingClassifier(n_estimators=1000)\n",
    "\n",
    "m.fit(X_train_pca, y_train)\n",
    "\n",
    "print(m.score(X_test_pca, y_test), 'test')\n",
    "print(m.score(X_test_pca[:1760], y_test[:1760]), 'not t2cep')\n",
    "print(m.score(X_test_pca[1760:], y_test[1760:]), 't2cep')"
   ]
  },
  {
   "cell_type": "markdown",
   "metadata": {},
   "source": [
    "### Voting Ensemble"
   ]
  },
  {
   "cell_type": "code",
   "execution_count": 16,
   "metadata": {},
   "outputs": [
    {
     "name": "stdout",
     "output_type": "stream",
     "text": [
      "start\n",
      "0.898395721925 test\n",
      "0.897727272727 not t2cep\n",
      "0.909090909091 t2cep\n"
     ]
    }
   ],
   "source": [
    "from sklearn.ensemble import VotingClassifier\n",
    "from sklearn.ensemble import GradientBoostingClassifier\n",
    "from sklearn.neighbors import KNeighborsClassifier\n",
    "\n",
    "\n",
    "print('start')\n",
    "\n",
    "m = VotingClassifier(\n",
    "    estimators=[('rbf', svm.SVC(C = 100, gamma=0.01, kernel='rbf', class_weight = {0:.02, 1:.98})), \n",
    "                #('gbc', GradientBoostingClassifier(n_estimators=1000)), \n",
    "                ('ln', svm.SVC(C=1, kernel='linear', class_weight={0:.08, 1:.92})),\n",
    "                ('p2', svm.SVC(C=10, kernel='poly', class_weight={0:.08, 1:.92}, degree=2))], \n",
    "    voting='hard')\n",
    "m.fit(X_train_pca, y_train)\n",
    "\n",
    "print(m.score(X_test_pca, y_test), 'test')\n",
    "print(m.score(X_test_pca[:1760], y_test[:1760]), 'not t2cep')\n",
    "print(m.score(X_test_pca[1760:], y_test[1760:]), 't2cep')"
   ]
  },
  {
   "cell_type": "code",
   "execution_count": 20,
   "metadata": {},
   "outputs": [
    {
     "name": "stdout",
     "output_type": "stream",
     "text": [
      "start\n",
      "0.96256684492 test\n",
      "0.986363636364 not t2cep\n",
      "0.581818181818 t2cep\n"
     ]
    }
   ],
   "source": [
    "from sklearn.ensemble import AdaBoostClassifier\n",
    "from sklearn.ensemble import GradientBoostingClassifier\n",
    "from sklearn.neighbors import KNeighborsClassifier\n",
    "\n",
    "\n",
    "print('start')\n",
    "#base = svm.SVC(C = 100, gamma=0.01, kernel='rbf', class_weight = {0:.01, 1:.99})\n",
    "#base = GradientBoostingClassifier(n_estimators=1000)\n",
    "m = AdaBoostClassifier(base_estimator=None, n_estimators=1000)\n",
    "m.fit(X_train_pca, y_train)\n",
    "\n",
    "print(m.score(X_test_pca, y_test), 'test')\n",
    "print(m.score(X_test_pca[:1760], y_test[:1760]), 'not t2cep')\n",
    "print(m.score(X_test_pca[1760:], y_test[1760:]), 't2cep')"
   ]
  },
  {
   "cell_type": "code",
   "execution_count": null,
   "metadata": {
    "collapsed": true
   },
   "outputs": [],
   "source": [
    "print('Start')\n",
    "# Parameters combinations to be tested.\n",
    "parameters = {'C': [1, 10, 100, 1000],\n",
    "              'kernel':['rbf'], \n",
    "              'gamma': [0.01, 0.1, 1], \n",
    "              'class_weight': [{0:.01, 1:0.99}]}\n",
    "\n",
    "svc = svm.SVC()\n",
    "clf = GridSearchCV(svc, parameters, n_jobs=-1)\n",
    "clf.fit(X_train_pca, y_train)\n",
    "\n",
    "print(clf.best_estimator_)\n",
    "\n",
    "\n",
    "with open('svm_tune_v1.pickle', 'wb') as f:\n",
    "    pickle.dump(clf, f, protocol=pickle.HIGHEST_PROTOCOL)\n",
    "\n",
    "print('Done')"
   ]
  },
  {
   "cell_type": "code",
   "execution_count": null,
   "metadata": {
    "collapsed": true
   },
   "outputs": [],
   "source": [
    "print(clf.score(X_test_pca, y_test))\n",
    "print(clf.score(X_test_pca[:1760], y_test[:1760]), 'not t2cep')\n",
    "print(clf.score(X_test_pca[1760:], y_test[1760:]), 't2cep')\n",
    "print(clf.score(X_train_pca, y_train))\n",
    "print(clf.predict(X_test_pca[1760:]), ' \\n', y_test[1760:])"
   ]
  },
  {
   "cell_type": "code",
   "execution_count": 8,
   "metadata": {},
   "outputs": [
    {
     "name": "stdout",
     "output_type": "stream",
     "text": [
      "0.95935828877\n",
      "0.990909090909 not t2cep\n",
      "0.454545454545 t2cep\n",
      "0.99865968076\n",
      "[1 1 0 0 0 0 1 0 1 0 0 0 0 0 1 0 0 1 0 0 1 1 1 0 0 0 1 1 0 0 1 0 0 1 0 0 0\n",
      " 0 1 1 0 0 1 1 1 1 1 1 0 0 1 1 1 1 0 1 1 0 1 1 0 0 1 0 0 0 1 0 0 0 1 0 0 1\n",
      " 0 0 0 1 1 0 0 0 1 1 0 0 0 0 1 1 0 0 0 1 1 0 1 1 0 0 0 0 1 1 1 1 1 1 0 1]  \n",
      " [1 1 1 1 1 1 1 1 1 1 1 1 1 1 1 1 1 1 1 1 1 1 1 1 1 1 1 1 1 1 1 1 1 1 1 1 1\n",
      " 1 1 1 1 1 1 1 1 1 1 1 1 1 1 1 1 1 1 1 1 1 1 1 1 1 1 1 1 1 1 1 1 1 1 1 1 1\n",
      " 1 1 1 1 1 1 1 1 1 1 1 1 1 1 1 1 1 1 1 1 1 1 1 1 1 1 1 1 1 1 1 1 1 1 1 1]\n"
     ]
    }
   ],
   "source": [
    "# with open('svm_tune_v1.pickle', 'rb') as f:\n",
    "#     clf = pickle.loads(f)\n",
    "\n",
    "# clf = svm.SVC(C=10, cache_size=200, class_weight=None, coef0=0.0,\n",
    "#   decision_function_shape='ovr', degree=3, gamma=0.01, kernel='rbf',\n",
    "#   max_iter=-1, probability=False, random_state=None, shrinking=True,\n",
    "#   tol=0.001, verbose=False)\n",
    "#---------------------------------------------------------------------------------------------\n",
    "# print('Start')\n",
    "# # Parameters combinations to be tested.\n",
    "# parameters = {'C': [1, 10, 100, 1000],\n",
    "#               'kernel':['rbf', 'poly', 'linear'], \n",
    "#               'degree': [3, 4, 5], \n",
    "#               'gamma': [0.001, 0.01, 0.1, 1, 10], \n",
    "#               'class_weight': [{0:.07, 1:.93}]}\n",
    "\n",
    "# svc = svm.SVC()\n",
    "# clf = GridSearchCV(svc, parameters, n_jobs=-1)\n",
    "# clf.fit(X_train_pca, y_train)\n",
    "\n",
    "# print(clf.best_estimator_)\n",
    "#------------------------------------------------------------------------------------------------\n",
    "clf = svm.SVC(C = 100, gamma=0.1, kernel='rbf', class_weight = {0:.01, 1:.99})\n",
    "clf.fit(X_train_pca, y_train)\n",
    "\n",
    "#clf_pickle = open('svm_tune_v3.pkl', 'wb')\n",
    "#pickle.dump(clf, clf_pickle)\n",
    "#clf_pickle.close()\n",
    "\n",
    "\n",
    "print(clf.score(X_test_pca, y_test))\n",
    "print(clf.score(X_test_pca[:1760], y_test[:1760]), 'not t2cep')\n",
    "print(clf.score(X_test_pca[1760:], y_test[1760:]), 't2cep')\n",
    "print(clf.score(X_train_pca, y_train))\n",
    "print(clf.predict(X_test_pca[1760:]), ' \\n', y_test[1760:])"
   ]
  },
  {
   "cell_type": "code",
   "execution_count": 16,
   "metadata": {},
   "outputs": [
    {
     "name": "stdout",
     "output_type": "stream",
     "text": [
      "<bound method BaseEstimator.get_params of SVC(C=100, cache_size=14000, class_weight={0: 0.01, 1: 0.99}, coef0=0.0,\n",
      "  decision_function_shape='ovr', degree=10, gamma=0.01, kernel='rbf',\n",
      "  max_iter=-1, probability=False, random_state=None, shrinking=True,\n",
      "  tol=0.001, verbose=False)>\n",
      "0.822459893048\n",
      "0.814204545455 not t2cep\n",
      "0.954545454545 t2cep\n",
      "0.840623857682\n",
      "[1 1 1 1 1 1 1 1 1 1 0 1 1 1 1 1 0 1 1 1 1 1 1 1 1 1 1 1 1 1 1 1 1 1 1 1 1\n",
      " 1 1 1 1 1 1 1 1 1 1 1 1 1 1 1 1 1 1 1 1 1 1 1 1 0 1 1 1 1 1 1 1 0 1 1 0 1\n",
      " 1 1 1 1 1 1 1 1 1 1 1 1 1 1 1 1 1 1 1 1 1 1 1 1 1 1 1 1 1 1 1 1 1 1 1 1]  \n",
      " [1 1 1 1 1 1 1 1 1 1 1 1 1 1 1 1 1 1 1 1 1 1 1 1 1 1 1 1 1 1 1 1 1 1 1 1 1\n",
      " 1 1 1 1 1 1 1 1 1 1 1 1 1 1 1 1 1 1 1 1 1 1 1 1 1 1 1 1 1 1 1 1 1 1 1 1 1\n",
      " 1 1 1 1 1 1 1 1 1 1 1 1 1 1 1 1 1 1 1 1 1 1 1 1 1 1 1 1 1 1 1 1 1 1 1 1]\n"
     ]
    }
   ],
   "source": [
    "clf_unpickle = open('svm_tune_v1_temp.pickle', 'rb')\n",
    " \n",
    "# load the unpickle object into a variable\n",
    "clf_disk = pickle.load(clf_unpickle)\n",
    "\n",
    "print(clf_disk.get_params)\n",
    "print(clf_disk.score(X_test_pca, y_test))\n",
    "print(clf_disk.score(X_test_pca[:1760], y_test[:1760]), 'not t2cep')\n",
    "print(clf_disk.score(X_test_pca[1760:], y_test[1760:]), 't2cep')\n",
    "print(clf_disk.score(X_train_pca, y_train))\n",
    "print(clf_disk.predict(X_test_pca[1760:]), ' \\n', y_test[1760:])"
   ]
  },
  {
   "cell_type": "markdown",
   "metadata": {},
   "source": [
    "### Learning Curve + Classifier"
   ]
  },
  {
   "cell_type": "code",
   "execution_count": 7,
   "metadata": {},
   "outputs": [
    {
     "data": {
      "image/png": "[encoded data removed]",
      "text/plain": [
       "<matplotlib.figure.Figure at 0x7f8a42bf2d30>"
      ]
     },
     "metadata": {},
     "output_type": "display_data"
    },
    {
     "data": {
      "image/png": "[encoded data removed]",
      "text/plain": [
       "<matplotlib.figure.Figure at 0x7f8a6c05e0b8>"
      ]
     },
     "metadata": {},
     "output_type": "display_data"
    }
   ],
   "source": [
    "import numpy as np\n",
    "%matplotlib inline\n",
    "import matplotlib.pyplot as plt # Plotting library.\n",
    "from sklearn.naive_bayes import GaussianNB\n",
    "from sklearn.svm import SVC\n",
    "from sklearn.datasets import load_digits\n",
    "from sklearn.model_selection import learning_curve\n",
    "from sklearn.model_selection import ShuffleSplit\n",
    "\n",
    "\n",
    "def plot_learning_curve(estimator, title, X, y, ylim=None, cv=None,\n",
    "                        n_jobs=1, train_sizes=np.linspace(.1, 1.0, 5)):\n",
    "    \"\"\"\n",
    "    Generate a simple plot of the test and training learning curve.\n",
    "\n",
    "    Parameters\n",
    "    ----------\n",
    "    estimator : object type that implements the \"fit\" and \"predict\" methods\n",
    "        An object of that type which is cloned for each validation.\n",
    "\n",
    "    title : string\n",
    "        Title for the chart.\n",
    "\n",
    "    X : array-like, shape (n_samples, n_features)\n",
    "        Training vector, where n_samples is the number of samples and\n",
    "        n_features is the number of features.\n",
    "\n",
    "    y : array-like, shape (n_samples) or (n_samples, n_features), optional\n",
    "        Target relative to X for classification or regression;\n",
    "        None for unsupervised learning.\n",
    "\n",
    "    ylim : tuple, shape (ymin, ymax), optional\n",
    "        Defines minimum and maximum yvalues plotted.\n",
    "\n",
    "    cv : int, cross-validation generator or an iterable, optional\n",
    "        Determines the cross-validation splitting strategy.\n",
    "        Possible inputs for cv are:\n",
    "          - None, to use the default 3-fold cross-validation,\n",
    "          - integer, to specify the number of folds.\n",
    "          - An object to be used as a cross-validation generator.\n",
    "          - An iterable yielding train/test splits.\n",
    "\n",
    "        For integer/None inputs, if ``y`` is binary or multiclass,\n",
    "        :class:`StratifiedKFold` used. If the estimator is not a classifier\n",
    "        or if ``y`` is neither binary nor multiclass, :class:`KFold` is used.\n",
    "\n",
    "        Refer :ref:`User Guide <cross_validation>` for the various\n",
    "        cross-validators that can be used here.\n",
    "\n",
    "    n_jobs : integer, optional\n",
    "        Number of jobs to run in parallel (default 1).\n",
    "    \"\"\"\n",
    "    plt.figure(figsize=(9,6))\n",
    "    plt.title(title)\n",
    "    if ylim is not None:\n",
    "        plt.ylim(*ylim)\n",
    "    plt.xlabel(\"Training examples\")\n",
    "    plt.ylabel(\"Score\")\n",
    "    \n",
    "    train_sizes, train_scores, test_scores = learning_curve(\n",
    "        estimator, X, y, cv=cv, n_jobs=n_jobs, train_sizes=train_sizes)\n",
    "    \n",
    "    train_scores_mean = np.mean(train_scores, axis=1)\n",
    "    train_scores_std = np.std(train_scores, axis=1)\n",
    "    test_scores_mean = np.mean(test_scores, axis=1)\n",
    "    test_scores_std = np.std(test_scores, axis=1)\n",
    "    \n",
    "    plt.grid()\n",
    "    plt.fill_between(train_sizes, train_scores_mean - train_scores_std,\n",
    "                     train_scores_mean + train_scores_std, alpha=0.1,\n",
    "                     color=\"r\")\n",
    "    plt.fill_between(train_sizes, test_scores_mean - test_scores_std,\n",
    "                     test_scores_mean + test_scores_std, alpha=0.1, color=\"g\")\n",
    "    plt.plot(train_sizes, train_scores_mean, 'o-', color=\"r\",\n",
    "             label=\"Training score\")\n",
    "    plt.plot(train_sizes, test_scores_mean, 'o-', color=\"g\",\n",
    "             label=\"Cross-validation score\")\n",
    "\n",
    "    plt.legend(loc=\"best\")\n",
    "    return plt\n",
    "\n",
    "\n",
    "digits = load_digits()\n",
    "X, y = digits.data, digits.target\n",
    "\n",
    "\n",
    "title = \"Learning Curves (Naive Bayes)\"\n",
    "# Cross validation with 100 iterations to get smoother mean test and train\n",
    "# score curves, each time with 20% data randomly selected as a validation set.\n",
    "cv = ShuffleSplit(n_splits=100, test_size=0.2, random_state=0)\n",
    "\n",
    "estimator = GaussianNB()\n",
    "plot_learning_curve(estimator, title, X, y, ylim=(0.7, 1.01), cv=cv, n_jobs=4)\n",
    "\n",
    "title = \"Learning Curves (SVM, RBF kernel, $\\gamma=0.001$)\"\n",
    "# SVC is more expensive so we do a lower number of CV iterations:\n",
    "cv = ShuffleSplit(n_splits=10, test_size=0.2, random_state=0)\n",
    "estimator = SVC(gamma=0.001)\n",
    "plot_learning_curve(estimator, title, X, y, (0.7, 1.01), cv=cv, n_jobs=4)\n",
    "\n",
    "plt.show()"
   ]
  },
  {
   "cell_type": "code",
   "execution_count": 17,
   "metadata": {},
   "outputs": [
    {
     "name": "stdout",
     "output_type": "stream",
     "text": [
      "start.\n"
     ]
    },
    {
     "data": {
      "image/png": "[encoded data removed]",
      "text/plain": [
       "<matplotlib.figure.Figure at 0x7f8a42895f98>"
      ]
     },
     "metadata": {},
     "output_type": "display_data"
    }
   ],
   "source": [
    "from sklearn.ensemble import RandomForestClassifier # Random forrest classifier.\n",
    "from sklearn.ensemble import VotingClassifier\n",
    "\n",
    "print('start.')\n",
    "title = \"Learning Curves (Naive Bayes)\"\n",
    "# Cross validation with 100 iterations to get smoother mean test and train\n",
    "# score curves, each time with 20% data randomly selected as a validation set.\n",
    "cv = ShuffleSplit(n_splits=10, test_size=0.2, random_state=0)\n",
    "\n",
    "#estimator = svm.SVC(class_weight = {0:.1, 1:.9})\n",
    "estimator = VotingClassifier(\n",
    "    estimators=[('rbf', svm.SVC(C = 100, gamma=0.01, kernel='rbf', class_weight = {0:.02, 1:.98})), \n",
    "                #('gbc', GradientBoostingClassifier(n_estimators=1000)), \n",
    "                ('ln', svm.SVC(C=1, kernel='linear', class_weight={0:.08, 1:.92})),\n",
    "                ('p2', svm.SVC(C=10, kernel='poly', class_weight={0:.08, 1:.92}, degree=2))], \n",
    "    voting='hard')\n",
    "#estimator = RandomForestClassifier(n_estimators=100, n_jobs=-1)\n",
    "# estimator = clf = svm.SVC(C=10, cache_size=200, class_weight=None, coef0=0.0,\n",
    "#   decision_function_shape='ovr', degree=3, gamma=0.01, kernel='rbf',\n",
    "#   max_iter=-1, probability=False, random_state=None, shrinking=True,\n",
    "#   tol=0.001, verbose=False)\n",
    "\n",
    "plot_learning_curve(estimator, title, X_train_pca, y_train, cv=cv, n_jobs=4)\n",
    "\n",
    "# title = \"Learning Curves (SVM, RBF kernel, $\\gamma=0.001$)\"\n",
    "# SVC is more expensive so we do a lower number of CV iterations:\n",
    "# cv = ShuffleSplit(n_splits=10, test_size=0.2, random_state=0)\n",
    "# estimator = SVC(gamma=0.001)\n",
    "# plot_learning_curve(estimator, title, X, y, (0.7, 1.01), cv=cv, n_jobs=4)\n",
    "\n",
    "plt.show()"
   ]
  },
  {
   "cell_type": "markdown",
   "metadata": {
    "collapsed": true
   },
   "source": [
    "### Precision and Recall"
   ]
  },
  {
   "cell_type": "code",
   "execution_count": null,
   "metadata": {
    "collapsed": true
   },
   "outputs": [],
   "source": []
  }
 ],
 "metadata": {
  "kernelspec": {
   "display_name": "Python [conda root]",
   "language": "python",
   "name": "conda-root-py"
  },
  "language_info": {
   "codemirror_mode": {
    "name": "ipython",
    "version": 3
   },
   "file_extension": ".py",
   "mimetype": "text/x-python",
   "name": "python",
   "nbconvert_exporter": "python",
   "pygments_lexer": "ipython3",
   "version": "3.5.4"
  }
 },
 "nbformat": 4,
 "nbformat_minor": 1
}
