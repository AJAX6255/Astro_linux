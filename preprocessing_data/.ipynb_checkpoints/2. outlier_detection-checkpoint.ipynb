{
 "cells": [
  {
   "cell_type": "markdown",
   "metadata": {},
   "source": [
    "### Dependencies"
   ]
  },
  {
   "cell_type": "code",
   "execution_count": 1,
   "metadata": {
    "collapsed": true
   },
   "outputs": [],
   "source": [
    "import sqlite3 # Database library.\n",
    "import os # Folder management library.\n",
    "import pickle # Serializing module.\n",
    "import numpy as np # Scientific computing library.\n",
    "import matplotlib.pyplot as plt # Plotting library.\n",
    "from mpl_toolkits.mplot3d import Axes3D # 3D plotting tool.\n",
    "from sklearn.neighbors import LocalOutlierFactor # Outlier Dection library."
   ]
  },
  {
   "cell_type": "markdown",
   "metadata": {},
   "source": [
    "### Retreive Examples from Database"
   ]
  },
  {
   "cell_type": "code",
   "execution_count": 2,
   "metadata": {},
   "outputs": [
    {
     "name": "stdout",
     "output_type": "stream",
     "text": [
      "done\n"
     ]
    }
   ],
   "source": [
    "# Initializing database and cursor.\n",
    "star_data_db = sqlite3.connect('star_data.db')\n",
    "star_data_cursor = star_data_db.cursor()\n",
    "\n",
    "# Retrieving star_data from database.\n",
    "classes = ['cep_1o', 'cep_f', 'dsct','eb_ec', 'eb_ed', 'eb_esd', 'lpv_mira_agb_c', 'lpv_mira_agb_o', 'lpv_osarg_agb',\n",
    "           'lpv_osarg_rgb', 'lpv_srv_agb_c', 'lpv_srv_agb_o', 'rrab', 'rrc', 'rrd', 'rre', 't2cep']\n",
    "\n",
    "X, Y = [], []\n",
    "for label, classv in enumerate(classes):\n",
    "    temp_X, temp_Y = [], []\n",
    "    star_data_cursor.execute('SELECT star_features FROM '+classv)\n",
    "    for row in star_data_cursor.fetchall()[:600]:\n",
    "        # Deserializing features.\n",
    "        features = pickle.loads(row[0])\n",
    "        temp_X.append(features)\n",
    "        temp_Y.append([label])\n",
    "    X.append(np.array(temp_X))\n",
    "    Y.append(np.array(temp_Y))\n",
    "    \n",
    "names = []\n",
    "for classv in classes:\n",
    "    temp_names = []\n",
    "    star_data_cursor.execute('SELECT star_name FROM '+classv)\n",
    "    for row in star_data_cursor.fetchall()[:600]:\n",
    "        temp_names.append(row[0])\n",
    "    names.append(temp_names)\n",
    "        \n",
    "\n",
    "# Close cursor and database    \n",
    "star_data_cursor.close\n",
    "star_data_db.close()\n",
    "\n",
    "print('done')"
   ]
  },
  {
   "cell_type": "markdown",
   "metadata": {},
   "source": [
    "### Unsupervised Outlier Detection using Local Outlier Factor (LOF)\n",
    "The LOF score of an observation is equal to the ratio of the average local density of its k-nearest neighbors, and its own local density: a normal instance is expected to have a local density similar to that of its neighbors, while abnormal data are expected to have much smaller local density. LOF can detect both local and global outliers.\n",
    "<img src=\"img/lof.png\", width=400, height=auto>\n",
    "\n",
    "\n",
    "### 10 Best Outlier Candidates"
   ]
  },
  {
   "cell_type": "code",
   "execution_count": 5,
   "metadata": {},
   "outputs": [
    {
     "name": "stdout",
     "output_type": "stream",
     "text": [
      "The 10 best outliers are:  ['OGLE-LMC-T2CEP-113.dat', 'OGLE-BLG-T2CEP-177.dat', 'OGLE-LMC-T2CEP-115.dat', 'OGLE-BLG-T2CEP-351.dat', 'OGLE-BLG-T2CEP-345.dat', 'OGLE-BLG-T2CEP-354.dat', 'OGLE-LMC-T2CEP-200.dat', 'OGLE-BLG-T2CEP-350.dat', 'OGLE-BLG-T2CEP-352.dat', 'OGLE-LMC-T2CEP-061.dat']\n"
     ]
    }
   ],
   "source": [
    "# Constructing data.\n",
    "names_t2cep = names[16]\n",
    "X_t2cep = X[16]\n",
    "\n",
    "best_outliers = []\n",
    "\n",
    "# Recursively applying lof algorithm to obtain 10 best outliers.\n",
    "for n in range(0,10):\n",
    "    \n",
    "    # Fitting the Local Outlier Detection model to the sample data set, and looking for 1 outlier. \n",
    "    lof = LocalOutlierFactor(n_neighbors=20, contamination=1/len(X_t2cep))\n",
    "    outlier_pred = lof.fit_predict(X_t2cep)\n",
    "\n",
    "    # Find the indices if all outliers.\n",
    "    outlier_ind = np.where(outlier_pred == -1)[0]\n",
    "\n",
    "    # Find the names of the outliers, and their coordinates.\n",
    "    outlier_x, outlier_y = [], []\n",
    "    for ind in outlier_ind:\n",
    "        best_outliers.append(names_t2cep[ind])\n",
    "    \n",
    "    # Remove outlier from data set.\n",
    "    X_t2cep = np.delete(X_t2cep, outlier_ind[0], 0)\n",
    "    names_t2cep = np.delete(names_t2cep, outlier_ind[0], 0)\n",
    "    \n",
    "print('The 10 best outliers are: ', best_outliers)\n",
    "\n"
   ]
  },
  {
   "cell_type": "code",
   "execution_count": null,
   "metadata": {
    "collapsed": true
   },
   "outputs": [],
   "source": []
  }
 ],
 "metadata": {
  "kernelspec": {
   "display_name": "Python [conda root]",
   "language": "python",
   "name": "conda-root-py"
  },
  "language_info": {
   "codemirror_mode": {
    "name": "ipython",
    "version": 3
   },
   "file_extension": ".py",
   "mimetype": "text/x-python",
   "name": "python",
   "nbconvert_exporter": "python",
   "pygments_lexer": "ipython3",
   "version": "3.5.4"
  }
 },
 "nbformat": 4,
 "nbformat_minor": 1
}
