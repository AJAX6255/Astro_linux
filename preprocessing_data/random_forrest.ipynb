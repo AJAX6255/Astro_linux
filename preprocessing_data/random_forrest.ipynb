{
 "cells": [
  {
   "cell_type": "markdown",
   "metadata": {},
   "source": [
    "### Dependencies"
   ]
  },
  {
   "cell_type": "code",
   "execution_count": 1,
   "metadata": {
    "collapsed": true
   },
   "outputs": [],
   "source": [
    "from sklearn.ensemble import RandomForestClassifier # Random forrest classifier.\n",
    "from sklearn.datasets import make_classification # Sample data set.\n",
    "import sqlite3 # Database library.\n",
    "import os # Folder management library.\n",
    "import pickle # Serializing module.\n",
    "import numpy as np # Scientific computing library."
   ]
  },
  {
   "cell_type": "markdown",
   "metadata": {},
   "source": [
    "### Retrieve Binary Data Sets -- Train, CV, Test"
   ]
  },
  {
   "cell_type": "code",
   "execution_count": 2,
   "metadata": {},
   "outputs": [
    {
     "name": "stdout",
     "output_type": "stream",
     "text": [
      "Done.\n"
     ]
    }
   ],
   "source": [
    "# Initializing database and cursor.\n",
    "star_data_db = sqlite3.connect('star_data_sets_binary.db')\n",
    "star_data_cursor = star_data_db.cursor()\n",
    "\n",
    "sets = ['train_set', 'test_set', 'cv_set']\n",
    "set_types = ['X', 'Y']\n",
    "\n",
    "X_train, X_cv, X_test = [], [], []\n",
    "y_train, y_cv, y_test = [], [], []\n",
    "\n",
    "data_temp = []\n",
    "for dset in sets:\n",
    "    for set_type in set_types:\n",
    "        star_data_cursor.execute('SELECT '+set_type+' FROM '+dset)\n",
    "        for row in star_data_cursor.fetchall():\n",
    "            # Deserializing features.\n",
    "            data = pickle.loads(row[0])\n",
    "            data_temp.append(data)\n",
    "\n",
    "X_train = np.array(data_temp[0])\n",
    "y_train = np.array(data_temp[1])\n",
    "\n",
    "X_test = np.array(data_temp[2])\n",
    "y_test = np.array(data_temp[3])\n",
    "\n",
    "X_cv = np.array(data_temp[4])\n",
    "y_cv = np.array(data_temp[5])\n",
    "\n",
    "print('Done.')"
   ]
  },
  {
   "cell_type": "code",
   "execution_count": 3,
   "metadata": {},
   "outputs": [
    {
     "name": "stdout",
     "output_type": "stream",
     "text": [
      "(1870, 64) (1870,)\n"
     ]
    }
   ],
   "source": [
    "print(X_test.shape, y_test.shape)"
   ]
  },
  {
   "cell_type": "code",
   "execution_count": 4,
   "metadata": {},
   "outputs": [
    {
     "name": "stdout",
     "output_type": "stream",
     "text": [
      "[ 0.01793603  0.00134579  0.01389926  0.01594122  0.03173249  0.01367971\n",
      "  0.03257505  0.003762    0.01554697  0.02000844  0.03523467  0.03410295\n",
      "  0.02618269  0.02002355  0.03168484  0.01576454  0.01628567  0.00859174\n",
      "  0.          0.00698639  0.00599671  0.00595165  0.01241041  0.00819473\n",
      "  0.00743884  0.00737593  0.          0.00585383  0.00539304  0.00592253\n",
      "  0.01271274  0.00674488  0.00847367  0.00850025  0.          0.00545179\n",
      "  0.00567153  0.00599962  0.02426683  0.00548822  0.01397176  0.04770239\n",
      "  0.01861865  0.01835748  0.01483417  0.00680504  0.01802482  0.01819455\n",
      "  0.07143896  0.00021541  0.01270359  0.01912808  0.02336133  0.0256829\n",
      "  0.02297886  0.02165447  0.0247708   0.01838229  0.01740166  0.01796872\n",
      "  0.00687206  0.00653658  0.00764667  0.03761756]\n",
      "1.0\n",
      "0.0714389621763\n"
     ]
    }
   ],
   "source": [
    "clf = RandomForestClassifier(n_estimators=10000, n_jobs=-1)\n",
    "clf.fit(X_train, y_train)\n",
    "\n",
    "\n",
    "\n",
    "\n",
    "\n",
    "\n",
    "print(clf.feature_importances_)\n",
    "print(np.sum(clf.feature_importances_))\n",
    "print(np.max(clf.feature_importances_))\n",
    "\n",
    "\n",
    "#print(clf.predict([[0, 0, 0, 0]]))"
   ]
  },
  {
   "cell_type": "code",
   "execution_count": 5,
   "metadata": {},
   "outputs": [
    {
     "name": "stdout",
     "output_type": "stream",
     "text": [
      "[0 0 0 ..., 0 1 0]\n",
      "[0 0 0 ..., 1 1 1]\n",
      "0.627272727273\n"
     ]
    }
   ],
   "source": [
    "a = clf.predict(X_test)\n",
    "print(a)\n",
    "print(y_test)\n",
    "print(clf.score(X_test[1760:], y_test[1760:]))"
   ]
  },
  {
   "cell_type": "code",
   "execution_count": 6,
   "metadata": {},
   "outputs": [
    {
     "name": "stdout",
     "output_type": "stream",
     "text": [
      "[1 1 1 1 1 1 1 1 1 1 1 1 1 1 1 1 1 1 1 1 1 1 1 1 1 1 1 1 1 1 1 1 1 1 1 1 1\n",
      " 1 1 1 1 1 1 1 1 1 1 1 1 1 1 1 1 1 1 1 1 1 1 1 1 1 1 1 1 1 1 1 1 1 1 1 1 1\n",
      " 1 1 1 1 1 1 1 1 1 1 1 1 1 1 1 1 1 1 1 1 1 1 1 1 1 1 1 1 1 1 1 1 1 1 1 1]\n",
      "[1 0 1 1 1 1 0 0 0 0 0 1 1 0 1 1 1 0 0 0 1 0 1 1 0 1 0 1 1 1 0 0 1 1 1 1 1\n",
      " 1 0 1 0 1 1 0 0 0 1 1 1 1 1 1 0 1 1 0 0 1 1 1 0 1 0 1 1 1 1 1 1 1 0 0 0 1\n",
      " 1 1 1 0 1 1 1 0 0 1 1 0 0 1 1 1 1 0 1 0 1 0 1 1 0 1 1 1 1 1 0 0 1 0 1 0]\n"
     ]
    }
   ],
   "source": [
    "print(y_test[1760:])\n",
    "print(a[1760:])"
   ]
  },
  {
   "cell_type": "code",
   "execution_count": 7,
   "metadata": {},
   "outputs": [
    {
     "name": "stdout",
     "output_type": "stream",
     "text": [
      "[  1   6   7   8   9  10  13  17  18  19  21  24  26  30  31  38  40  43\n",
      "  44  45  52  55  56  60  62  70  71  72  77  81  82  85  86  91  93  95\n",
      "  98 104 105 107 109]\n",
      "110\n",
      "41\n",
      "0.6272727272727273\n"
     ]
    }
   ],
   "source": [
    "false_neg = np.where(a[1760:] == 0)[0]\n",
    "print(false_neg)\n",
    "print(len(a[1760:]))\n",
    "print(len(false_neg))\n",
    "scorer = (len(a[1760:]) - len(false_neg))/len(a[1760:])\n",
    "print(scorer)\n",
    "\n",
    "\n"
   ]
  },
  {
   "cell_type": "code",
   "execution_count": null,
   "metadata": {
    "collapsed": true
   },
   "outputs": [],
   "source": []
  }
 ],
 "metadata": {
  "kernelspec": {
   "display_name": "Python [conda root]",
   "language": "python",
   "name": "conda-root-py"
  },
  "language_info": {
   "codemirror_mode": {
    "name": "ipython",
    "version": 3
   },
   "file_extension": ".py",
   "mimetype": "text/x-python",
   "name": "python",
   "nbconvert_exporter": "python",
   "pygments_lexer": "ipython3",
   "version": "3.5.4"
  }
 },
 "nbformat": 4,
 "nbformat_minor": 1
}
