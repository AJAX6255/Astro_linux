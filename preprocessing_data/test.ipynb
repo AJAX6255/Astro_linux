{
 "cells": [
  {
   "cell_type": "code",
   "execution_count": 5,
   "metadata": {
    "collapsed": true
   },
   "outputs": [],
   "source": [
    "import pickle\n",
    "import sqlite3\n",
    "import numpy as np\n",
    "\n",
    "# Initializing database\n",
    "db = sqlite3.connect('test1.db')\n",
    "cursor = db.cursor()\n",
    "\n",
    "# Initializing table\n",
    "cursor.execute(\"CREATE TABLE IF NOT EXISTS my_table(my_column BLOB, my_column2 BLOB)\")\n",
    "\n",
    "list1 = np.ndarray([1, 2, 3, 4])\n",
    "\n",
    "data_pickled = pickle.dumps(list1, pickle.HIGHEST_PROTOCOL)\n",
    "\n",
    "# The follwing line gives me the error\n",
    "cursor.execute(\"INSERT INTO my_table (my_column, my_column2) VALUES (?, ?)\",\n",
    "    (sqlite3.Binary(data_pickled), \"hi\"))\n",
    "\n",
    "db.commit()"
   ]
  },
  {
   "cell_type": "code",
   "execution_count": 6,
   "metadata": {},
   "outputs": [
    {
     "name": "stdout",
     "output_type": "stream",
     "text": [
      "[1 2 3 4]\n",
      " \n",
      "[1 2 3 4]\n",
      " \n",
      "[[[[  6.93420515e-310   4.66905665e-310   6.93420120e-310   6.93404565e-310]\n",
      "   [  2.06559520e-313   6.93420120e-310   6.93404565e-310   3.33227272e-313]\n",
      "   [  6.93420102e-310   6.37344683e-322   4.66905666e-310   6.93420515e-310]]\n",
      "\n",
      "  [[  0.00000000e+000   0.00000000e+000   0.00000000e+000   0.00000000e+000]\n",
      "   [  0.00000000e+000   0.00000000e+000   4.66905615e-310   2.42092166e-322]\n",
      "   [  6.93420515e-310   4.66905682e-310   6.93420592e-310   6.93420587e-310]]]]\n",
      " \n"
     ]
    }
   ],
   "source": [
    "cursor.execute('SELECT my_column FROM my_table')\n",
    "for row in cursor.fetchall()[:5]:\n",
    "    # BLOB field needs to be strinyfied with str() before loading with pickle\n",
    "    data = pickle.loads(row[0])\n",
    "    #print(row)\n",
    "    print(data)\n",
    "    print(\" \")"
   ]
  },
  {
   "cell_type": "code",
   "execution_count": 1,
   "metadata": {},
   "outputs": [
    {
     "ename": "UnicodeDecodeError",
     "evalue": "'ascii' codec can't decode byte 0xac in position 4: ordinal not in range(128)",
     "output_type": "error",
     "traceback": [
      "\u001b[1;31m---------------------------------------------------------------------------\u001b[0m",
      "\u001b[1;31mUnicodeDecodeError\u001b[0m                        Traceback (most recent call last)",
      "\u001b[1;32m<ipython-input-1-a1951afc4c73>\u001b[0m in \u001b[0;36m<module>\u001b[1;34m()\u001b[0m\n\u001b[0;32m     11\u001b[0m \u001b[1;32mfor\u001b[0m \u001b[0mrow\u001b[0m \u001b[1;32min\u001b[0m \u001b[0mstar_data_cursor\u001b[0m\u001b[1;33m.\u001b[0m\u001b[0mfetchall\u001b[0m\u001b[1;33m(\u001b[0m\u001b[1;33m)\u001b[0m\u001b[1;33m[\u001b[0m\u001b[1;33m:\u001b[0m\u001b[1;36m5\u001b[0m\u001b[1;33m]\u001b[0m\u001b[1;33m:\u001b[0m\u001b[1;33m\u001b[0m\u001b[0m\n\u001b[0;32m     12\u001b[0m     \u001b[1;31m# BLOB field needs to be strinyfied with str() before loading with pickle\u001b[0m\u001b[1;33m\u001b[0m\u001b[1;33m\u001b[0m\u001b[0m\n\u001b[1;32m---> 13\u001b[1;33m     \u001b[0mdata\u001b[0m \u001b[1;33m=\u001b[0m \u001b[0mpickle\u001b[0m\u001b[1;33m.\u001b[0m\u001b[0mloads\u001b[0m\u001b[1;33m(\u001b[0m\u001b[0mrow\u001b[0m\u001b[1;33m[\u001b[0m\u001b[1;36m0\u001b[0m\u001b[1;33m]\u001b[0m\u001b[1;33m)\u001b[0m\u001b[1;33m\u001b[0m\u001b[0m\n\u001b[0m\u001b[0;32m     14\u001b[0m     \u001b[0mprint\u001b[0m\u001b[1;33m(\u001b[0m\u001b[0mdata\u001b[0m\u001b[1;33m)\u001b[0m\u001b[1;33m\u001b[0m\u001b[0m\n\u001b[0;32m     15\u001b[0m     \u001b[0mprint\u001b[0m\u001b[1;33m(\u001b[0m\u001b[0mlen\u001b[0m\u001b[1;33m(\u001b[0m\u001b[0mdata\u001b[0m\u001b[1;33m)\u001b[0m\u001b[1;33m)\u001b[0m\u001b[1;33m\u001b[0m\u001b[0m\n",
      "\u001b[1;31mUnicodeDecodeError\u001b[0m: 'ascii' codec can't decode byte 0xac in position 4: ordinal not in range(128)"
     ]
    }
   ],
   "source": [
    "import pickle\n",
    "import sqlite3\n",
    "\n",
    "# Initializing database and cursor\n",
    "star_data_db = sqlite3.connect('star_data1.db')\n",
    "star_data_cursor = star_data_db.cursor()\n",
    "\n",
    "# Retrieving star_data from database\n",
    "star_data_cursor.execute('SELECT star_features FROM cep_1o')\n",
    "for row in star_data_cursor.fetchall()[:5]:\n",
    "    # BLOB field needs to be strinyfied with str() before loading with pickle\n",
    "    data = pickle.loads(row[0])\n",
    "    print(data)\n",
    "    print(len(data))\n",
    "    \n",
    "# star_data_cursor.execute('SELECT star_data FROM astrouw_data')\n",
    "# for row in star_data_cursor.fetchall()[:2]:\n",
    "#     # BLOB field needs to be strinyfied with str() before loading with pickle\n",
    "#     data = pickle.loads(str(row[0]))\n",
    "#     print(data)\n",
    "#     print(len(data))\n",
    "\n",
    "# Close cursor and database    \n",
    "star_data_cursor.close\n",
    "star_data_db.close()"
   ]
  },
  {
   "cell_type": "code",
   "execution_count": null,
   "metadata": {
    "collapsed": true
   },
   "outputs": [],
   "source": []
  }
 ],
 "metadata": {
  "kernelspec": {
   "display_name": "Python 3",
   "language": "python",
   "name": "python3"
  },
  "language_info": {
   "codemirror_mode": {
    "name": "ipython",
    "version": 2
   },
   "file_extension": ".py",
   "mimetype": "text/x-python",
   "name": "python",
   "nbconvert_exporter": "python",
   "pygments_lexer": "ipython2",
   "version": "2.7.14"
  }
 },
 "nbformat": 4,
 "nbformat_minor": 1
}
