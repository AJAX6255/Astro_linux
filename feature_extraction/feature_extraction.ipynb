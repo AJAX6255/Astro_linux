{
 "cells": [
  {
   "cell_type": "markdown",
   "metadata": {},
   "source": [
    "### Dependencies"
   ]
  },
  {
   "cell_type": "code",
   "execution_count": null,
   "metadata": {
    "collapsed": true
   },
   "outputs": [],
   "source": [
    "import numpy as np # Scientific computing \n",
    "import pandas as pd # Dataframe to organize content\n",
    "import os # Creating folders\n",
    "import pickle # Serializing module\n",
    "import FATS # Feature extraction library\n",
    "import sqlite3 # Database library\n",
    "import urllib # Reading and saving webpages"
   ]
  },
  {
   "cell_type": "markdown",
   "metadata": {},
   "source": [
    "### Scrape EB Stars from Astrouw then Store in Respective Directories\n",
    "More specifically, this code will scrape a random set of ~2400 Eclipsing Binary Stars (~800 of EC, ESD, and ED each) from the Astrouw database (ftp://ftp.astrouw.edu.pl/ogle/ogle3/OIII-CVS/lmc/)."
   ]
  },
  {
   "cell_type": "code",
   "execution_count": null,
   "metadata": {
    "collapsed": true
   },
   "outputs": [],
   "source": [
    "# Read list file from web.\n",
    "list_file_url = 'ftp://ftp.astrouw.edu.pl/ogle/ogle3/OIII-CVS/lmc/ecl/ident.dat'\n",
    "list_file = pd.read_csv(list_file_url, sep=\"\\s+\", header=None, usecols=[0,3])\n",
    "\n",
    "# This is an array of all EB stars on the astrouw website.\n",
    "eb_stars = list_file.as_matrix()\n",
    "\n",
    "# The EB stars are sorted using catagories EC, ESD, and EC.\n",
    "eb_ec, eb_esd, eb_ed = np.array([]), np.array([]), np.array([])\n",
    "for [name, cata] in eb_stars:\n",
    "    if cata == 'EC':\n",
    "        eb_ec = np.append(eb_ec, [name])\n",
    "    if cata == 'ESD':\n",
    "        eb_esd = np.append(eb_esd, [name])\n",
    "    if cata == 'ED':\n",
    "        eb_ed = np.append(eb_ed, [name])\n",
    "\n",
    "# 800 random stars are selected from each catagory.\n",
    "np.random.shuffle(eb_ec)        \n",
    "np.random.shuffle(eb_esd)        \n",
    "np.random.shuffle(eb_ed)\n",
    "eb_ec = eb_ec[:800]\n",
    "eb_esd = eb_esd[:800]\n",
    "eb_ed = eb_ed[:800]\n",
    "\n",
    "# Saving photometry data to corresponding folders.\n",
    "directories = [('eb_ec', eb_ec), ('eb_esd', eb_esd), ('eb_ed', eb_ed)]\n",
    "for (folder, cata) in directories: \n",
    "    for star in cata:\n",
    "        url_I = 'ftp://ftp.astrouw.edu.pl/ogle/ogle3/OIII-CVS/lmc/ecl/phot/I/'+star+'.dat'\n",
    "        url_V = 'ftp://ftp.astrouw.edu.pl/ogle/ogle3/OIII-CVS/lmc/ecl/phot/V/'+star+'.dat'\n",
    "        try:\n",
    "            urllib.urlretrieve(url_I, \"Data/\"+folder+\"/I/\"+star+\".dat\")\n",
    "            urllib.urlretrieve(url_V, \"Data/\"+folder+\"/V/\"+star+\".dat\")\n",
    "        except:\n",
    "            pass\n",
    "        # Clear the cache.\n",
    "        urllib.urlcleanup()\n",
    "\n",
    "print('Done')"
   ]
  },
  {
   "cell_type": "markdown",
   "metadata": {},
   "source": [
    "### Extract Features from all Star Data\n",
    "A detailed explanation of the features that are extracted is given on http://isadoranun.github.io/tsfeat/FeaturesDocumentation.html.  In the below code, features are extracted from each data-set and stored in a database."
   ]
  },
  {
   "cell_type": "code",
   "execution_count": null,
   "metadata": {
    "collapsed": true
   },
   "outputs": [],
   "source": [
    "# A list of all star classes.\n",
    "star_classes = os.listdir('Data/')\n",
    "\n",
    "# Initializing database and cursor.\n",
    "star_data_db = sqlite3.connect('star_data.db')\n",
    "star_data_cursor = star_data_db.cursor()\n",
    "    \n",
    "# This loop will obtain the features for each star.\n",
    "for star_class in star_classes:\n",
    "    # Initializing table--(star type) and data type--(BLOB).\n",
    "    star_data_cursor.execute(\"CREATE TABLE IF NOT EXISTS \"+star_class+\"(star_name BLOB, star_features BLOB)\")\n",
    "    \n",
    "    # Find the stars that have both I-band and V-band data.\n",
    "    stars_I = os.listdir('Data/'+star_class+'/I')\n",
    "    stars_V = os.listdir('Data/'+star_class+'/V')\n",
    "    overlapping_stars = [star for star in stars_I if star in stars_V]\n",
    "    \n",
    "    for star in overlapping_stars:\n",
    "        # Reading Data for I-band.\n",
    "        star_data_path_I = 'Data/'+star_class+'/I/'+star\n",
    "        star_data_I = pd.read_csv(star_data_path_I, sep=\"\\s+\", names=[\"time\", \"magnitude\", \"error\"])\n",
    "\n",
    "        # Reading Data for V-band.\n",
    "        star_data_path_V = 'Data/'+star_class+'/V/'+star\n",
    "        star_data_V = pd.read_csv(star_data_path_V, sep=\"\\s+\", names=[\"time2\", \"magnitude2\", \"error2\"])\n",
    "\n",
    "        # Creating lists from pandas dataframe (these are the parameters used to compute the features).\n",
    "        magnitude = star_data_I.magnitude.tolist()\n",
    "        time = star_data_I.time.tolist()\n",
    "        error = star_data_I.error.tolist()\n",
    "        magnitude2 = star_data_V.magnitude2.tolist()\n",
    "\n",
    "        #Extracting Features.\n",
    "        parameters = np.array([magnitude, time, error])\n",
    "        feature_space = FATS.FeatureSpace(Data=['magnitude','time', 'error'])\n",
    "        features = feature_space.calculateFeature(parameters)\n",
    "        features_array = features.result(method='array')\n",
    "        # Custom feature:colour -- is also added to array.\n",
    "        colour = np.mean(magnitude) - np.mean(magnitude2)\n",
    "        features_array.append(colour)\n",
    "\n",
    "        # Serializing features so that it can be stored in database.\n",
    "        features_pickled = pickle.dumps(features_array, pickle.HIGHEST_PROTOCOL)\n",
    "\n",
    "        # Storing star_data in database for future reference.\n",
    "        star_data_cursor.execute(\"INSERT INTO \"+star_class+\"(star_name, star_features) VALUES (?,?)\",\n",
    "                                 (star, sqlite3.Binary(features_pickled)))\n",
    "        star_data_db.commit()\n",
    "\n",
    "\n",
    "print(\"Data stored.\")"
   ]
  },
  {
   "cell_type": "markdown",
   "metadata": {},
   "source": [
    "### Retrieve Data from Database"
   ]
  },
  {
   "cell_type": "code",
   "execution_count": null,
   "metadata": {
    "collapsed": true
   },
   "outputs": [],
   "source": [
    "# Initializing database and cursor\n",
    "star_data_db = sqlite3.connect('star_data.db')\n",
    "star_data_cursor = star_data_db.cursor()\n",
    "\n",
    "# Retrieving star_data from database\n",
    "star_data_cursor.execute('SELECT star_features FROM astrouw_data')\n",
    "for row in star_data_cursor.fetchall()[:10]:\n",
    "    # BLOB field needs to be strinyfied with str() before loading with pickle\n",
    "    data = pickle.loads(str(row[0]))\n",
    "    print(data)\n",
    "    print(len(data))\n",
    "    \n",
    "# star_data_cursor.execute('SELECT star_data FROM astrouw_data')\n",
    "# for row in star_data_cursor.fetchall()[:2]:\n",
    "#     # BLOB field needs to be strinyfied with str() before loading with pickle\n",
    "#     data = pickle.loads(str(row[0]))\n",
    "#     print(data)\n",
    "#     print(len(data))\n",
    "\n",
    "# Close cursor and database    \n",
    "star_data_cursor.close\n",
    "star_data_db.close()"
   ]
  },
  {
   "cell_type": "code",
   "execution_count": null,
   "metadata": {
    "collapsed": true
   },
   "outputs": [],
   "source": [
    "star_data_db = sqlite3.connect('star_data.db')\n",
    "star_data_cursor = star_data_db.cursor()\n",
    "star_data_cursor.executescript('drop table if exists lpv_mira_agb_c;')"
   ]
  }
 ],
 "metadata": {
  "kernelspec": {
   "display_name": "Python [conda env:py27]",
   "language": "python",
   "name": "conda-env-py27-py"
  },
  "language_info": {
   "codemirror_mode": {
    "name": "ipython",
    "version": 2
   },
   "file_extension": ".py",
   "mimetype": "text/x-python",
   "name": "python",
   "nbconvert_exporter": "python",
   "pygments_lexer": "ipython2",
   "version": "2.7.14"
  }
 },
 "nbformat": 4,
 "nbformat_minor": 2
}
