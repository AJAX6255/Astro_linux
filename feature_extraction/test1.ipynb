{
 "cells": [
  {
   "cell_type": "code",
   "execution_count": 3,
   "metadata": {},
   "outputs": [
    {
     "name": "stdout",
     "output_type": "stream",
     "text": [
      "Warning: the feature Color could not be calculated because ['magnitude', 'time', 'magnitude2'] are needed.\n",
      "Warning: the feature Eta_color could not be calculated because ['magnitude', 'time', 'magnitude2'] are needed.\n",
      "Warning: the feature Q31_color could not be calculated because ['magnitude', 'time', 'magnitude2'] are needed.\n",
      "Warning: the feature StetsonJ could not be calculated because ['magnitude', 'time', 'error', 'magnitude2', 'error2'] are needed.\n",
      "Warning: the feature StetsonL could not be calculated because ['magnitude', 'time', 'error', 'magnitude2', 'error2'] are needed.\n",
      "----------------\n",
      "{'Psi_eta': 1.8103169332579698, 'PercentAmplitude': 0.0016405275936741488, 'MaxSlope': 0.18608497880745395, 'SmallKurtosis': 0.058966420628105531, 'StetsonK': 0.79539467884441661, 'Meanvariance': 0.00050774834486591483, 'Rcs': 0.13416662607207513, 'FluxPercentileRatioMid65': 0.56000000000003691, 'Freq3_harmonics_amplitude_0': 0.0020760638881540299, 'Freq3_harmonics_amplitude_1': 0.00040004514537572716, 'Freq3_harmonics_amplitude_2': 0.00052662950561123509, 'Freq3_harmonics_amplitude_3': 0.00087955918532791482, 'AndersonDarling': 0.99642966144510015, 'FluxPercentileRatioMid20': 0.1599999999999801, 'LinearTrend': 1.3587810782076702e-06, 'Freq2_harmonics_rel_phase_3': -0.1438333045125153, 'Freq2_harmonics_rel_phase_2': 2.085840564142678, 'Freq2_harmonics_rel_phase_1': 0.94800371664900518, 'Freq2_harmonics_rel_phase_0': 0.0, 'FluxPercentileRatioMid50': 0.43999999999989198, 'Eta_e': 65.161783979771414, 'Freq2_harmonics_amplitude_0': 0.0022280930471819168, 'Freq1_harmonics_amplitude_2': 0.00071500251413584421, 'Freq1_harmonics_amplitude_3': 0.0014139157657933213, 'Freq1_harmonics_amplitude_0': 0.0030030709765683874, 'Freq1_harmonics_amplitude_1': 0.00040851809503812393, 'SlottedA_length': 3.8967000000002372, 'Q31': 0.010999999999997456, 'Freq2_harmonics_amplitude_2': 0.00044995842083256295, 'Skew': 0.077086066452783431, 'CAR_tau': 4.5032340247169316, 'StructureFunction_index_32': 1.5647385707453716, 'Std': 0.0077377352866360499, 'MedianBRP': 0.4264069264069264, 'Mean': 15.239311688311687, 'Beyond1Std': 0.32467532467532467, 'Psi_CS': 0.082848282136234797, 'Freq3_harmonics_rel_phase_2': -1.2408940422445542, 'Freq3_harmonics_rel_phase_3': 1.5864662117956663, 'Freq3_harmonics_rel_phase_0': 0.0, 'Freq3_harmonics_rel_phase_1': 0.84875047607927201, 'Amplitude': 0.015500000000000291, 'Freq2_harmonics_amplitude_1': 0.00069035163686545346, 'FluxPercentileRatioMid35': 0.32000000000003126, 'Freq2_harmonics_amplitude_3': 0.00051843291588941432, 'Con': 0.0, 'CAR_mean': 3.3840816632374806, 'PercentDifferenceFluxPercentile': 0.0016405275936741488, 'Period_fit': 0.0018891636651347011, 'StructureFunction_index_21': 1.9818623652028049, 'Freq1_harmonics_rel_phase_0': 0.0, 'Freq1_harmonics_rel_phase_1': -1.1983472764143386, 'Freq1_harmonics_rel_phase_2': 1.2771857963815041, 'Freq1_harmonics_rel_phase_3': -0.34109215146215643, 'PairSlopeTrend': 0.033333333333333333, 'CAR_sigma': -0.0037318573891414282, 'Autocor_length': 1.0, 'StructureFunction_index_31': 2.9778138488109649, 'MedianAbsDev': 0.0050000000000007816, 'Gskew': 0.00049999999999883471, 'FluxPercentileRatioMid80': 0.75999999999999435, 'PeriodLS': 0.99652819590085828, 'StetsonK_AC': 0.69516211911818004}\n",
      "ssssssssssssssssssssss\n",
      "[0.015500000000000291, 0.9964296614451001, 1.0, 0.3246753246753247, 3.3840816632374806, -0.003731857389141428, 4.503234024716932, 0.0, 65.16178397977141, 0.1599999999999801, 0.32000000000003126, 0.439999999999892, 0.5600000000000369, 0.7599999999999943, 0.0030030709765683874, 0.00040851809503812393, 0.0007150025141358442, 0.0014139157657933213, 0.0, -1.1983472764143386, 1.277185796381504, -0.34109215146215643, 0.002228093047181917, 0.0006903516368654535, 0.00044995842083256295, 0.0005184329158894143, 0.0, 0.9480037166490052, 2.085840564142678, -0.1438333045125153, 0.00207606388815403, 0.00040004514537572716, 0.0005266295056112351, 0.0008795591853279148, 0.0, 0.848750476079272, -1.2408940422445542, 1.5864662117956663, 0.0004999999999988347, 1.3587810782076702e-06, 0.18608497880745395, 15.239311688311687, 0.0005077483448659148, 0.005000000000000782, 0.4264069264069264, 0.03333333333333333, 0.0016405275936741488, 0.0016405275936741488, 0.9965281959008583, 0.0018891636651347011, 0.0828482821362348, 1.8103169332579698, 0.010999999999997456, 0.13416662607207513, 0.07708606645278343, 3.896700000000237, 0.05896642062810553, 0.00773773528663605, 0.7953946788444166, 0.69516211911818, 1.981862365202805, 2.977813848810965, 1.5647385707453716, -1.617070664629491]\n",
      "----------------\n",
      "Data stored.\n"
     ]
    }
   ],
   "source": [
    "import numpy as np # Scientific computing \n",
    "import pandas as pd # Dataframe to organize content\n",
    "import os # Creating folders\n",
    "import pickle # Serializing module\n",
    "import FATS # Feature extraction library\n",
    "import sqlite3 # Database library\n",
    "import urllib # Reading and saving webpages\n",
    "\n",
    "# A list of all star classes.\n",
    "star_classes = os.listdir('Data/')\n",
    "\n",
    "# Initializing database and cursor.\n",
    "star_data_db = sqlite3.connect('test1.db')\n",
    "star_data_cursor = star_data_db.cursor()\n",
    "    \n",
    "# This loop will obtain the features for each star.\n",
    "for star_class in star_classes[:1]:\n",
    "    # Initializing table--(star type) and data type--(BLOB).\n",
    "    star_data_cursor.execute(\"CREATE TABLE IF NOT EXISTS \"+star_class+\"(star_features BLOB)\")\n",
    "    \n",
    "    # Find the stars that have both I-band and V-band data.\n",
    "    stars_I = os.listdir('Data/'+star_class+'/I')\n",
    "    stars_V = os.listdir('Data/'+star_class+'/V')\n",
    "    overlapping_stars = [star for star in stars_I if star in stars_V]\n",
    "    \n",
    "    for star in overlapping_stars[:1]:\n",
    "        # Reading Data for I-band.\n",
    "        star_data_path_I = 'Data/'+star_class+'/I/'+star\n",
    "        star_data_I = pd.read_csv(star_data_path_I, sep=\"\\s+\", names=[\"time\", \"magnitude\", \"error\"])\n",
    "\n",
    "        # Reading Data for V-band.\n",
    "        star_data_path_V = 'Data/'+star_class+'/V/'+star\n",
    "        star_data_V = pd.read_csv(star_data_path_V, sep=\"\\s+\", names=[\"time2\", \"magnitude2\", \"error2\"])\n",
    "\n",
    "        # Creating lists from pandas dataframe (these are the parameters used to compute the features).\n",
    "        magnitude = star_data_I.magnitude.tolist()\n",
    "        time = star_data_I.time.tolist()\n",
    "        error = star_data_I.error.tolist()\n",
    "        magnitude2 = star_data_V.magnitude2.tolist()\n",
    "\n",
    "        #Extracting Features.\n",
    "        parameters = np.array([magnitude, time, error])\n",
    "        feature_space = FATS.FeatureSpace(Data=['magnitude','time', 'error'])\n",
    "        features = feature_space.calculateFeature(parameters)\n",
    "        features_array = features.result(method='dict')\n",
    "        # Custom feature:colour -- is also added to array.\n",
    "        colour = np.mean(magnitude) - np.mean(magnitude2)\n",
    "        #features_array.append(colour)\n",
    "        \n",
    "        #temp11 = [float(x) for x in features_array]\n",
    "        print('----------------')\n",
    "        print(features_array)\n",
    "        print('ssssssssssssssssssssss')\n",
    "        print(temp11)\n",
    "        print('----------------')\n",
    "    \n",
    "    \n",
    "        # Serializing features so that it can be stored in database.\n",
    "        features_pickled = pickle.dumps(temp11, pickle.HIGHEST_PROTOCOL)\n",
    "\n",
    "        # Storing star_data in database for future reference.\n",
    "        star_data_cursor.execute(\"INSERT INTO \"+star_class+\"(star_features) VALUES (?)\",\n",
    "                                 [sqlite3.Binary(features_pickled)])\n",
    "        star_data_db.commit()\n",
    "\n",
    "\n",
    "print(\"Data stored.\")"
   ]
  },
  {
   "cell_type": "code",
   "execution_count": 1,
   "metadata": {},
   "outputs": [
    {
     "name": "stdout",
     "output_type": "stream",
     "text": [
      "[0.015500000000000291, 0.9964296614451001, 1.0, 0.3246753246753247, 3.3840816632374806, -0.003731857389141428, 4.503234024716932, 0.0, 65.16178397977141, 0.1599999999999801, 0.32000000000003126, 0.439999999999892, 0.5600000000000369, 0.7599999999999943, 0.0030030709765683874, 0.00040851809503812393, 0.0007150025141358442, 0.0014139157657933213, 0.0, -1.1983472764143386, 1.277185796381504, -0.34109215146215643, 0.002228093047181917, 0.0006903516368654535, 0.00044995842083256295, 0.0005184329158894143, 0.0, 0.9480037166490052, 2.085840564142678, -0.1438333045125153, 0.00207606388815403, 0.00040004514537572716, 0.0005266295056112351, 0.0008795591853279148, 0.0, 0.848750476079272, -1.2408940422445542, 1.5864662117956663, 0.0004999999999988347, 1.3587810782076702e-06, 0.18608497880745395, 15.239311688311687, 0.0005077483448659148, 0.005000000000000782, 0.4264069264069264, 0.03333333333333333, 0.0016405275936741488, 0.0016405275936741488, 0.9965281959008583, 0.0018891636651347011, 0.0828482821362348, 1.8103169332579698, 0.010999999999997456, 0.13416662607207513, 0.07708606645278343, 3.896700000000237, 0.05896642062810553, 0.00773773528663605, 0.7953946788444166, 0.69516211911818, 1.981862365202805, 2.977813848810965, 1.5647385707453716, -1.617070664629491]\n"
     ]
    }
   ],
   "source": [
    "import pickle # Serializing module\n",
    "import sqlite3 # Database library\n",
    "\n",
    "# Initializing database and cursor\n",
    "star_data_db = sqlite3.connect('test1.db')\n",
    "star_data_cursor = star_data_db.cursor()\n",
    "\n",
    "# Retrieving star_data from database\n",
    "star_data_cursor.execute('SELECT star_features FROM lpv_osarg_agb')\n",
    "for row in star_data_cursor.fetchall():\n",
    "    # BLOB field needs to be strinyfied with str() before loading with pickle\n",
    "    data = pickle.loads(row[0])\n",
    "    print(data)\n",
    "\n",
    "# Close cursor and database    \n",
    "star_data_cursor.close\n",
    "star_data_db.close()"
   ]
  },
  {
   "cell_type": "code",
   "execution_count": null,
   "metadata": {
    "collapsed": true
   },
   "outputs": [],
   "source": []
  }
 ],
 "metadata": {
  "kernelspec": {
   "display_name": "Python [conda env:py27]",
   "language": "python",
   "name": "conda-env-py27-py"
  },
  "language_info": {
   "codemirror_mode": {
    "name": "ipython",
    "version": 2
   },
   "file_extension": ".py",
   "mimetype": "text/x-python",
   "name": "python",
   "nbconvert_exporter": "python",
   "pygments_lexer": "ipython2",
   "version": "2.7.14"
  }
 },
 "nbformat": 4,
 "nbformat_minor": 1
}
