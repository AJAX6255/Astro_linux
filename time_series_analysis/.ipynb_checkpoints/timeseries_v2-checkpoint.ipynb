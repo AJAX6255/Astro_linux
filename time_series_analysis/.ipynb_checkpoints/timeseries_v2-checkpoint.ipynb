{
 "cells": [
  {
   "cell_type": "code",
   "execution_count": 36,
   "metadata": {},
   "outputs": [],
   "source": [
    "import upsilon\n",
    "import pandas as pd\n",
    "import numpy as np"
   ]
  },
  {
   "cell_type": "code",
   "execution_count": 37,
   "metadata": {},
   "outputs": [],
   "source": [
    "# Load the data from csv file\n",
    "light_curve = pd.read_csv(\"LX_Cyg.csv\", usecols=[\"JD\", \"Magnitude\", \"Uncertainty\"])\n",
    "# Remove \"<\" symbol from Magnitude data\n",
    "light_curve.Magnitude = [m.replace(\"<\", \"\") for m in light_curve.Magnitude]\n",
    "light_curve.Magnitude = pd.to_numeric(light_curve.Magnitude)\n",
    "\n",
    "# Creating numpy array from dataframe\n",
    "mag = np.array(light_curve.fillna(0).Magnitude.tolist())\n",
    "date = np.array(light_curve.fillna(0).JD.tolist())\n",
    "err = np.array(light_curve.fillna(0).Uncertainty.tolist()) #fillna(0) replaces NaN with 0\n",
    "\n",
    "\n"
   ]
  },
  {
   "cell_type": "code",
   "execution_count": 50,
   "metadata": {},
   "outputs": [
    {
     "name": "stderr",
     "output_type": "stream",
     "text": [
      "C:\\Users\\A\\Anaconda3\\lib\\site-packages\\sklearn\\base.py:312: UserWarning: Trying to unpickle estimator DecisionTreeClassifier from version 0.18.1 when using version 0.19.0. This might lead to breaking code or invalid results. Use at your own risk.\n",
      "  UserWarning)\n",
      "C:\\Users\\A\\Anaconda3\\lib\\site-packages\\sklearn\\base.py:312: UserWarning: Trying to unpickle estimator RandomForestClassifier from version 0.18.1 when using version 0.19.0. This might lead to breaking code or invalid results. Use at your own risk.\n",
      "  UserWarning)\n"
     ]
    },
    {
     "name": "stdout",
     "output_type": "stream",
     "text": [
      "LPV_Mira_AGB_C 0.75 0 585.803225806\n"
     ]
    }
   ],
   "source": [
    "# time, mag, uncer are numpy arrays.\n",
    "def classify_lightcurve(date, mag, err):\n",
    "    # Refine data. This removes fluctuated data points in magnitudes.\n",
    "    #date, mag, err = upsilon.utils.sigma_clipping(date, mag, err, threshold=3, iteration=1)\n",
    "    # Load a classification model.\n",
    "    rf_model = upsilon.load_rf_model()\n",
    "\n",
    "    # Extract features from light curve and predict its class. \n",
    "    # Read the light curve's date (in days), magnitude, and magnitude errors.\n",
    "    # Extract features\n",
    "    e_features = upsilon.ExtractFeatures(date, mag)\n",
    "    e_features.run()\n",
    "    features = e_features.get_features()\n",
    "\n",
    "    # Classify the light curve\n",
    "    label, probability, flag = upsilon.predict(rf_model, features)\n",
    "    print(label, probability, flag, features['period'])\n",
    "        \n",
    "classify_lightcurve(date, mag, err)"
   ]
  },
  {
   "cell_type": "code",
   "execution_count": null,
   "metadata": {
    "collapsed": true
   },
   "outputs": [],
   "source": []
  }
 ],
 "metadata": {
  "kernelspec": {
   "display_name": "Python 3",
   "language": "python",
   "name": "python3"
  },
  "language_info": {
   "codemirror_mode": {
    "name": "ipython",
    "version": 3
   },
   "file_extension": ".py",
   "mimetype": "text/x-python",
   "name": "python",
   "nbconvert_exporter": "python",
   "pygments_lexer": "ipython3",
   "version": "3.6.1"
  }
 },
 "nbformat": 4,
 "nbformat_minor": 2
}
