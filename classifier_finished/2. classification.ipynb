{
 "cells": [
  {
   "cell_type": "markdown",
   "metadata": {},
   "source": [
    "### Dependencies"
   ]
  },
  {
   "cell_type": "code",
   "execution_count": 1,
   "metadata": {
    "collapsed": true
   },
   "outputs": [],
   "source": [
    "import sqlite3 # Database library.\n",
    "import pickle # Serializing module.\n",
    "import numpy as np # Scientific computing library."
   ]
  },
  {
   "cell_type": "markdown",
   "metadata": {},
   "source": [
    "### Retrieve Data"
   ]
  },
  {
   "cell_type": "code",
   "execution_count": 2,
   "metadata": {},
   "outputs": [
    {
     "name": "stdout",
     "output_type": "stream",
     "text": [
      "Done.\n"
     ]
    }
   ],
   "source": [
    "# Initializing database and cursor.\n",
    "star_data_db = sqlite3.connect('star_data.db')\n",
    "star_data_cursor = star_data_db.cursor()\n",
    "\n",
    "stars = []\n",
    "star_data_cursor.execute('SELECT star_features FROM star')\n",
    "for row in star_data_cursor.fetchall():\n",
    "    # Deserializing features.\n",
    "    features = pickle.loads(row[0])\n",
    "    stars.append(features)\n",
    "    \n",
    "star_names = []\n",
    "star_data_cursor.execute('SELECT star_name FROM star')\n",
    "for row in star_data_cursor.fetchall():\n",
    "    # Deserializing features.\n",
    "    star_names.append(row[0])\n",
    "\n",
    "stars = np.array(stars)\n",
    "print('Done.')"
   ]
  },
  {
   "cell_type": "markdown",
   "metadata": {},
   "source": [
    "### Preprocess Data"
   ]
  },
  {
   "cell_type": "code",
   "execution_count": 3,
   "metadata": {},
   "outputs": [
    {
     "name": "stdout",
     "output_type": "stream",
     "text": [
      "(3, 63)\n",
      "(3, 45)\n",
      "Done\n"
     ]
    }
   ],
   "source": [
    "# Reading from disk.\n",
    "scaler_pickle = open('feature_scaling.pickle', 'rb')\n",
    "pca_pickle = open('pca.pickle', 'rb')\n",
    "\n",
    "# load the unpickle object into a variable\n",
    "scaler_disk = pickle.load(scaler_pickle)\n",
    "pca_disk = pickle.load(pca_pickle)\n",
    "\n",
    "# Feature scaling.\n",
    "stars = scaler_disk.transform(stars)\n",
    "# PCA.\n",
    "stars_pca = pca_disk.transform(stars)\n",
    "\n",
    "# Shape of old and new dataset.\n",
    "print(stars.shape)\n",
    "print(stars_pca.shape)\n",
    "print('Done')"
   ]
  },
  {
   "cell_type": "markdown",
   "metadata": {},
   "source": [
    "### Classify Stars"
   ]
  },
  {
   "cell_type": "code",
   "execution_count": 6,
   "metadata": {},
   "outputs": [
    {
     "name": "stdout",
     "output_type": "stream",
     "text": [
      "Star_Name Prediction\n",
      "test1.dat 0\n",
      "test2.dat 0\n",
      "test3_t2cep.dat 1\n"
     ]
    }
   ],
   "source": [
    "# Read classifier from disk.\n",
    "clf_pickle = open('voting_ensemble_without_colour.pickle', 'rb')\n",
    "# load the unpickle object into a variable\n",
    "clf_disk = pickle.load(clf_pickle)\n",
    "\n",
    "predictions = clf_disk.predict(stars_pca)\n",
    "\n",
    "print('Star_Name Prediction')\n",
    "for n in range(0, len(predictions)):\n",
    "    print(star_names[n], predictions[n])"
   ]
  },
  {
   "cell_type": "code",
   "execution_count": null,
   "metadata": {
    "collapsed": true
   },
   "outputs": [],
   "source": []
  }
 ],
 "metadata": {
  "kernelspec": {
   "display_name": "Python [conda root]",
   "language": "python",
   "name": "conda-root-py"
  },
  "language_info": {
   "codemirror_mode": {
    "name": "ipython",
    "version": 3
   },
   "file_extension": ".py",
   "mimetype": "text/x-python",
   "name": "python",
   "nbconvert_exporter": "python",
   "pygments_lexer": "ipython3",
   "version": "3.5.4"
  }
 },
 "nbformat": 4,
 "nbformat_minor": 1
}
