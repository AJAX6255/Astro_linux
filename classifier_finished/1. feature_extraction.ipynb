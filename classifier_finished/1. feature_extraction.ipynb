{
 "cells": [
  {
   "cell_type": "markdown",
   "metadata": {},
   "source": [
    "### Dependencies"
   ]
  },
  {
   "cell_type": "code",
   "execution_count": 1,
   "metadata": {},
   "outputs": [
    {
     "name": "stderr",
     "output_type": "stream",
     "text": [
      "/home/amanjot_bhullar/anaconda3/envs/py27/lib/python2.7/site-packages/statsmodels/compat/pandas.py:56: FutureWarning: The pandas.core.datetools module is deprecated and will be removed in a future version. Please use the pandas.tseries module instead.\n",
      "  from pandas.core import datetools\n"
     ]
    }
   ],
   "source": [
    "import numpy as np # Scientific computing \n",
    "import pandas as pd # Dataframe to organize content\n",
    "import os # Creating folders\n",
    "import pickle # Serializing module\n",
    "import FATS # Feature extraction library\n",
    "import sqlite3 # Database library\n",
    "import urllib # Reading and saving webpages"
   ]
  },
  {
   "cell_type": "markdown",
   "metadata": {},
   "source": [
    "### Extract Features from all Star Data\n",
    "A detailed explanation of the features that are extracted is given on http://isadoranun.github.io/tsfeat/FeaturesDocumentation.html.  In the below code, features are extracted from each data-set and stored in a database."
   ]
  },
  {
   "cell_type": "code",
   "execution_count": 6,
   "metadata": {},
   "outputs": [
    {
     "name": "stdout",
     "output_type": "stream",
     "text": [
      "['test1.dat', 'test2.dat', 'test3_t2cep.dat']\n",
      "test1.dat\n",
      "Warning: the feature Color could not be calculated because ['magnitude', 'time', 'magnitude2'] are needed.\n",
      "Warning: the feature Eta_color could not be calculated because ['magnitude', 'time', 'magnitude2'] are needed.\n",
      "Warning: the feature Q31_color could not be calculated because ['magnitude', 'time', 'magnitude2'] are needed.\n",
      "Warning: the feature StetsonJ could not be calculated because ['magnitude', 'time', 'error', 'magnitude2', 'error2'] are needed.\n",
      "Warning: the feature StetsonL could not be calculated because ['magnitude', 'time', 'error', 'magnitude2', 'error2'] are needed.\n"
     ]
    },
    {
     "name": "stderr",
     "output_type": "stream",
     "text": [
      "/home/amanjot_bhullar/anaconda3/envs/py27/lib/python2.7/site-packages/scipy/optimize/_minimize.py:394: RuntimeWarning: Method nelder-mead cannot handle constraints nor bounds.\n",
      "  RuntimeWarning)\n"
     ]
    },
    {
     "name": "stdout",
     "output_type": "stream",
     "text": [
      "test2.dat\n",
      "Warning: the feature Color could not be calculated because ['magnitude', 'time', 'magnitude2'] are needed.\n",
      "Warning: the feature Eta_color could not be calculated because ['magnitude', 'time', 'magnitude2'] are needed.\n",
      "Warning: the feature Q31_color could not be calculated because ['magnitude', 'time', 'magnitude2'] are needed.\n",
      "Warning: the feature StetsonJ could not be calculated because ['magnitude', 'time', 'error', 'magnitude2', 'error2'] are needed.\n",
      "Warning: the feature StetsonL could not be calculated because ['magnitude', 'time', 'error', 'magnitude2', 'error2'] are needed.\n",
      "test3_t2cep.dat\n",
      "Warning: the feature Color could not be calculated because ['magnitude', 'time', 'magnitude2'] are needed.\n",
      "Warning: the feature Eta_color could not be calculated because ['magnitude', 'time', 'magnitude2'] are needed.\n",
      "Warning: the feature Q31_color could not be calculated because ['magnitude', 'time', 'magnitude2'] are needed.\n",
      "Warning: the feature StetsonJ could not be calculated because ['magnitude', 'time', 'error', 'magnitude2', 'error2'] are needed.\n",
      "Warning: the feature StetsonL could not be calculated because ['magnitude', 'time', 'error', 'magnitude2', 'error2'] are needed.\n",
      "Data stored.\n"
     ]
    }
   ],
   "source": [
    "# A list of all star classes.\n",
    "stars = os.listdir('Time_Series/')\n",
    "\n",
    "# Initializing database and cursor.\n",
    "star_data_db = sqlite3.connect('star_data.db')\n",
    "star_data_cursor = star_data_db.cursor()\n",
    "    \n",
    "# Initializing table--(star type) and data type--(BLOB).\n",
    "star_data_cursor.execute(\"CREATE TABLE IF NOT EXISTS star(star_name BLOB, star_features BLOB)\")\n",
    "\n",
    "\n",
    "for star in stars:\n",
    "    print(star)\n",
    "    # Read Data.\n",
    "    star_data_path = 'Time_Series/'+star\n",
    "    star_data = pd.read_csv(star_data_path, sep=\"\\s+\", names=[\"time\", \"magnitude\", \"error\"])\n",
    "\n",
    "    # Creating lists from pandas dataframe (these are the parameters used to compute the features).\n",
    "    magnitude = star_data.magnitude.tolist()\n",
    "    time = star_data.time.tolist()\n",
    "    error = star_data.error.tolist()\n",
    "\n",
    "    #Extracting Features.\n",
    "    parameters = np.array([magnitude, time, error])\n",
    "    feature_space = FATS.FeatureSpace(Data=['magnitude','time', 'error'])\n",
    "    features = feature_space.calculateFeature(parameters)\n",
    "    features_array = features.result(method='array')\n",
    "\n",
    "    # Convert to float so that python3 can decode it.\n",
    "    temp = [float(x) for x in features_array]\n",
    "\n",
    "    # Serializing features so that it can be stored in database.\n",
    "    features_pickled = pickle.dumps(temp, pickle.HIGHEST_PROTOCOL)\n",
    "\n",
    "    # Storing star_data in database for future reference.\n",
    "    star_data_cursor.execute(\"INSERT INTO star(star_name, star_features) VALUES (?,?)\",\n",
    "                             (star, sqlite3.Binary(features_pickled)))\n",
    "    star_data_db.commit()\n",
    "\n",
    "\n",
    "print(\"Data stored.\")"
   ]
  },
  {
   "cell_type": "code",
   "execution_count": null,
   "metadata": {
    "collapsed": true
   },
   "outputs": [],
   "source": []
  }
 ],
 "metadata": {
  "kernelspec": {
   "display_name": "Python [conda env:py27]",
   "language": "python",
   "name": "conda-env-py27-py"
  },
  "language_info": {
   "codemirror_mode": {
    "name": "ipython",
    "version": 2
   },
   "file_extension": ".py",
   "mimetype": "text/x-python",
   "name": "python",
   "nbconvert_exporter": "python",
   "pygments_lexer": "ipython2",
   "version": "2.7.14"
  }
 },
 "nbformat": 4,
 "nbformat_minor": 1
}
